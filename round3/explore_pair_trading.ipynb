{
 "cells": [
  {
   "cell_type": "code",
   "execution_count": 1,
   "metadata": {},
   "outputs": [],
   "source": [
    "import pandas as pd\n",
    "import numpy as np\n",
    "import functools\n",
    "import seaborn as sns\n",
    "import scipy\n",
    "import collections\n",
    "import itertools\n",
    "import statsmodels.api as sm\n",
    "from statsmodels.tsa.stattools import adfuller\n",
    "import statsmodels.tsa.stattools as ts\n",
    "import matplotlib.pyplot as plt\n",
    "import matplotlib as mpl\n",
    "from tqdm import tqdm"
   ]
  },
  {
   "cell_type": "code",
   "execution_count": null,
   "metadata": {},
   "outputs": [],
   "source": []
  },
  {
   "cell_type": "code",
   "execution_count": null,
   "metadata": {},
   "outputs": [],
   "source": []
  },
  {
   "cell_type": "code",
   "execution_count": 2,
   "metadata": {},
   "outputs": [],
   "source": [
    "prices_day_0_df = pd.read_csv('../data/round-3-island-data-bottle/prices_round_3_day_0.csv', index_col='timestamp', sep=';')\n",
    "prices_day_1_df = pd.read_csv('../data/round-3-island-data-bottle/prices_round_3_day_1.csv', index_col='timestamp', sep=';')\n",
    "prices_day_2_df = pd.read_csv('../data/round-3-island-data-bottle/prices_round_3_day_2.csv', index_col='timestamp', sep=';')"
   ]
  },
  {
   "cell_type": "code",
   "execution_count": 3,
   "metadata": {},
   "outputs": [],
   "source": [
    "Data_df = pd.concat([prices_day_0_df,prices_day_1_df,prices_day_2_df],axis = 0)"
   ]
  },
  {
   "cell_type": "code",
   "execution_count": 28,
   "metadata": {},
   "outputs": [
    {
     "data": {
      "text/html": [
       "<div>\n",
       "<style scoped>\n",
       "    .dataframe tbody tr th:only-of-type {\n",
       "        vertical-align: middle;\n",
       "    }\n",
       "\n",
       "    .dataframe tbody tr th {\n",
       "        vertical-align: top;\n",
       "    }\n",
       "\n",
       "    .dataframe thead th {\n",
       "        text-align: right;\n",
       "    }\n",
       "</style>\n",
       "<table border=\"1\" class=\"dataframe\">\n",
       "  <thead>\n",
       "    <tr style=\"text-align: right;\">\n",
       "      <th></th>\n",
       "      <th>day</th>\n",
       "      <th>product</th>\n",
       "      <th>bid_price_1</th>\n",
       "      <th>bid_volume_1</th>\n",
       "      <th>bid_price_2</th>\n",
       "      <th>bid_volume_2</th>\n",
       "      <th>bid_price_3</th>\n",
       "      <th>bid_volume_3</th>\n",
       "      <th>ask_price_1</th>\n",
       "      <th>ask_volume_1</th>\n",
       "      <th>ask_price_2</th>\n",
       "      <th>ask_volume_2</th>\n",
       "      <th>ask_price_3</th>\n",
       "      <th>ask_volume_3</th>\n",
       "      <th>mid_price</th>\n",
       "      <th>profit_and_loss</th>\n",
       "    </tr>\n",
       "    <tr>\n",
       "      <th>timestamp</th>\n",
       "      <th></th>\n",
       "      <th></th>\n",
       "      <th></th>\n",
       "      <th></th>\n",
       "      <th></th>\n",
       "      <th></th>\n",
       "      <th></th>\n",
       "      <th></th>\n",
       "      <th></th>\n",
       "      <th></th>\n",
       "      <th></th>\n",
       "      <th></th>\n",
       "      <th></th>\n",
       "      <th></th>\n",
       "      <th></th>\n",
       "      <th></th>\n",
       "    </tr>\n",
       "  </thead>\n",
       "  <tbody>\n",
       "    <tr>\n",
       "      <th>0</th>\n",
       "      <td>0</td>\n",
       "      <td>CHOCOLATE</td>\n",
       "      <td>7999</td>\n",
       "      <td>111</td>\n",
       "      <td>NaN</td>\n",
       "      <td>NaN</td>\n",
       "      <td>NaN</td>\n",
       "      <td>NaN</td>\n",
       "      <td>8001</td>\n",
       "      <td>111</td>\n",
       "      <td>NaN</td>\n",
       "      <td>NaN</td>\n",
       "      <td>NaN</td>\n",
       "      <td>NaN</td>\n",
       "      <td>8000.0</td>\n",
       "      <td>0.0</td>\n",
       "    </tr>\n",
       "    <tr>\n",
       "      <th>0</th>\n",
       "      <td>0</td>\n",
       "      <td>STRAWBERRIES</td>\n",
       "      <td>3999</td>\n",
       "      <td>210</td>\n",
       "      <td>NaN</td>\n",
       "      <td>NaN</td>\n",
       "      <td>NaN</td>\n",
       "      <td>NaN</td>\n",
       "      <td>4001</td>\n",
       "      <td>210</td>\n",
       "      <td>NaN</td>\n",
       "      <td>NaN</td>\n",
       "      <td>NaN</td>\n",
       "      <td>NaN</td>\n",
       "      <td>4000.0</td>\n",
       "      <td>0.0</td>\n",
       "    </tr>\n",
       "  </tbody>\n",
       "</table>\n",
       "</div>"
      ],
      "text/plain": [
       "           day       product  bid_price_1  bid_volume_1  bid_price_2  \\\n",
       "timestamp                                                              \n",
       "0            0     CHOCOLATE         7999           111          NaN   \n",
       "0            0  STRAWBERRIES         3999           210          NaN   \n",
       "\n",
       "           bid_volume_2  bid_price_3  bid_volume_3  ask_price_1  ask_volume_1  \\\n",
       "timestamp                                                                       \n",
       "0                   NaN          NaN           NaN         8001           111   \n",
       "0                   NaN          NaN           NaN         4001           210   \n",
       "\n",
       "           ask_price_2  ask_volume_2  ask_price_3  ask_volume_3  mid_price  \\\n",
       "timestamp                                                                    \n",
       "0                  NaN           NaN          NaN           NaN     8000.0   \n",
       "0                  NaN           NaN          NaN           NaN     4000.0   \n",
       "\n",
       "           profit_and_loss  \n",
       "timestamp                   \n",
       "0                      0.0  \n",
       "0                      0.0  "
      ]
     },
     "execution_count": 28,
     "metadata": {},
     "output_type": "execute_result"
    }
   ],
   "source": [
    "Data_df.head(2)"
   ]
  },
  {
   "cell_type": "code",
   "execution_count": 34,
   "metadata": {},
   "outputs": [
    {
     "data": {
      "text/plain": [
       "-10.864"
      ]
     },
     "execution_count": 34,
     "metadata": {},
     "output_type": "execute_result"
    }
   ],
   "source": [
    "(Data_df.loc[Data_df['product']=='GIFT_BASKET']['bid_price_1'] - Data_df.loc[Data_df['product']=='GIFT_BASKET']['ask_price_1']).mean()"
   ]
  },
  {
   "cell_type": "code",
   "execution_count": 35,
   "metadata": {},
   "outputs": [
    {
     "data": {
      "text/plain": [
       "-1.3888333333333334"
      ]
     },
     "execution_count": 35,
     "metadata": {},
     "output_type": "execute_result"
    }
   ],
   "source": [
    "(Data_df.loc[Data_df['product']=='CHOCOLATE']['bid_price_1'] - Data_df.loc[Data_df['product']=='CHOCOLATE']['ask_price_1']).mean()"
   ]
  },
  {
   "cell_type": "code",
   "execution_count": 36,
   "metadata": {},
   "outputs": [
    {
     "data": {
      "text/plain": [
       "-1.3869"
      ]
     },
     "execution_count": 36,
     "metadata": {},
     "output_type": "execute_result"
    }
   ],
   "source": [
    "(Data_df.loc[Data_df['product']=='STRAWBERRIES']['bid_price_1'] - Data_df.loc[Data_df['product']=='STRAWBERRIES']['ask_price_1']).mean()"
   ]
  },
  {
   "cell_type": "code",
   "execution_count": 37,
   "metadata": {},
   "outputs": [
    {
     "data": {
      "text/plain": [
       "-1.2893"
      ]
     },
     "execution_count": 37,
     "metadata": {},
     "output_type": "execute_result"
    }
   ],
   "source": [
    "(Data_df.loc[Data_df['product']=='ROSES']['bid_price_1'] - Data_df.loc[Data_df['product']=='ROSES']['ask_price_1']).mean()"
   ]
  },
  {
   "cell_type": "code",
   "execution_count": 39,
   "metadata": {},
   "outputs": [
    {
     "data": {
      "text/html": [
       "<div>\n",
       "<style scoped>\n",
       "    .dataframe tbody tr th:only-of-type {\n",
       "        vertical-align: middle;\n",
       "    }\n",
       "\n",
       "    .dataframe tbody tr th {\n",
       "        vertical-align: top;\n",
       "    }\n",
       "\n",
       "    .dataframe thead th {\n",
       "        text-align: right;\n",
       "    }\n",
       "</style>\n",
       "<table border=\"1\" class=\"dataframe\">\n",
       "  <thead>\n",
       "    <tr style=\"text-align: right;\">\n",
       "      <th></th>\n",
       "      <th>day</th>\n",
       "      <th>product</th>\n",
       "      <th>bid_price_1</th>\n",
       "      <th>bid_volume_1</th>\n",
       "      <th>bid_price_2</th>\n",
       "      <th>bid_volume_2</th>\n",
       "      <th>bid_price_3</th>\n",
       "      <th>bid_volume_3</th>\n",
       "      <th>ask_price_1</th>\n",
       "      <th>ask_volume_1</th>\n",
       "      <th>ask_price_2</th>\n",
       "      <th>ask_volume_2</th>\n",
       "      <th>ask_price_3</th>\n",
       "      <th>ask_volume_3</th>\n",
       "      <th>mid_price</th>\n",
       "      <th>profit_and_loss</th>\n",
       "    </tr>\n",
       "    <tr>\n",
       "      <th>timestamp</th>\n",
       "      <th></th>\n",
       "      <th></th>\n",
       "      <th></th>\n",
       "      <th></th>\n",
       "      <th></th>\n",
       "      <th></th>\n",
       "      <th></th>\n",
       "      <th></th>\n",
       "      <th></th>\n",
       "      <th></th>\n",
       "      <th></th>\n",
       "      <th></th>\n",
       "      <th></th>\n",
       "      <th></th>\n",
       "      <th></th>\n",
       "      <th></th>\n",
       "    </tr>\n",
       "  </thead>\n",
       "  <tbody>\n",
       "    <tr>\n",
       "      <th>0</th>\n",
       "      <td>0</td>\n",
       "      <td>GIFT_BASKET</td>\n",
       "      <td>71348</td>\n",
       "      <td>19</td>\n",
       "      <td>71347.0</td>\n",
       "      <td>24.0</td>\n",
       "      <td>NaN</td>\n",
       "      <td>NaN</td>\n",
       "      <td>71362</td>\n",
       "      <td>19</td>\n",
       "      <td>71363.0</td>\n",
       "      <td>24.0</td>\n",
       "      <td>NaN</td>\n",
       "      <td>NaN</td>\n",
       "      <td>71355.0</td>\n",
       "      <td>0.0</td>\n",
       "    </tr>\n",
       "    <tr>\n",
       "      <th>100</th>\n",
       "      <td>0</td>\n",
       "      <td>GIFT_BASKET</td>\n",
       "      <td>71344</td>\n",
       "      <td>1</td>\n",
       "      <td>71343.0</td>\n",
       "      <td>12.0</td>\n",
       "      <td>71342.0</td>\n",
       "      <td>20.0</td>\n",
       "      <td>71355</td>\n",
       "      <td>1</td>\n",
       "      <td>71356.0</td>\n",
       "      <td>12.0</td>\n",
       "      <td>71357.0</td>\n",
       "      <td>20.0</td>\n",
       "      <td>71349.5</td>\n",
       "      <td>0.0</td>\n",
       "    </tr>\n",
       "    <tr>\n",
       "      <th>200</th>\n",
       "      <td>0</td>\n",
       "      <td>GIFT_BASKET</td>\n",
       "      <td>71344</td>\n",
       "      <td>4</td>\n",
       "      <td>71339.0</td>\n",
       "      <td>1.0</td>\n",
       "      <td>71338.0</td>\n",
       "      <td>14.0</td>\n",
       "      <td>71350</td>\n",
       "      <td>1</td>\n",
       "      <td>71351.0</td>\n",
       "      <td>14.0</td>\n",
       "      <td>71352.0</td>\n",
       "      <td>21.0</td>\n",
       "      <td>71347.0</td>\n",
       "      <td>0.0</td>\n",
       "    </tr>\n",
       "    <tr>\n",
       "      <th>300</th>\n",
       "      <td>0</td>\n",
       "      <td>GIFT_BASKET</td>\n",
       "      <td>71345</td>\n",
       "      <td>2</td>\n",
       "      <td>71343.0</td>\n",
       "      <td>11.0</td>\n",
       "      <td>71342.0</td>\n",
       "      <td>29.0</td>\n",
       "      <td>71356</td>\n",
       "      <td>2</td>\n",
       "      <td>71357.0</td>\n",
       "      <td>11.0</td>\n",
       "      <td>71358.0</td>\n",
       "      <td>29.0</td>\n",
       "      <td>71350.5</td>\n",
       "      <td>0.0</td>\n",
       "    </tr>\n",
       "    <tr>\n",
       "      <th>400</th>\n",
       "      <td>0</td>\n",
       "      <td>GIFT_BASKET</td>\n",
       "      <td>71336</td>\n",
       "      <td>2</td>\n",
       "      <td>71335.0</td>\n",
       "      <td>13.0</td>\n",
       "      <td>71334.0</td>\n",
       "      <td>25.0</td>\n",
       "      <td>71347</td>\n",
       "      <td>2</td>\n",
       "      <td>71348.0</td>\n",
       "      <td>13.0</td>\n",
       "      <td>71349.0</td>\n",
       "      <td>25.0</td>\n",
       "      <td>71341.5</td>\n",
       "      <td>0.0</td>\n",
       "    </tr>\n",
       "  </tbody>\n",
       "</table>\n",
       "</div>"
      ],
      "text/plain": [
       "           day      product  bid_price_1  bid_volume_1  bid_price_2  \\\n",
       "timestamp                                                             \n",
       "0            0  GIFT_BASKET        71348            19      71347.0   \n",
       "100          0  GIFT_BASKET        71344             1      71343.0   \n",
       "200          0  GIFT_BASKET        71344             4      71339.0   \n",
       "300          0  GIFT_BASKET        71345             2      71343.0   \n",
       "400          0  GIFT_BASKET        71336             2      71335.0   \n",
       "\n",
       "           bid_volume_2  bid_price_3  bid_volume_3  ask_price_1  ask_volume_1  \\\n",
       "timestamp                                                                       \n",
       "0                  24.0          NaN           NaN        71362            19   \n",
       "100                12.0      71342.0          20.0        71355             1   \n",
       "200                 1.0      71338.0          14.0        71350             1   \n",
       "300                11.0      71342.0          29.0        71356             2   \n",
       "400                13.0      71334.0          25.0        71347             2   \n",
       "\n",
       "           ask_price_2  ask_volume_2  ask_price_3  ask_volume_3  mid_price  \\\n",
       "timestamp                                                                    \n",
       "0              71363.0          24.0          NaN           NaN    71355.0   \n",
       "100            71356.0          12.0      71357.0          20.0    71349.5   \n",
       "200            71351.0          14.0      71352.0          21.0    71347.0   \n",
       "300            71357.0          11.0      71358.0          29.0    71350.5   \n",
       "400            71348.0          13.0      71349.0          25.0    71341.5   \n",
       "\n",
       "           profit_and_loss  \n",
       "timestamp                   \n",
       "0                      0.0  \n",
       "100                    0.0  \n",
       "200                    0.0  \n",
       "300                    0.0  \n",
       "400                    0.0  "
      ]
     },
     "execution_count": 39,
     "metadata": {},
     "output_type": "execute_result"
    }
   ],
   "source": [
    "df_gift_basket_all_prices_day_012.head()"
   ]
  },
  {
   "cell_type": "code",
   "execution_count": null,
   "metadata": {},
   "outputs": [],
   "source": []
  },
  {
   "cell_type": "code",
   "execution_count": 4,
   "metadata": {},
   "outputs": [],
   "source": [
    "df_chocolate_day_012 = Data_df.loc[Data_df['product']=='CHOCOLATE'].rename(columns={'mid_price': 'chocolate_mid_price'})[['day', 'chocolate_mid_price']]\n",
    "df_strawberries_day_012 = Data_df.loc[Data_df['product']=='STRAWBERRIES'].rename(columns={'mid_price': 'strawberries_mid_price'})[['day', 'strawberries_mid_price']]\n",
    "df_roses_day_012 = Data_df.loc[Data_df['product']=='ROSES'].rename(columns={'mid_price': 'roses_mid_price'})[['day', 'roses_mid_price']]\n",
    "df_gift_basket_day_012 = Data_df.loc[Data_df['product']=='GIFT_BASKET'].rename(columns={'mid_price': 'gift_basket_mid_price'})[['day', 'gift_basket_mid_price']]"
   ]
  },
  {
   "cell_type": "code",
   "execution_count": 5,
   "metadata": {},
   "outputs": [],
   "source": [
    "df_all_mid_prices_day_012 = functools.reduce(lambda left, right: pd.merge(left, right, on=['timestamp', 'day']), \n",
    "                                        [df_chocolate_day_012, df_strawberries_day_012, df_roses_day_012, df_gift_basket_day_012])"
   ]
  },
  {
   "cell_type": "code",
   "execution_count": 11,
   "metadata": {},
   "outputs": [
    {
     "data": {
      "text/html": [
       "<div>\n",
       "<style scoped>\n",
       "    .dataframe tbody tr th:only-of-type {\n",
       "        vertical-align: middle;\n",
       "    }\n",
       "\n",
       "    .dataframe tbody tr th {\n",
       "        vertical-align: top;\n",
       "    }\n",
       "\n",
       "    .dataframe thead th {\n",
       "        text-align: right;\n",
       "    }\n",
       "</style>\n",
       "<table border=\"1\" class=\"dataframe\">\n",
       "  <thead>\n",
       "    <tr style=\"text-align: right;\">\n",
       "      <th></th>\n",
       "      <th>day</th>\n",
       "      <th>chocolate_mid_price</th>\n",
       "      <th>strawberries_mid_price</th>\n",
       "      <th>roses_mid_price</th>\n",
       "      <th>gift_basket_mid_price</th>\n",
       "      <th>edge_raw</th>\n",
       "      <th>edge_demean</th>\n",
       "    </tr>\n",
       "    <tr>\n",
       "      <th>timestamp</th>\n",
       "      <th></th>\n",
       "      <th></th>\n",
       "      <th></th>\n",
       "      <th></th>\n",
       "      <th></th>\n",
       "      <th></th>\n",
       "      <th></th>\n",
       "    </tr>\n",
       "  </thead>\n",
       "  <tbody>\n",
       "    <tr>\n",
       "      <th>0</th>\n",
       "      <td>0</td>\n",
       "      <td>8000.0</td>\n",
       "      <td>4000.0</td>\n",
       "      <td>15000.0</td>\n",
       "      <td>71355.0</td>\n",
       "      <td>355.0</td>\n",
       "      <td>-24.490483</td>\n",
       "    </tr>\n",
       "    <tr>\n",
       "      <th>100</th>\n",
       "      <td>0</td>\n",
       "      <td>8001.5</td>\n",
       "      <td>3999.5</td>\n",
       "      <td>15000.0</td>\n",
       "      <td>71349.5</td>\n",
       "      <td>346.5</td>\n",
       "      <td>-32.990483</td>\n",
       "    </tr>\n",
       "    <tr>\n",
       "      <th>200</th>\n",
       "      <td>0</td>\n",
       "      <td>8001.0</td>\n",
       "      <td>3999.5</td>\n",
       "      <td>15000.5</td>\n",
       "      <td>71347.0</td>\n",
       "      <td>345.5</td>\n",
       "      <td>-33.990483</td>\n",
       "    </tr>\n",
       "    <tr>\n",
       "      <th>300</th>\n",
       "      <td>0</td>\n",
       "      <td>8002.5</td>\n",
       "      <td>3999.5</td>\n",
       "      <td>15000.0</td>\n",
       "      <td>71350.5</td>\n",
       "      <td>343.5</td>\n",
       "      <td>-35.990483</td>\n",
       "    </tr>\n",
       "    <tr>\n",
       "      <th>400</th>\n",
       "      <td>0</td>\n",
       "      <td>8002.0</td>\n",
       "      <td>3999.5</td>\n",
       "      <td>14997.5</td>\n",
       "      <td>71341.5</td>\n",
       "      <td>339.0</td>\n",
       "      <td>-40.490483</td>\n",
       "    </tr>\n",
       "  </tbody>\n",
       "</table>\n",
       "</div>"
      ],
      "text/plain": [
       "           day  chocolate_mid_price  strawberries_mid_price  roses_mid_price  \\\n",
       "timestamp                                                                      \n",
       "0            0               8000.0                  4000.0          15000.0   \n",
       "100          0               8001.5                  3999.5          15000.0   \n",
       "200          0               8001.0                  3999.5          15000.5   \n",
       "300          0               8002.5                  3999.5          15000.0   \n",
       "400          0               8002.0                  3999.5          14997.5   \n",
       "\n",
       "           gift_basket_mid_price  edge_raw  edge_demean  \n",
       "timestamp                                                \n",
       "0                        71355.0     355.0   -24.490483  \n",
       "100                      71349.5     346.5   -32.990483  \n",
       "200                      71347.0     345.5   -33.990483  \n",
       "300                      71350.5     343.5   -35.990483  \n",
       "400                      71341.5     339.0   -40.490483  "
      ]
     },
     "execution_count": 11,
     "metadata": {},
     "output_type": "execute_result"
    }
   ],
   "source": [
    "df_all_mid_prices_day_012.head()"
   ]
  },
  {
   "cell_type": "code",
   "execution_count": 26,
   "metadata": {},
   "outputs": [
    {
     "data": {
      "text/plain": [
       "(7915.34725, 4026.83735, 14506.89705)"
      ]
     },
     "execution_count": 26,
     "metadata": {},
     "output_type": "execute_result"
    }
   ],
   "source": [
    "df_all_mid_prices_day_012.chocolate_mid_price.mean(), df_all_mid_prices_day_012.strawberries_mid_price.mean(), df_all_mid_prices_day_012.roses_mid_price.mean()"
   ]
  },
  {
   "cell_type": "code",
   "execution_count": 20,
   "metadata": {},
   "outputs": [
    {
     "data": {
      "text/plain": [
       "(70708.80063333333, 70329.31015)"
      ]
     },
     "execution_count": 20,
     "metadata": {},
     "output_type": "execute_result"
    }
   ],
   "source": [
    "df_all_mid_prices_day_012.gift_basket_mid_price.mean(), 4*df_all_mid_prices_day_012.chocolate_mid_price.mean()+6*df_all_mid_prices_day_012.strawberries_mid_price.mean()+df_all_mid_prices_day_012.roses_mid_price.mean()"
   ]
  },
  {
   "cell_type": "code",
   "execution_count": 25,
   "metadata": {},
   "outputs": [
    {
     "data": {
      "text/plain": [
       "(8.933126797858847, 17.559388295962172, 4.874150577454697)"
      ]
     },
     "execution_count": 25,
     "metadata": {},
     "output_type": "execute_result"
    }
   ],
   "source": [
    "70708.80063333333/7915.34725, 70708.80063333333/4026.83735, 70708.80063333333/14506.89705"
   ]
  },
  {
   "cell_type": "code",
   "execution_count": null,
   "metadata": {},
   "outputs": [],
   "source": []
  },
  {
   "cell_type": "code",
   "execution_count": null,
   "metadata": {},
   "outputs": [],
   "source": []
  },
  {
   "cell_type": "code",
   "execution_count": 7,
   "metadata": {},
   "outputs": [],
   "source": [
    "df_all_mid_prices_day_012['edge_raw'] = df_all_mid_prices_day_012.apply(lambda row:\n",
    "        row.gift_basket_mid_price - 4*row.chocolate_mid_price - 6*row.strawberries_mid_price - row.roses_mid_price\n",
    "        , axis=1)"
   ]
  },
  {
   "cell_type": "code",
   "execution_count": 9,
   "metadata": {},
   "outputs": [
    {
     "data": {
      "text/plain": [
       "379.4904833333333"
      ]
     },
     "execution_count": 9,
     "metadata": {},
     "output_type": "execute_result"
    }
   ],
   "source": [
    "df_all_mid_prices_day_012['edge_raw'].mean()"
   ]
  },
  {
   "cell_type": "code",
   "execution_count": 40,
   "metadata": {},
   "outputs": [],
   "source": [
    "df_gift_basket_all_prices_day_012 = Data_df.loc[Data_df['product']=='GIFT_BASKET']"
   ]
  },
  {
   "cell_type": "code",
   "execution_count": 42,
   "metadata": {},
   "outputs": [],
   "source": [
    "df_gift_basket_all_prices_day_012 = df_gift_basket_all_prices_day_012.join(df_all_mid_prices_day_012['edge_raw'])"
   ]
  },
  {
   "cell_type": "code",
   "execution_count": 44,
   "metadata": {},
   "outputs": [],
   "source": [
    "df_gift_basket_all_prices_day_012['edge_demean'] = df_gift_basket_all_prices_day_012['edge_raw'] - df_gift_basket_all_prices_day_012['edge_raw'].mean()"
   ]
  },
  {
   "cell_type": "code",
   "execution_count": 47,
   "metadata": {},
   "outputs": [],
   "source": [
    "df_gift_basket_all_prices_day_012['best_bid_mid_price_diff'] = df_gift_basket_all_prices_day_012['bid_price_1'] - df_gift_basket_all_prices_day_012['mid_price']\n",
    "df_gift_basket_all_prices_day_012['best_ask_mid_price_diff'] = df_gift_basket_all_prices_day_012['ask_price_1'] - df_gift_basket_all_prices_day_012['mid_price']"
   ]
  },
  {
   "cell_type": "code",
   "execution_count": 48,
   "metadata": {},
   "outputs": [
    {
     "data": {
      "text/plain": [
       "(-5.432, 5.432)"
      ]
     },
     "execution_count": 48,
     "metadata": {},
     "output_type": "execute_result"
    }
   ],
   "source": [
    "df_gift_basket_all_prices_day_012['best_bid_mid_price_diff'].mean(), df_gift_basket_all_prices_day_012['best_ask_mid_price_diff'].mean()"
   ]
  },
  {
   "cell_type": "code",
   "execution_count": null,
   "metadata": {},
   "outputs": [],
   "source": []
  },
  {
   "cell_type": "code",
   "execution_count": 10,
   "metadata": {},
   "outputs": [],
   "source": [
    "df_all_mid_prices_day_012['edge_demean'] = df_all_mid_prices_day_012['edge_raw'] - df_all_mid_prices_day_012['edge_raw'].mean()"
   ]
  },
  {
   "cell_type": "code",
   "execution_count": 12,
   "metadata": {},
   "outputs": [
    {
     "data": {
      "text/plain": [
       "<Axes: xlabel='timestamp'>"
      ]
     },
     "execution_count": 12,
     "metadata": {},
     "output_type": "execute_result"
    },
    {
     "data": {
      "image/png": "[encoded data removed]",
      "text/plain": [
       "<Figure size 640x480 with 1 Axes>"
      ]
     },
     "metadata": {},
     "output_type": "display_data"
    }
   ],
   "source": [
    "df_all_mid_prices_day_012['edge_demean'].plot()"
   ]
  },
  {
   "cell_type": "code",
   "execution_count": 13,
   "metadata": {},
   "outputs": [
    {
     "data": {
      "text/plain": [
       "<Axes: xlabel='edge_demean', ylabel='Density'>"
      ]
     },
     "execution_count": 13,
     "metadata": {},
     "output_type": "execute_result"
    },
    {
     "data": {
      "image/png": "[encoded data removed]",
      "text/plain": [
       "<Figure size 640x480 with 1 Axes>"
      ]
     },
     "metadata": {},
     "output_type": "display_data"
    }
   ],
   "source": [
    "sns.kdeplot(df_all_mid_prices_day_012['edge_demean'], fill=True)"
   ]
  },
  {
   "cell_type": "code",
   "execution_count": 16,
   "metadata": {},
   "outputs": [
    {
     "data": {
      "text/plain": [
       "(3.007395813862483e-14, 76.42438217375009)"
      ]
     },
     "execution_count": 16,
     "metadata": {},
     "output_type": "execute_result"
    }
   ],
   "source": [
    "df_all_mid_prices_day_012['edge_demean'].mean(), df_all_mid_prices_day_012['edge_demean'].std()"
   ]
  },
  {
   "cell_type": "code",
   "execution_count": 27,
   "metadata": {},
   "outputs": [
    {
     "data": {
      "text/plain": [
       "(-239.49048333333332, 252.50951666666668)"
      ]
     },
     "execution_count": 27,
     "metadata": {},
     "output_type": "execute_result"
    }
   ],
   "source": [
    "df_all_mid_prices_day_012['edge_demean'].min(), df_all_mid_prices_day_012['edge_demean'].max() "
   ]
  },
  {
   "cell_type": "markdown",
   "metadata": {},
   "source": [
    "### may keep a rolling mean, std, max of the edge in live trading"
   ]
  },
  {
   "cell_type": "code",
   "execution_count": null,
   "metadata": {},
   "outputs": [],
   "source": []
  },
  {
   "cell_type": "code",
   "execution_count": null,
   "metadata": {},
   "outputs": [],
   "source": []
  },
  {
   "cell_type": "code",
   "execution_count": null,
   "metadata": {},
   "outputs": [],
   "source": []
  },
  {
   "cell_type": "code",
   "execution_count": null,
   "metadata": {},
   "outputs": [],
   "source": []
  },
  {
   "cell_type": "code",
   "execution_count": null,
   "metadata": {},
   "outputs": [],
   "source": []
  },
  {
   "cell_type": "code",
   "execution_count": null,
   "metadata": {},
   "outputs": [],
   "source": []
  }
 ],
 "metadata": {
  "kernelspec": {
   "display_name": "imc_env",
   "language": "python",
   "name": "python3"
  },
  "language_info": {
   "codemirror_mode": {
    "name": "ipython",
    "version": 3
   },
   "file_extension": ".py",
   "mimetype": "text/x-python",
   "name": "python",
   "nbconvert_exporter": "python",
   "pygments_lexer": "ipython3",
   "version": "3.12.2"
  }
 },
 "nbformat": 4,
 "nbformat_minor": 2
}
