{
 "cells": [
  {
   "cell_type": "code",
   "execution_count": 48,
   "metadata": {},
   "outputs": [],
   "source": [
    "import pandas as pd\n",
    "import numpy as np\n",
    "import seaborn as sns\n",
    "import scipy\n",
    "import statsmodels.api as sm\n",
    "from statsmodels.tsa.stattools import adfuller\n",
    "import statsmodels.tsa.stattools as ts\n",
    "import matplotlib.pyplot as plt"
   ]
  },
  {
   "cell_type": "code",
   "execution_count": 55,
   "metadata": {},
   "outputs": [],
   "source": [
    "from sklearn.cross_decomposition import PLSRegression\n",
    "from sklearn.metrics import mean_squared_error, r2_score, mean_absolute_error\n",
    "from sklearn.model_selection import TimeSeriesSplit\n",
    "from sklearn.preprocessing import StandardScaler"
   ]
  },
  {
   "cell_type": "code",
   "execution_count": null,
   "metadata": {},
   "outputs": [],
   "source": []
  },
  {
   "cell_type": "code",
   "execution_count": 3,
   "metadata": {},
   "outputs": [],
   "source": [
    "prices_day_1_df = pd.read_csv('../data/round-2-island-data-bottle/prices_round_2_day_0.csv', index_col='timestamp', sep=';')\n",
    "prices_day_neg1_df = pd.read_csv('../data/round-2-island-data-bottle/prices_round_2_day_-1.csv', index_col='timestamp', sep=';')\n",
    "prices_day_0_df = pd.read_csv('../data/round-2-island-data-bottle/prices_round_2_day_1.csv', index_col='timestamp', sep=';')"
   ]
  },
  {
   "cell_type": "code",
   "execution_count": 10,
   "metadata": {},
   "outputs": [],
   "source": [
    "Data_df = pd.concat([prices_day_neg1_df,prices_day_0_df,prices_day_1_df],axis = 0)"
   ]
  },
  {
   "cell_type": "code",
   "execution_count": 11,
   "metadata": {},
   "outputs": [
    {
     "data": {
      "text/html": [
       "<div>\n",
       "<style scoped>\n",
       "    .dataframe tbody tr th:only-of-type {\n",
       "        vertical-align: middle;\n",
       "    }\n",
       "\n",
       "    .dataframe tbody tr th {\n",
       "        vertical-align: top;\n",
       "    }\n",
       "\n",
       "    .dataframe thead th {\n",
       "        text-align: right;\n",
       "    }\n",
       "</style>\n",
       "<table border=\"1\" class=\"dataframe\">\n",
       "  <thead>\n",
       "    <tr style=\"text-align: right;\">\n",
       "      <th></th>\n",
       "      <th>ORCHIDS</th>\n",
       "      <th>TRANSPORT_FEES</th>\n",
       "      <th>EXPORT_TARIFF</th>\n",
       "      <th>IMPORT_TARIFF</th>\n",
       "      <th>SUNLIGHT</th>\n",
       "      <th>HUMIDITY</th>\n",
       "      <th>DAY</th>\n",
       "    </tr>\n",
       "    <tr>\n",
       "      <th>timestamp</th>\n",
       "      <th></th>\n",
       "      <th></th>\n",
       "      <th></th>\n",
       "      <th></th>\n",
       "      <th></th>\n",
       "      <th></th>\n",
       "      <th></th>\n",
       "    </tr>\n",
       "  </thead>\n",
       "  <tbody>\n",
       "    <tr>\n",
       "      <th>0</th>\n",
       "      <td>1200.00</td>\n",
       "      <td>1.5</td>\n",
       "      <td>10.5</td>\n",
       "      <td>-2.0</td>\n",
       "      <td>2500.0000</td>\n",
       "      <td>79.00000</td>\n",
       "      <td>-1</td>\n",
       "    </tr>\n",
       "    <tr>\n",
       "      <th>100</th>\n",
       "      <td>1201.75</td>\n",
       "      <td>1.5</td>\n",
       "      <td>9.5</td>\n",
       "      <td>-2.0</td>\n",
       "      <td>2499.4197</td>\n",
       "      <td>79.00410</td>\n",
       "      <td>-1</td>\n",
       "    </tr>\n",
       "    <tr>\n",
       "      <th>200</th>\n",
       "      <td>1201.75</td>\n",
       "      <td>1.5</td>\n",
       "      <td>9.5</td>\n",
       "      <td>-2.0</td>\n",
       "      <td>2498.8457</td>\n",
       "      <td>79.00821</td>\n",
       "      <td>-1</td>\n",
       "    </tr>\n",
       "    <tr>\n",
       "      <th>300</th>\n",
       "      <td>1201.75</td>\n",
       "      <td>1.5</td>\n",
       "      <td>9.5</td>\n",
       "      <td>-2.0</td>\n",
       "      <td>2498.2780</td>\n",
       "      <td>79.01234</td>\n",
       "      <td>-1</td>\n",
       "    </tr>\n",
       "    <tr>\n",
       "      <th>400</th>\n",
       "      <td>1201.75</td>\n",
       "      <td>1.5</td>\n",
       "      <td>9.5</td>\n",
       "      <td>-2.0</td>\n",
       "      <td>2497.7166</td>\n",
       "      <td>79.01649</td>\n",
       "      <td>-1</td>\n",
       "    </tr>\n",
       "  </tbody>\n",
       "</table>\n",
       "</div>"
      ],
      "text/plain": [
       "           ORCHIDS  TRANSPORT_FEES  EXPORT_TARIFF  IMPORT_TARIFF   SUNLIGHT  \\\n",
       "timestamp                                                                     \n",
       "0          1200.00             1.5           10.5           -2.0  2500.0000   \n",
       "100        1201.75             1.5            9.5           -2.0  2499.4197   \n",
       "200        1201.75             1.5            9.5           -2.0  2498.8457   \n",
       "300        1201.75             1.5            9.5           -2.0  2498.2780   \n",
       "400        1201.75             1.5            9.5           -2.0  2497.7166   \n",
       "\n",
       "           HUMIDITY  DAY  \n",
       "timestamp                 \n",
       "0          79.00000   -1  \n",
       "100        79.00410   -1  \n",
       "200        79.00821   -1  \n",
       "300        79.01234   -1  \n",
       "400        79.01649   -1  "
      ]
     },
     "execution_count": 11,
     "metadata": {},
     "output_type": "execute_result"
    }
   ],
   "source": [
    "Data_df.head()"
   ]
  },
  {
   "cell_type": "code",
   "execution_count": 13,
   "metadata": {},
   "outputs": [],
   "source": [
    "prices_3days_arr = Data_df.ORCHIDS.values"
   ]
  },
  {
   "cell_type": "code",
   "execution_count": 19,
   "metadata": {},
   "outputs": [],
   "source": [
    "returns_3days_arr = Data_df.ORCHIDS.pct_change().dropna()"
   ]
  },
  {
   "cell_type": "code",
   "execution_count": null,
   "metadata": {},
   "outputs": [],
   "source": []
  },
  {
   "cell_type": "code",
   "execution_count": 32,
   "metadata": {},
   "outputs": [
    {
     "name": "stdout",
     "output_type": "stream",
     "text": [
      "Augmneted Dickey_fuller Statistic - ORCHIDS: -1.301728\n",
      "p-value: 0.628381\n",
      "critical values at different levels:\n",
      "\t1%: -3.431\n",
      "\t5%: -2.862\n",
      "\t10%: -2.567\n"
     ]
    }
   ],
   "source": [
    "# passing the extracted passengers count to adfuller function.\n",
    "# result of adfuller function is stored in a res variable\n",
    "res = adfuller(prices_3days_arr)\n",
    " \n",
    "# Printing the statistical result of the adfuller test\n",
    "print('Augmneted Dickey_fuller Statistic - ORCHIDS: %f' % res[0])\n",
    "print('p-value: %f' % res[1])\n",
    " \n",
    "# printing the critical values at different alpha levels.\n",
    "print('critical values at different levels:')\n",
    "for k, v in res[4].items():\n",
    "    print('\\t%s: %.3f' % (k, v))"
   ]
  },
  {
   "cell_type": "code",
   "execution_count": 33,
   "metadata": {},
   "outputs": [
    {
     "name": "stdout",
     "output_type": "stream",
     "text": [
      "Augmneted Dickey_fuller Statistic - ORCHIDS simple return: -123.140894\n",
      "p-value: 0.000000\n",
      "critical values at different levels:\n",
      "\t1%: -3.431\n",
      "\t5%: -2.862\n",
      "\t10%: -2.567\n"
     ]
    }
   ],
   "source": [
    "# passing the extracted passengers count to adfuller function.\n",
    "# result of adfuller function is stored in a res variable\n",
    "res = adfuller(returns_3days_arr)\n",
    " \n",
    "# Printing the statistical result of the adfuller test\n",
    "print('Augmneted Dickey_fuller Statistic - ORCHIDS simple return: %f' % res[0])\n",
    "print('p-value: %f' % res[1])\n",
    " \n",
    "# printing the critical values at different alpha levels.\n",
    "print('critical values at different levels:')\n",
    "for k, v in res[4].items():\n",
    "    print('\\t%s: %.3f' % (k, v))"
   ]
  },
  {
   "cell_type": "code",
   "execution_count": 30,
   "metadata": {},
   "outputs": [
    {
     "name": "stdout",
     "output_type": "stream",
     "text": [
      "Augmneted Dickey_fuller Statistic - SUNLIGHT: -1.350860\n",
      "p-value: 0.605595\n",
      "critical values at different levels:\n",
      "\t1%: -3.431\n",
      "\t5%: -2.862\n",
      "\t10%: -2.567\n"
     ]
    }
   ],
   "source": [
    "# passing the extracted passengers count to adfuller function.\n",
    "# result of adfuller function is stored in a res variable\n",
    "res = adfuller(Data_df.SUNLIGHT.values)\n",
    " \n",
    "# Printing the statistical result of the adfuller test\n",
    "print('Augmneted Dickey_fuller Statistic - SUNLIGHT: %f' % res[0])\n",
    "print('p-value: %f' % res[1])\n",
    " \n",
    "# printing the critical values at different alpha levels.\n",
    "print('critical values at different levels:')\n",
    "for k, v in res[4].items():\n",
    "    print('\\t%s: %.3f' % (k, v))"
   ]
  },
  {
   "cell_type": "code",
   "execution_count": 31,
   "metadata": {},
   "outputs": [
    {
     "name": "stdout",
     "output_type": "stream",
     "text": [
      "Augmneted Dickey_fuller Statistic - HUMIDITY: -1.131613\n",
      "p-value: 0.702302\n",
      "critical values at different levels:\n",
      "\t1%: -3.431\n",
      "\t5%: -2.862\n",
      "\t10%: -2.567\n"
     ]
    }
   ],
   "source": [
    "# passing the extracted passengers count to adfuller function.\n",
    "# result of adfuller function is stored in a res variable\n",
    "res = adfuller(Data_df.HUMIDITY.values)\n",
    " \n",
    "# Printing the statistical result of the adfuller test\n",
    "print('Augmneted Dickey_fuller Statistic - HUMIDITY: %f' % res[0])\n",
    "print('p-value: %f' % res[1])\n",
    " \n",
    "# printing the critical values at different alpha levels.\n",
    "print('critical values at different levels:')\n",
    "for k, v in res[4].items():\n",
    "    print('\\t%s: %.3f' % (k, v))"
   ]
  },
  {
   "cell_type": "code",
   "execution_count": null,
   "metadata": {},
   "outputs": [],
   "source": []
  },
  {
   "cell_type": "code",
   "execution_count": null,
   "metadata": {},
   "outputs": [],
   "source": []
  },
  {
   "cell_type": "code",
   "execution_count": 23,
   "metadata": {},
   "outputs": [
    {
     "data": {
      "text/plain": [
       "(-2.1507203239055794,\n",
       " 0.4499021276879138,\n",
       " array([-3.89680508, -3.33633366, -3.04459137]))"
      ]
     },
     "execution_count": 23,
     "metadata": {},
     "output_type": "execute_result"
    }
   ],
   "source": [
    "ts.coint(Data_df.SUNLIGHT, Data_df.ORCHIDS)"
   ]
  },
  {
   "cell_type": "code",
   "execution_count": 24,
   "metadata": {},
   "outputs": [
    {
     "data": {
      "text/plain": [
       "(-2.0810023026459232,\n",
       " 0.4863006246382938,\n",
       " array([-3.89680508, -3.33633366, -3.04459137]))"
      ]
     },
     "execution_count": 24,
     "metadata": {},
     "output_type": "execute_result"
    }
   ],
   "source": [
    "ts.coint(Data_df.HUMIDITY, Data_df.ORCHIDS)"
   ]
  },
  {
   "cell_type": "code",
   "execution_count": 25,
   "metadata": {},
   "outputs": [
    {
     "data": {
      "text/plain": [
       "(-1.2954306571133984,\n",
       " 0.8311101858829645,\n",
       " array([-3.89680508, -3.33633366, -3.04459137]))"
      ]
     },
     "execution_count": 25,
     "metadata": {},
     "output_type": "execute_result"
    }
   ],
   "source": [
    "ts.coint(Data_df.HUMIDITY, Data_df.SUNLIGHT)"
   ]
  },
  {
   "cell_type": "code",
   "execution_count": 26,
   "metadata": {},
   "outputs": [
    {
     "data": {
      "text/plain": [
       "(-1.3799056718498104,\n",
       " 0.8043179814856429,\n",
       " array([-3.89680508, -3.33633366, -3.04459137]))"
      ]
     },
     "execution_count": 26,
     "metadata": {},
     "output_type": "execute_result"
    }
   ],
   "source": [
    "ts.coint(Data_df.SUNLIGHT, Data_df.HUMIDITY)"
   ]
  },
  {
   "cell_type": "code",
   "execution_count": null,
   "metadata": {},
   "outputs": [],
   "source": []
  },
  {
   "cell_type": "code",
   "execution_count": 39,
   "metadata": {},
   "outputs": [],
   "source": [
    "def custom_accuracy(y_true, y_pred, tolerance=0.02):\n",
    "    \"\"\"\n",
    "    Calculate the percentage of predictions within a certain tolerance of the actual values.\n",
    "    :param y_true: The actual values.\n",
    "    :param y_pred: The predicted values.\n",
    "    :param tolerance: The percentage tolerance for considering a prediction 'accurate'.\n",
    "    :return: The accuracy rate as a percentage.\n",
    "    \"\"\"\n",
    "    y_true, y_pred = np.array(y_true), np.array(y_pred)\n",
    "    within_tolerance = np.abs(y_true - y_pred) <= tolerance * np.abs(y_true)\n",
    "    accuracy = np.mean(within_tolerance)\n",
    "    return accuracy * 100"
   ]
  },
  {
   "cell_type": "markdown",
   "metadata": {},
   "source": [
    "### PLS - Partial Least Square"
   ]
  },
  {
   "cell_type": "code",
   "execution_count": null,
   "metadata": {},
   "outputs": [],
   "source": []
  },
  {
   "cell_type": "code",
   "execution_count": null,
   "metadata": {},
   "outputs": [],
   "source": []
  },
  {
   "cell_type": "code",
   "execution_count": 44,
   "metadata": {},
   "outputs": [],
   "source": [
    "X = Data_df[['SUNLIGHT', 'HUMIDITY']].pct_change().dropna() * 100\n",
    "y = Data_df['ORCHIDS'].pct_change().dropna() * 100"
   ]
  },
  {
   "cell_type": "code",
   "execution_count": 54,
   "metadata": {},
   "outputs": [
    {
     "data": {
      "text/plain": [
       "0.0"
      ]
     },
     "execution_count": 54,
     "metadata": {},
     "output_type": "execute_result"
    }
   ],
   "source": [
    "scipy.stats.normaltest(y).pvalue"
   ]
  },
  {
   "cell_type": "code",
   "execution_count": 49,
   "metadata": {},
   "outputs": [],
   "source": [
    "sunlight_normaltest_res = scipy.stats.normaltest(X['SUNLIGHT'])"
   ]
  },
  {
   "cell_type": "code",
   "execution_count": 50,
   "metadata": {},
   "outputs": [
    {
     "data": {
      "text/plain": [
       "0.0"
      ]
     },
     "execution_count": 50,
     "metadata": {},
     "output_type": "execute_result"
    }
   ],
   "source": [
    "sunlight_normaltest_res.pvalue"
   ]
  },
  {
   "cell_type": "code",
   "execution_count": 52,
   "metadata": {},
   "outputs": [
    {
     "data": {
      "text/plain": [
       "0.0"
      ]
     },
     "execution_count": 52,
     "metadata": {},
     "output_type": "execute_result"
    }
   ],
   "source": [
    "scipy.stats.normaltest(X['HUMIDITY']).pvalue"
   ]
  },
  {
   "cell_type": "code",
   "execution_count": null,
   "metadata": {},
   "outputs": [],
   "source": []
  },
  {
   "cell_type": "code",
   "execution_count": null,
   "metadata": {},
   "outputs": [],
   "source": []
  },
  {
   "cell_type": "code",
   "execution_count": null,
   "metadata": {},
   "outputs": [],
   "source": []
  },
  {
   "cell_type": "code",
   "execution_count": 45,
   "metadata": {},
   "outputs": [
    {
     "name": "stdout",
     "output_type": "stream",
     "text": [
      "RMSE: 0.126104\n",
      "Mean Absolute Error: 0.06830370063405794\n",
      "Accuracy 0.0\n",
      "RMSE: 0.206803\n",
      "Mean Absolute Error: 0.08363872109898254\n",
      "Accuracy 0.0\n",
      "RMSE: 0.101411\n",
      "Mean Absolute Error: 0.07911591732738389\n",
      "Accuracy 0.4\n"
     ]
    }
   ],
   "source": [
    "tscv = TimeSeriesSplit(n_splits=3)\n",
    "for train_index, test_index in tscv.split(X):\n",
    "    X_train, X_test = X.iloc[train_index], X.iloc[test_index]\n",
    "    y_train, y_test = y.iloc[train_index], y.iloc[test_index]\n",
    "    pls = PLSRegression(n_components=2)\n",
    "    pls.fit(X_train, y_train)\n",
    "    y_pred = pls.predict(X_test)\n",
    "    rmse = np.sqrt(mean_squared_error(y_test, y_pred))\n",
    "    print(\"RMSE: %f\" % (rmse))\n",
    "    mean_ae = mean_absolute_error(y_test, y_pred)\n",
    "    print(\"Mean Absolute Error:\", mean_ae)\n",
    "\n",
    "    accuracy_rate = custom_accuracy(y_test, y_pred, tolerance=0.03)\n",
    "    print(\"Accuracy\",accuracy_rate)\n"
   ]
  },
  {
   "cell_type": "code",
   "execution_count": 57,
   "metadata": {},
   "outputs": [
    {
     "name": "stdout",
     "output_type": "stream",
     "text": [
      "RMSE: 0.126104\n",
      "Mean Absolute Error: 0.06830370063405794\n",
      "Accuracy 0.0\n",
      "RMSE: 0.206803\n",
      "Mean Absolute Error: 0.08363872109898254\n",
      "Accuracy 0.0\n",
      "RMSE: 0.101411\n",
      "Mean Absolute Error: 0.07911591732738389\n",
      "Accuracy 0.4\n"
     ]
    }
   ],
   "source": [
    "tscv = TimeSeriesSplit(n_splits=3)\n",
    "for train_index, test_index in tscv.split(X):\n",
    "    X_train, X_test = X.iloc[train_index], X.iloc[test_index]\n",
    "    y_train, y_test = y.iloc[train_index], y.iloc[test_index]\n",
    "\n",
    "    scaler = StandardScaler()\n",
    "    X_train = scaler.fit_transform(X_train) \n",
    "    X_test = scaler.transform(X_test) \n",
    "\n",
    "    pls = PLSRegression(n_components=2)\n",
    "    pls.fit(X_train, y_train)\n",
    "    y_pred = pls.predict(X_test)\n",
    "    rmse = np.sqrt(mean_squared_error(y_test, y_pred))\n",
    "    print(\"RMSE: %f\" % (rmse))\n",
    "    mean_ae = mean_absolute_error(y_test, y_pred)\n",
    "    print(\"Mean Absolute Error:\", mean_ae)\n",
    "\n",
    "    accuracy_rate = custom_accuracy(y_test, y_pred, tolerance=0.03)\n",
    "    print(\"Accuracy\",accuracy_rate)\n"
   ]
  },
  {
   "cell_type": "code",
   "execution_count": 77,
   "metadata": {},
   "outputs": [
    {
     "data": {
      "text/plain": [
       "((20001, 3), (10001, 3), (20001,), (10001,))"
      ]
     },
     "execution_count": 77,
     "metadata": {},
     "output_type": "execute_result"
    }
   ],
   "source": [
    "X_train.shape, X_test.shape, y_train.shape, y_test.shape"
   ]
  },
  {
   "cell_type": "code",
   "execution_count": 194,
   "metadata": {},
   "outputs": [
    {
     "name": "stdout",
     "output_type": "stream",
     "text": [
      "RMSE: 0.099549\n",
      "Mean Absolute Error: 0.07747564394208942\n",
      "Accuracy 0.0\n"
     ]
    }
   ],
   "source": [
    "train_test_split_idx = int(X.shape[0]*2/3)\n",
    "X_train, X_test = X.iloc[:train_test_split_idx+1], X.iloc[train_test_split_idx+1:]\n",
    "y_train, y_test = y.iloc[:train_test_split_idx+1], y.iloc[train_test_split_idx+1:]\n",
    "\n",
    "scaler = StandardScaler()\n",
    "X_train = scaler.fit_transform(X_train) \n",
    "X_test = scaler.transform(X_test) \n",
    "\n",
    "X_train = sm.add_constant(X_train)\n",
    "X_test = sm.add_constant(X_test)\n",
    "\n",
    "\n",
    "ols = sm.OLS(y_train, X_train)\n",
    "#ols.fit(X_train, y_train)\n",
    "results = ols.fit()\n",
    "\n",
    "y_pred = results.predict(X_test)\n",
    "rmse = np.sqrt(mean_squared_error(y_test, y_pred))\n",
    "print(\"RMSE: %f\" % (rmse))\n",
    "mean_ae = mean_absolute_error(y_test, y_pred)\n",
    "print(\"Mean Absolute Error:\", mean_ae)\n",
    "\n",
    "accuracy_rate = custom_accuracy(y_test, y_pred, tolerance=0.03/100)\n",
    "print(\"Accuracy\",accuracy_rate)\n"
   ]
  },
  {
   "cell_type": "code",
   "execution_count": 195,
   "metadata": {},
   "outputs": [
    {
     "data": {
      "text/html": [
       "<table class=\"simpletable\">\n",
       "<caption>OLS Regression Results</caption>\n",
       "<tr>\n",
       "  <th>Dep. Variable:</th>         <td>ORCHIDS</td>     <th>  R-squared:         </th>  <td>   0.414</td> \n",
       "</tr>\n",
       "<tr>\n",
       "  <th>Model:</th>                   <td>OLS</td>       <th>  Adj. R-squared:    </th>  <td>   0.414</td> \n",
       "</tr>\n",
       "<tr>\n",
       "  <th>Method:</th>             <td>Least Squares</td>  <th>  F-statistic:       </th>  <td>   7069.</td> \n",
       "</tr>\n",
       "<tr>\n",
       "  <th>Date:</th>             <td>Sat, 13 Apr 2024</td> <th>  Prob (F-statistic):</th>   <td>  0.00</td>  \n",
       "</tr>\n",
       "<tr>\n",
       "  <th>Time:</th>                 <td>23:52:46</td>     <th>  Log-Likelihood:    </th>  <td>  17723.</td> \n",
       "</tr>\n",
       "<tr>\n",
       "  <th>No. Observations:</th>      <td> 20002</td>      <th>  AIC:               </th> <td>-3.544e+04</td>\n",
       "</tr>\n",
       "<tr>\n",
       "  <th>Df Residuals:</th>          <td> 19999</td>      <th>  BIC:               </th> <td>-3.542e+04</td>\n",
       "</tr>\n",
       "<tr>\n",
       "  <th>Df Model:</th>              <td>     2</td>      <th>                     </th>      <td> </td>    \n",
       "</tr>\n",
       "<tr>\n",
       "  <th>Covariance Type:</th>      <td>nonrobust</td>    <th>                     </th>      <td> </td>    \n",
       "</tr>\n",
       "</table>\n",
       "<table class=\"simpletable\">\n",
       "<tr>\n",
       "    <td></td>       <th>coef</th>     <th>std err</th>      <th>t</th>      <th>P>|t|</th>  <th>[0.025</th>    <th>0.975]</th>  \n",
       "</tr>\n",
       "<tr>\n",
       "  <th>const</th> <td>   -0.0003</td> <td>    0.001</td> <td>   -0.419</td> <td> 0.675</td> <td>   -0.002</td> <td>    0.001</td>\n",
       "</tr>\n",
       "<tr>\n",
       "  <th>x1</th>    <td>    0.5478</td> <td>    0.012</td> <td>   44.308</td> <td> 0.000</td> <td>    0.524</td> <td>    0.572</td>\n",
       "</tr>\n",
       "<tr>\n",
       "  <th>x2</th>    <td>   -0.4690</td> <td>    0.012</td> <td>  -37.940</td> <td> 0.000</td> <td>   -0.493</td> <td>   -0.445</td>\n",
       "</tr>\n",
       "</table>\n",
       "<table class=\"simpletable\">\n",
       "<tr>\n",
       "  <th>Omnibus:</th>       <td>14797.416</td> <th>  Durbin-Watson:     </th>  <td>   1.886</td>  \n",
       "</tr>\n",
       "<tr>\n",
       "  <th>Prob(Omnibus):</th>  <td> 0.000</td>   <th>  Jarque-Bera (JB):  </th> <td>5753368.361</td>\n",
       "</tr>\n",
       "<tr>\n",
       "  <th>Skew:</th>           <td>-2.427</td>   <th>  Prob(JB):          </th>  <td>    0.00</td>  \n",
       "</tr>\n",
       "<tr>\n",
       "  <th>Kurtosis:</th>       <td>85.944</td>   <th>  Cond. No.          </th>  <td>    35.0</td>  \n",
       "</tr>\n",
       "</table><br/><br/>Notes:<br/>[1] Standard Errors assume that the covariance matrix of the errors is correctly specified."
      ],
      "text/latex": [
       "\\begin{center}\n",
       "\\begin{tabular}{lclc}\n",
       "\\toprule\n",
       "\\textbf{Dep. Variable:}    &     ORCHIDS      & \\textbf{  R-squared:         } &      0.414   \\\\\n",
       "\\textbf{Model:}            &       OLS        & \\textbf{  Adj. R-squared:    } &      0.414   \\\\\n",
       "\\textbf{Method:}           &  Least Squares   & \\textbf{  F-statistic:       } &      7069.   \\\\\n",
       "\\textbf{Date:}             & Sat, 13 Apr 2024 & \\textbf{  Prob (F-statistic):} &      0.00    \\\\\n",
       "\\textbf{Time:}             &     23:52:46     & \\textbf{  Log-Likelihood:    } &     17723.   \\\\\n",
       "\\textbf{No. Observations:} &       20002      & \\textbf{  AIC:               } &  -3.544e+04  \\\\\n",
       "\\textbf{Df Residuals:}     &       19999      & \\textbf{  BIC:               } &  -3.542e+04  \\\\\n",
       "\\textbf{Df Model:}         &           2      & \\textbf{                     } &              \\\\\n",
       "\\textbf{Covariance Type:}  &    nonrobust     & \\textbf{                     } &              \\\\\n",
       "\\bottomrule\n",
       "\\end{tabular}\n",
       "\\begin{tabular}{lcccccc}\n",
       "               & \\textbf{coef} & \\textbf{std err} & \\textbf{t} & \\textbf{P$> |$t$|$} & \\textbf{[0.025} & \\textbf{0.975]}  \\\\\n",
       "\\midrule\n",
       "\\textbf{const} &      -0.0003  &        0.001     &    -0.419  &         0.675        &       -0.002    &        0.001     \\\\\n",
       "\\textbf{x1}    &       0.5478  &        0.012     &    44.308  &         0.000        &        0.524    &        0.572     \\\\\n",
       "\\textbf{x2}    &      -0.4690  &        0.012     &   -37.940  &         0.000        &       -0.493    &       -0.445     \\\\\n",
       "\\bottomrule\n",
       "\\end{tabular}\n",
       "\\begin{tabular}{lclc}\n",
       "\\textbf{Omnibus:}       & 14797.416 & \\textbf{  Durbin-Watson:     } &      1.886   \\\\\n",
       "\\textbf{Prob(Omnibus):} &    0.000  & \\textbf{  Jarque-Bera (JB):  } & 5753368.361  \\\\\n",
       "\\textbf{Skew:}          &   -2.427  & \\textbf{  Prob(JB):          } &       0.00   \\\\\n",
       "\\textbf{Kurtosis:}      &   85.944  & \\textbf{  Cond. No.          } &       35.0   \\\\\n",
       "\\bottomrule\n",
       "\\end{tabular}\n",
       "%\\caption{OLS Regression Results}\n",
       "\\end{center}\n",
       "\n",
       "Notes: \\newline\n",
       " [1] Standard Errors assume that the covariance matrix of the errors is correctly specified."
      ],
      "text/plain": [
       "<class 'statsmodels.iolib.summary.Summary'>\n",
       "\"\"\"\n",
       "                            OLS Regression Results                            \n",
       "==============================================================================\n",
       "Dep. Variable:                ORCHIDS   R-squared:                       0.414\n",
       "Model:                            OLS   Adj. R-squared:                  0.414\n",
       "Method:                 Least Squares   F-statistic:                     7069.\n",
       "Date:                Sat, 13 Apr 2024   Prob (F-statistic):               0.00\n",
       "Time:                        23:52:46   Log-Likelihood:                 17723.\n",
       "No. Observations:               20002   AIC:                        -3.544e+04\n",
       "Df Residuals:                   19999   BIC:                        -3.542e+04\n",
       "Df Model:                           2                                         \n",
       "Covariance Type:            nonrobust                                         \n",
       "==============================================================================\n",
       "                 coef    std err          t      P>|t|      [0.025      0.975]\n",
       "------------------------------------------------------------------------------\n",
       "const         -0.0003      0.001     -0.419      0.675      -0.002       0.001\n",
       "x1             0.5478      0.012     44.308      0.000       0.524       0.572\n",
       "x2            -0.4690      0.012    -37.940      0.000      -0.493      -0.445\n",
       "==============================================================================\n",
       "Omnibus:                    14797.416   Durbin-Watson:                   1.886\n",
       "Prob(Omnibus):                  0.000   Jarque-Bera (JB):          5753368.361\n",
       "Skew:                          -2.427   Prob(JB):                         0.00\n",
       "Kurtosis:                      85.944   Cond. No.                         35.0\n",
       "==============================================================================\n",
       "\n",
       "Notes:\n",
       "[1] Standard Errors assume that the covariance matrix of the errors is correctly specified.\n",
       "\"\"\""
      ]
     },
     "execution_count": 195,
     "metadata": {},
     "output_type": "execute_result"
    }
   ],
   "source": [
    "results.summary()"
   ]
  },
  {
   "cell_type": "code",
   "execution_count": null,
   "metadata": {},
   "outputs": [],
   "source": []
  },
  {
   "cell_type": "code",
   "execution_count": null,
   "metadata": {},
   "outputs": [],
   "source": []
  },
  {
   "cell_type": "code",
   "execution_count": 84,
   "metadata": {},
   "outputs": [],
   "source": [
    "def transform_humidity(val):\n",
    "    if val > 80:\n",
    "        return 80-val\n",
    "    elif 0 <= val < 80:\n",
    "        return val-60\n",
    "    else:\n",
    "        return 0"
   ]
  },
  {
   "cell_type": "code",
   "execution_count": 86,
   "metadata": {},
   "outputs": [],
   "source": [
    "Data_df['HUMIDITY_60_80_trans'] = Data_df['HUMIDITY'].apply(transform_humidity)"
   ]
  },
  {
   "cell_type": "code",
   "execution_count": null,
   "metadata": {},
   "outputs": [],
   "source": []
  },
  {
   "cell_type": "code",
   "execution_count": null,
   "metadata": {},
   "outputs": [],
   "source": []
  },
  {
   "cell_type": "code",
   "execution_count": 93,
   "metadata": {},
   "outputs": [
    {
     "data": {
      "text/plain": [
       "count    30003.000000\n",
       "mean        79.073562\n",
       "std          9.366057\n",
       "min         59.999580\n",
       "25%         71.204712\n",
       "50%         78.579020\n",
       "75%         86.771817\n",
       "max         97.513270\n",
       "Name: HUMIDITY, dtype: float64"
      ]
     },
     "execution_count": 93,
     "metadata": {},
     "output_type": "execute_result"
    }
   ],
   "source": [
    "Data_df.HUMIDITY.describe()"
   ]
  },
  {
   "cell_type": "code",
   "execution_count": 94,
   "metadata": {},
   "outputs": [
    {
     "data": {
      "text/plain": [
       "count    30003.000000\n",
       "mean         2.643358\n",
       "std         10.767233\n",
       "min        -17.513270\n",
       "25%         -6.771817\n",
       "50%          4.788540\n",
       "75%         12.084263\n",
       "max         19.999800\n",
       "Name: HUMIDITY_60_80_trans, dtype: float64"
      ]
     },
     "execution_count": 94,
     "metadata": {},
     "output_type": "execute_result"
    }
   ],
   "source": [
    "Data_df.HUMIDITY_60_80_trans.describe()"
   ]
  },
  {
   "cell_type": "code",
   "execution_count": 100,
   "metadata": {},
   "outputs": [
    {
     "name": "stderr",
     "output_type": "stream",
     "text": [
      "/opt/miniconda3/envs/imc_env/lib/python3.12/site-packages/numpy/core/_methods.py:49: RuntimeWarning: invalid value encountered in reduce\n",
      "  return umr_sum(a, axis, dtype, out, keepdims, initial, where)\n"
     ]
    },
    {
     "data": {
      "text/plain": [
       "count    3.000300e+04\n",
       "mean              NaN\n",
       "std               NaN\n",
       "min              -inf\n",
       "25%     -7.065055e-02\n",
       "50%     -1.859567e-02\n",
       "75%      5.101466e-02\n",
       "max               inf\n",
       "Name: HUMIDITY_60_80_trans, dtype: float64"
      ]
     },
     "execution_count": 100,
     "metadata": {},
     "output_type": "execute_result"
    }
   ],
   "source": [
    "X_2.HUMIDITY_60_80_trans.describe()"
   ]
  },
  {
   "cell_type": "code",
   "execution_count": 103,
   "metadata": {},
   "outputs": [],
   "source": [
    "X_2 = Data_df[['SUNLIGHT', 'HUMIDITY_60_80_trans']].pct_change().replace([np.inf, -np.inf], np.nan).fillna(0) * 100\n",
    "y_2 = Data_df['ORCHIDS'].pct_change().replace([np.inf, -np.inf], np.nan).fillna(0) * 100"
   ]
  },
  {
   "cell_type": "code",
   "execution_count": 104,
   "metadata": {},
   "outputs": [
    {
     "data": {
      "text/plain": [
       "count     30003.000000\n",
       "mean        -26.897811\n",
       "std        3439.069785\n",
       "min     -526119.473684\n",
       "25%          -0.070639\n",
       "50%          -0.018591\n",
       "75%           0.051007\n",
       "max         125.524476\n",
       "Name: HUMIDITY_60_80_trans, dtype: float64"
      ]
     },
     "execution_count": 104,
     "metadata": {},
     "output_type": "execute_result"
    }
   ],
   "source": [
    "X_2.HUMIDITY_60_80_trans.describe()"
   ]
  },
  {
   "cell_type": "code",
   "execution_count": 196,
   "metadata": {},
   "outputs": [
    {
     "name": "stdout",
     "output_type": "stream",
     "text": [
      "RMSE: 0.172949\n",
      "Mean Absolute Error: 0.07487941995816653\n",
      "Accuracy 0.0\n"
     ]
    }
   ],
   "source": [
    "train_test_split_idx = int(X.shape[0]*2/3)\n",
    "X_train, X_test = X_2.iloc[:train_test_split_idx+1], X_2.iloc[train_test_split_idx+1:]\n",
    "y_train, y_test = y_2.iloc[:train_test_split_idx+1], y_2.iloc[train_test_split_idx+1:]\n",
    "\n",
    "scaler = StandardScaler()\n",
    "X_train = scaler.fit_transform(X_train) \n",
    "X_test = scaler.transform(X_test) \n",
    "\n",
    "X_train = sm.add_constant(X_train)\n",
    "X_test = sm.add_constant(X_test)\n",
    "\n",
    "\n",
    "ols = sm.OLS(y_train, X_train)\n",
    "#ols.fit(X_train, y_train)\n",
    "results2 = ols.fit()\n",
    "\n",
    "y_pred = results2.predict(X_test)\n",
    "rmse = np.sqrt(mean_squared_error(y_test, y_pred))\n",
    "print(\"RMSE: %f\" % (rmse))\n",
    "mean_ae = mean_absolute_error(y_test, y_pred)\n",
    "print(\"Mean Absolute Error:\", mean_ae)\n",
    "\n",
    "accuracy_rate = custom_accuracy(y_test, y_pred, tolerance=0.03/100)\n",
    "print(\"Accuracy\",accuracy_rate)\n"
   ]
  },
  {
   "cell_type": "code",
   "execution_count": 197,
   "metadata": {},
   "outputs": [
    {
     "data": {
      "text/html": [
       "<table class=\"simpletable\">\n",
       "<caption>OLS Regression Results</caption>\n",
       "<tr>\n",
       "  <th>Dep. Variable:</th>         <td>ORCHIDS</td>     <th>  R-squared:         </th>  <td>   0.389</td> \n",
       "</tr>\n",
       "<tr>\n",
       "  <th>Model:</th>                   <td>OLS</td>       <th>  Adj. R-squared:    </th>  <td>   0.389</td> \n",
       "</tr>\n",
       "<tr>\n",
       "  <th>Method:</th>             <td>Least Squares</td>  <th>  F-statistic:       </th>  <td>   6373.</td> \n",
       "</tr>\n",
       "<tr>\n",
       "  <th>Date:</th>             <td>Sat, 13 Apr 2024</td> <th>  Prob (F-statistic):</th>   <td>  0.00</td>  \n",
       "</tr>\n",
       "<tr>\n",
       "  <th>Time:</th>                 <td>23:52:57</td>     <th>  Log-Likelihood:    </th>  <td>  19059.</td> \n",
       "</tr>\n",
       "<tr>\n",
       "  <th>No. Observations:</th>      <td> 20002</td>      <th>  AIC:               </th> <td>-3.811e+04</td>\n",
       "</tr>\n",
       "<tr>\n",
       "  <th>Df Residuals:</th>          <td> 19999</td>      <th>  BIC:               </th> <td>-3.809e+04</td>\n",
       "</tr>\n",
       "<tr>\n",
       "  <th>Df Model:</th>              <td>     2</td>      <th>                     </th>      <td> </td>    \n",
       "</tr>\n",
       "<tr>\n",
       "  <th>Covariance Type:</th>      <td>nonrobust</td>    <th>                     </th>      <td> </td>    \n",
       "</tr>\n",
       "</table>\n",
       "<table class=\"simpletable\">\n",
       "<tr>\n",
       "    <td></td>       <th>coef</th>     <th>std err</th>      <th>t</th>      <th>P>|t|</th>  <th>[0.025</th>    <th>0.975]</th>  \n",
       "</tr>\n",
       "<tr>\n",
       "  <th>const</th> <td>   -0.0007</td> <td>    0.001</td> <td>   -1.008</td> <td> 0.314</td> <td>   -0.002</td> <td>    0.001</td>\n",
       "</tr>\n",
       "<tr>\n",
       "  <th>x1</th>    <td>    0.0745</td> <td>    0.001</td> <td>  112.896</td> <td> 0.000</td> <td>    0.073</td> <td>    0.076</td>\n",
       "</tr>\n",
       "<tr>\n",
       "  <th>x2</th>    <td>-6.981e-05</td> <td>    0.001</td> <td>   -0.106</td> <td> 0.916</td> <td>   -0.001</td> <td>    0.001</td>\n",
       "</tr>\n",
       "</table>\n",
       "<table class=\"simpletable\">\n",
       "<tr>\n",
       "  <th>Omnibus:</th>       <td>196.805</td> <th>  Durbin-Watson:     </th> <td>   1.991</td>\n",
       "</tr>\n",
       "<tr>\n",
       "  <th>Prob(Omnibus):</th> <td> 0.000</td>  <th>  Jarque-Bera (JB):  </th> <td> 329.591</td>\n",
       "</tr>\n",
       "<tr>\n",
       "  <th>Skew:</th>          <td> 0.024</td>  <th>  Prob(JB):          </th> <td>2.69e-72</td>\n",
       "</tr>\n",
       "<tr>\n",
       "  <th>Kurtosis:</th>      <td> 3.627</td>  <th>  Cond. No.          </th> <td>    1.00</td>\n",
       "</tr>\n",
       "</table><br/><br/>Notes:<br/>[1] Standard Errors assume that the covariance matrix of the errors is correctly specified."
      ],
      "text/latex": [
       "\\begin{center}\n",
       "\\begin{tabular}{lclc}\n",
       "\\toprule\n",
       "\\textbf{Dep. Variable:}    &     ORCHIDS      & \\textbf{  R-squared:         } &     0.389   \\\\\n",
       "\\textbf{Model:}            &       OLS        & \\textbf{  Adj. R-squared:    } &     0.389   \\\\\n",
       "\\textbf{Method:}           &  Least Squares   & \\textbf{  F-statistic:       } &     6373.   \\\\\n",
       "\\textbf{Date:}             & Sat, 13 Apr 2024 & \\textbf{  Prob (F-statistic):} &     0.00    \\\\\n",
       "\\textbf{Time:}             &     23:52:57     & \\textbf{  Log-Likelihood:    } &    19059.   \\\\\n",
       "\\textbf{No. Observations:} &       20002      & \\textbf{  AIC:               } & -3.811e+04  \\\\\n",
       "\\textbf{Df Residuals:}     &       19999      & \\textbf{  BIC:               } & -3.809e+04  \\\\\n",
       "\\textbf{Df Model:}         &           2      & \\textbf{                     } &             \\\\\n",
       "\\textbf{Covariance Type:}  &    nonrobust     & \\textbf{                     } &             \\\\\n",
       "\\bottomrule\n",
       "\\end{tabular}\n",
       "\\begin{tabular}{lcccccc}\n",
       "               & \\textbf{coef} & \\textbf{std err} & \\textbf{t} & \\textbf{P$> |$t$|$} & \\textbf{[0.025} & \\textbf{0.975]}  \\\\\n",
       "\\midrule\n",
       "\\textbf{const} &      -0.0007  &        0.001     &    -1.008  &         0.314        &       -0.002    &        0.001     \\\\\n",
       "\\textbf{x1}    &       0.0745  &        0.001     &   112.896  &         0.000        &        0.073    &        0.076     \\\\\n",
       "\\textbf{x2}    &   -6.981e-05  &        0.001     &    -0.106  &         0.916        &       -0.001    &        0.001     \\\\\n",
       "\\bottomrule\n",
       "\\end{tabular}\n",
       "\\begin{tabular}{lclc}\n",
       "\\textbf{Omnibus:}       & 196.805 & \\textbf{  Durbin-Watson:     } &    1.991  \\\\\n",
       "\\textbf{Prob(Omnibus):} &   0.000 & \\textbf{  Jarque-Bera (JB):  } &  329.591  \\\\\n",
       "\\textbf{Skew:}          &   0.024 & \\textbf{  Prob(JB):          } & 2.69e-72  \\\\\n",
       "\\textbf{Kurtosis:}      &   3.627 & \\textbf{  Cond. No.          } &     1.00  \\\\\n",
       "\\bottomrule\n",
       "\\end{tabular}\n",
       "%\\caption{OLS Regression Results}\n",
       "\\end{center}\n",
       "\n",
       "Notes: \\newline\n",
       " [1] Standard Errors assume that the covariance matrix of the errors is correctly specified."
      ],
      "text/plain": [
       "<class 'statsmodels.iolib.summary.Summary'>\n",
       "\"\"\"\n",
       "                            OLS Regression Results                            \n",
       "==============================================================================\n",
       "Dep. Variable:                ORCHIDS   R-squared:                       0.389\n",
       "Model:                            OLS   Adj. R-squared:                  0.389\n",
       "Method:                 Least Squares   F-statistic:                     6373.\n",
       "Date:                Sat, 13 Apr 2024   Prob (F-statistic):               0.00\n",
       "Time:                        23:52:57   Log-Likelihood:                 19059.\n",
       "No. Observations:               20002   AIC:                        -3.811e+04\n",
       "Df Residuals:                   19999   BIC:                        -3.809e+04\n",
       "Df Model:                           2                                         \n",
       "Covariance Type:            nonrobust                                         \n",
       "==============================================================================\n",
       "                 coef    std err          t      P>|t|      [0.025      0.975]\n",
       "------------------------------------------------------------------------------\n",
       "const         -0.0007      0.001     -1.008      0.314      -0.002       0.001\n",
       "x1             0.0745      0.001    112.896      0.000       0.073       0.076\n",
       "x2         -6.981e-05      0.001     -0.106      0.916      -0.001       0.001\n",
       "==============================================================================\n",
       "Omnibus:                      196.805   Durbin-Watson:                   1.991\n",
       "Prob(Omnibus):                  0.000   Jarque-Bera (JB):              329.591\n",
       "Skew:                           0.024   Prob(JB):                     2.69e-72\n",
       "Kurtosis:                       3.627   Cond. No.                         1.00\n",
       "==============================================================================\n",
       "\n",
       "Notes:\n",
       "[1] Standard Errors assume that the covariance matrix of the errors is correctly specified.\n",
       "\"\"\""
      ]
     },
     "execution_count": 197,
     "metadata": {},
     "output_type": "execute_result"
    }
   ],
   "source": [
    "results2.summary()"
   ]
  },
  {
   "cell_type": "code",
   "execution_count": 112,
   "metadata": {},
   "outputs": [],
   "source": [
    "X_3 = Data_df[['SUNLIGHT']].pct_change().dropna() * 100\n",
    "y_3 = Data_df['ORCHIDS'].pct_change().dropna() * 100"
   ]
  },
  {
   "cell_type": "code",
   "execution_count": 190,
   "metadata": {},
   "outputs": [
    {
     "name": "stdout",
     "output_type": "stream",
     "text": [
      "RMSE: 0.096111\n",
      "Mean Absolute Error: 0.07299007137644689\n",
      "Accuracy 0.0\n"
     ]
    }
   ],
   "source": [
    "train_test_split_idx = int(X.shape[0]*2/3)\n",
    "X_train, X_test = X_3.iloc[:train_test_split_idx+1], X_3.iloc[train_test_split_idx+1:]\n",
    "y_train, y_test = y_3.iloc[:train_test_split_idx+1], y_3.iloc[train_test_split_idx+1:]\n",
    "\n",
    "scaler = StandardScaler()\n",
    "X_train = scaler.fit_transform(X_train) \n",
    "X_test = scaler.transform(X_test) \n",
    "\n",
    "X_train = sm.add_constant(X_train)\n",
    "X_test = sm.add_constant(X_test)\n",
    "\n",
    "\n",
    "ols = sm.OLS(y_train, X_train)\n",
    "#ols.fit(X_train, y_train)\n",
    "results3 = ols.fit()\n",
    "\n",
    "y_pred = results3.predict(X_test)\n",
    "rmse = np.sqrt(mean_squared_error(y_test, y_pred))\n",
    "print(\"RMSE: %f\" % (rmse))\n",
    "mean_ae = mean_absolute_error(y_test, y_pred)\n",
    "print(\"Mean Absolute Error:\", mean_ae)\n",
    "\n",
    "accuracy_rate = custom_accuracy(y_test, y_pred, tolerance=0.03)\n",
    "print(\"Accuracy\",accuracy_rate)\n"
   ]
  },
  {
   "cell_type": "code",
   "execution_count": null,
   "metadata": {},
   "outputs": [],
   "source": []
  },
  {
   "cell_type": "code",
   "execution_count": 191,
   "metadata": {},
   "outputs": [
    {
     "data": {
      "text/html": [
       "<table class=\"simpletable\">\n",
       "<caption>OLS Regression Results</caption>\n",
       "<tr>\n",
       "  <th>Dep. Variable:</th>         <td>ORCHIDS</td>     <th>  R-squared:         </th>  <td>   0.372</td> \n",
       "</tr>\n",
       "<tr>\n",
       "  <th>Model:</th>                   <td>OLS</td>       <th>  Adj. R-squared:    </th>  <td>   0.372</td> \n",
       "</tr>\n",
       "<tr>\n",
       "  <th>Method:</th>             <td>Least Squares</td>  <th>  F-statistic:       </th>  <td>1.185e+04</td>\n",
       "</tr>\n",
       "<tr>\n",
       "  <th>Date:</th>             <td>Sat, 13 Apr 2024</td> <th>  Prob (F-statistic):</th>   <td>  0.00</td>  \n",
       "</tr>\n",
       "<tr>\n",
       "  <th>Time:</th>                 <td>23:51:06</td>     <th>  Log-Likelihood:    </th>  <td>  17028.</td> \n",
       "</tr>\n",
       "<tr>\n",
       "  <th>No. Observations:</th>      <td> 20002</td>      <th>  AIC:               </th> <td>-3.405e+04</td>\n",
       "</tr>\n",
       "<tr>\n",
       "  <th>Df Residuals:</th>          <td> 20000</td>      <th>  BIC:               </th> <td>-3.404e+04</td>\n",
       "</tr>\n",
       "<tr>\n",
       "  <th>Df Model:</th>              <td>     1</td>      <th>                     </th>      <td> </td>    \n",
       "</tr>\n",
       "<tr>\n",
       "  <th>Covariance Type:</th>      <td>nonrobust</td>    <th>                     </th>      <td> </td>    \n",
       "</tr>\n",
       "</table>\n",
       "<table class=\"simpletable\">\n",
       "<tr>\n",
       "    <td></td>       <th>coef</th>     <th>std err</th>      <th>t</th>      <th>P>|t|</th>  <th>[0.025</th>    <th>0.975]</th>  \n",
       "</tr>\n",
       "<tr>\n",
       "  <th>const</th> <td>   -0.0003</td> <td>    0.001</td> <td>   -0.405</td> <td> 0.686</td> <td>   -0.002</td> <td>    0.001</td>\n",
       "</tr>\n",
       "<tr>\n",
       "  <th>x1</th>    <td>    0.0795</td> <td>    0.001</td> <td>  108.841</td> <td> 0.000</td> <td>    0.078</td> <td>    0.081</td>\n",
       "</tr>\n",
       "</table>\n",
       "<table class=\"simpletable\">\n",
       "<tr>\n",
       "  <th>Omnibus:</th>       <td>31561.958</td> <th>  Durbin-Watson:     </th>   <td>   1.965</td>   \n",
       "</tr>\n",
       "<tr>\n",
       "  <th>Prob(Omnibus):</th>  <td> 0.000</td>   <th>  Jarque-Bera (JB):  </th> <td>193723212.881</td>\n",
       "</tr>\n",
       "<tr>\n",
       "  <th>Skew:</th>           <td>-9.227</td>   <th>  Prob(JB):          </th>   <td>    0.00</td>   \n",
       "</tr>\n",
       "<tr>\n",
       "  <th>Kurtosis:</th>       <td>484.772</td>  <th>  Cond. No.          </th>   <td>    1.00</td>   \n",
       "</tr>\n",
       "</table><br/><br/>Notes:<br/>[1] Standard Errors assume that the covariance matrix of the errors is correctly specified."
      ],
      "text/latex": [
       "\\begin{center}\n",
       "\\begin{tabular}{lclc}\n",
       "\\toprule\n",
       "\\textbf{Dep. Variable:}    &     ORCHIDS      & \\textbf{  R-squared:         } &       0.372    \\\\\n",
       "\\textbf{Model:}            &       OLS        & \\textbf{  Adj. R-squared:    } &       0.372    \\\\\n",
       "\\textbf{Method:}           &  Least Squares   & \\textbf{  F-statistic:       } &   1.185e+04    \\\\\n",
       "\\textbf{Date:}             & Sat, 13 Apr 2024 & \\textbf{  Prob (F-statistic):} &       0.00     \\\\\n",
       "\\textbf{Time:}             &     23:51:06     & \\textbf{  Log-Likelihood:    } &      17028.    \\\\\n",
       "\\textbf{No. Observations:} &       20002      & \\textbf{  AIC:               } &   -3.405e+04   \\\\\n",
       "\\textbf{Df Residuals:}     &       20000      & \\textbf{  BIC:               } &   -3.404e+04   \\\\\n",
       "\\textbf{Df Model:}         &           1      & \\textbf{                     } &                \\\\\n",
       "\\textbf{Covariance Type:}  &    nonrobust     & \\textbf{                     } &                \\\\\n",
       "\\bottomrule\n",
       "\\end{tabular}\n",
       "\\begin{tabular}{lcccccc}\n",
       "               & \\textbf{coef} & \\textbf{std err} & \\textbf{t} & \\textbf{P$> |$t$|$} & \\textbf{[0.025} & \\textbf{0.975]}  \\\\\n",
       "\\midrule\n",
       "\\textbf{const} &      -0.0003  &        0.001     &    -0.405  &         0.686        &       -0.002    &        0.001     \\\\\n",
       "\\textbf{x1}    &       0.0795  &        0.001     &   108.841  &         0.000        &        0.078    &        0.081     \\\\\n",
       "\\bottomrule\n",
       "\\end{tabular}\n",
       "\\begin{tabular}{lclc}\n",
       "\\textbf{Omnibus:}       & 31561.958 & \\textbf{  Durbin-Watson:     } &       1.965    \\\\\n",
       "\\textbf{Prob(Omnibus):} &    0.000  & \\textbf{  Jarque-Bera (JB):  } & 193723212.881  \\\\\n",
       "\\textbf{Skew:}          &   -9.227  & \\textbf{  Prob(JB):          } &        0.00    \\\\\n",
       "\\textbf{Kurtosis:}      &  484.772  & \\textbf{  Cond. No.          } &        1.00    \\\\\n",
       "\\bottomrule\n",
       "\\end{tabular}\n",
       "%\\caption{OLS Regression Results}\n",
       "\\end{center}\n",
       "\n",
       "Notes: \\newline\n",
       " [1] Standard Errors assume that the covariance matrix of the errors is correctly specified."
      ],
      "text/plain": [
       "<class 'statsmodels.iolib.summary.Summary'>\n",
       "\"\"\"\n",
       "                            OLS Regression Results                            \n",
       "==============================================================================\n",
       "Dep. Variable:                ORCHIDS   R-squared:                       0.372\n",
       "Model:                            OLS   Adj. R-squared:                  0.372\n",
       "Method:                 Least Squares   F-statistic:                 1.185e+04\n",
       "Date:                Sat, 13 Apr 2024   Prob (F-statistic):               0.00\n",
       "Time:                        23:51:06   Log-Likelihood:                 17028.\n",
       "No. Observations:               20002   AIC:                        -3.405e+04\n",
       "Df Residuals:                   20000   BIC:                        -3.404e+04\n",
       "Df Model:                           1                                         \n",
       "Covariance Type:            nonrobust                                         \n",
       "==============================================================================\n",
       "                 coef    std err          t      P>|t|      [0.025      0.975]\n",
       "------------------------------------------------------------------------------\n",
       "const         -0.0003      0.001     -0.405      0.686      -0.002       0.001\n",
       "x1             0.0795      0.001    108.841      0.000       0.078       0.081\n",
       "==============================================================================\n",
       "Omnibus:                    31561.958   Durbin-Watson:                   1.965\n",
       "Prob(Omnibus):                  0.000   Jarque-Bera (JB):        193723212.881\n",
       "Skew:                          -9.227   Prob(JB):                         0.00\n",
       "Kurtosis:                     484.772   Cond. No.                         1.00\n",
       "==============================================================================\n",
       "\n",
       "Notes:\n",
       "[1] Standard Errors assume that the covariance matrix of the errors is correctly specified.\n",
       "\"\"\""
      ]
     },
     "execution_count": 191,
     "metadata": {},
     "output_type": "execute_result"
    }
   ],
   "source": [
    "results3.summary()"
   ]
  },
  {
   "cell_type": "code",
   "execution_count": 130,
   "metadata": {},
   "outputs": [
    {
     "data": {
      "text/html": [
       "<div>\n",
       "<style scoped>\n",
       "    .dataframe tbody tr th:only-of-type {\n",
       "        vertical-align: middle;\n",
       "    }\n",
       "\n",
       "    .dataframe tbody tr th {\n",
       "        vertical-align: top;\n",
       "    }\n",
       "\n",
       "    .dataframe thead th {\n",
       "        text-align: right;\n",
       "    }\n",
       "</style>\n",
       "<table border=\"1\" class=\"dataframe\">\n",
       "  <thead>\n",
       "    <tr style=\"text-align: right;\">\n",
       "      <th></th>\n",
       "      <th>ORCHIDS</th>\n",
       "      <th>TRANSPORT_FEES</th>\n",
       "      <th>EXPORT_TARIFF</th>\n",
       "      <th>IMPORT_TARIFF</th>\n",
       "      <th>SUNLIGHT</th>\n",
       "      <th>HUMIDITY</th>\n",
       "      <th>DAY</th>\n",
       "      <th>HUMIDITY_60_80_trans</th>\n",
       "    </tr>\n",
       "    <tr>\n",
       "      <th>timestamp</th>\n",
       "      <th></th>\n",
       "      <th></th>\n",
       "      <th></th>\n",
       "      <th></th>\n",
       "      <th></th>\n",
       "      <th></th>\n",
       "      <th></th>\n",
       "      <th></th>\n",
       "    </tr>\n",
       "  </thead>\n",
       "  <tbody>\n",
       "    <tr>\n",
       "      <th>0</th>\n",
       "      <td>1200.00</td>\n",
       "      <td>1.5</td>\n",
       "      <td>10.5</td>\n",
       "      <td>-2.0</td>\n",
       "      <td>2500.0000</td>\n",
       "      <td>79.00000</td>\n",
       "      <td>-1</td>\n",
       "      <td>19.00000</td>\n",
       "    </tr>\n",
       "    <tr>\n",
       "      <th>100</th>\n",
       "      <td>1201.75</td>\n",
       "      <td>1.5</td>\n",
       "      <td>9.5</td>\n",
       "      <td>-2.0</td>\n",
       "      <td>2499.4197</td>\n",
       "      <td>79.00410</td>\n",
       "      <td>-1</td>\n",
       "      <td>19.00410</td>\n",
       "    </tr>\n",
       "    <tr>\n",
       "      <th>200</th>\n",
       "      <td>1201.75</td>\n",
       "      <td>1.5</td>\n",
       "      <td>9.5</td>\n",
       "      <td>-2.0</td>\n",
       "      <td>2498.8457</td>\n",
       "      <td>79.00821</td>\n",
       "      <td>-1</td>\n",
       "      <td>19.00821</td>\n",
       "    </tr>\n",
       "    <tr>\n",
       "      <th>300</th>\n",
       "      <td>1201.75</td>\n",
       "      <td>1.5</td>\n",
       "      <td>9.5</td>\n",
       "      <td>-2.0</td>\n",
       "      <td>2498.2780</td>\n",
       "      <td>79.01234</td>\n",
       "      <td>-1</td>\n",
       "      <td>19.01234</td>\n",
       "    </tr>\n",
       "    <tr>\n",
       "      <th>400</th>\n",
       "      <td>1201.75</td>\n",
       "      <td>1.5</td>\n",
       "      <td>9.5</td>\n",
       "      <td>-2.0</td>\n",
       "      <td>2497.7166</td>\n",
       "      <td>79.01649</td>\n",
       "      <td>-1</td>\n",
       "      <td>19.01649</td>\n",
       "    </tr>\n",
       "  </tbody>\n",
       "</table>\n",
       "</div>"
      ],
      "text/plain": [
       "           ORCHIDS  TRANSPORT_FEES  EXPORT_TARIFF  IMPORT_TARIFF   SUNLIGHT  \\\n",
       "timestamp                                                                     \n",
       "0          1200.00             1.5           10.5           -2.0  2500.0000   \n",
       "100        1201.75             1.5            9.5           -2.0  2499.4197   \n",
       "200        1201.75             1.5            9.5           -2.0  2498.8457   \n",
       "300        1201.75             1.5            9.5           -2.0  2498.2780   \n",
       "400        1201.75             1.5            9.5           -2.0  2497.7166   \n",
       "\n",
       "           HUMIDITY  DAY  HUMIDITY_60_80_trans  \n",
       "timestamp                                       \n",
       "0          79.00000   -1              19.00000  \n",
       "100        79.00410   -1              19.00410  \n",
       "200        79.00821   -1              19.00821  \n",
       "300        79.01234   -1              19.01234  \n",
       "400        79.01649   -1              19.01649  "
      ]
     },
     "execution_count": 130,
     "metadata": {},
     "output_type": "execute_result"
    }
   ],
   "source": [
    "Data_df.head()"
   ]
  },
  {
   "cell_type": "code",
   "execution_count": 127,
   "metadata": {},
   "outputs": [],
   "source": [
    "X_4 = Data_df[['SUNLIGHT']].rolling(10).mean().fillna(0)\n",
    "y_4 = Data_df['ORCHIDS']"
   ]
  },
  {
   "cell_type": "code",
   "execution_count": 192,
   "metadata": {},
   "outputs": [
    {
     "name": "stdout",
     "output_type": "stream",
     "text": [
      "RMSE: 60.438358\n",
      "Mean Absolute Error: 53.65111271442331\n",
      "Accuracy 22.17778222177782\n"
     ]
    }
   ],
   "source": [
    "train_test_split_idx = int(X.shape[0]*2/3)\n",
    "X_train, X_test = X_4.iloc[:train_test_split_idx+1], X_4.iloc[train_test_split_idx+1:]\n",
    "y_train, y_test = y_4.iloc[:train_test_split_idx+1], y_4.iloc[train_test_split_idx+1:]\n",
    "\n",
    "scaler = StandardScaler()\n",
    "X_train = scaler.fit_transform(X_train) \n",
    "X_test = scaler.transform(X_test) \n",
    "\n",
    "X_train = sm.add_constant(X_train)\n",
    "X_test = sm.add_constant(X_test)\n",
    "\n",
    "\n",
    "ols = sm.OLS(y_train, X_train)\n",
    "#ols.fit(X_train, y_train)\n",
    "results4 = ols.fit()\n",
    "\n",
    "y_pred = results4.predict(X_test)\n",
    "rmse = np.sqrt(mean_squared_error(y_test, y_pred))\n",
    "print(\"RMSE: %f\" % (rmse))\n",
    "mean_ae = mean_absolute_error(y_test, y_pred)\n",
    "print(\"Mean Absolute Error:\", mean_ae)\n",
    "\n",
    "accuracy_rate = custom_accuracy(y_test, y_pred, tolerance=0.03)\n",
    "print(\"Accuracy\",accuracy_rate)\n"
   ]
  },
  {
   "cell_type": "code",
   "execution_count": 193,
   "metadata": {},
   "outputs": [
    {
     "data": {
      "text/html": [
       "<table class=\"simpletable\">\n",
       "<caption>OLS Regression Results</caption>\n",
       "<tr>\n",
       "  <th>Dep. Variable:</th>         <td>ORCHIDS</td>     <th>  R-squared:         </th>  <td>   0.422</td>  \n",
       "</tr>\n",
       "<tr>\n",
       "  <th>Model:</th>                   <td>OLS</td>       <th>  Adj. R-squared:    </th>  <td>   0.422</td>  \n",
       "</tr>\n",
       "<tr>\n",
       "  <th>Method:</th>             <td>Least Squares</td>  <th>  F-statistic:       </th>  <td>1.459e+04</td> \n",
       "</tr>\n",
       "<tr>\n",
       "  <th>Date:</th>             <td>Sat, 13 Apr 2024</td> <th>  Prob (F-statistic):</th>   <td>  0.00</td>   \n",
       "</tr>\n",
       "<tr>\n",
       "  <th>Time:</th>                 <td>23:51:54</td>     <th>  Log-Likelihood:    </th> <td>-1.1014e+05</td>\n",
       "</tr>\n",
       "<tr>\n",
       "  <th>No. Observations:</th>      <td> 20002</td>      <th>  AIC:               </th>  <td>2.203e+05</td> \n",
       "</tr>\n",
       "<tr>\n",
       "  <th>Df Residuals:</th>          <td> 20000</td>      <th>  BIC:               </th>  <td>2.203e+05</td> \n",
       "</tr>\n",
       "<tr>\n",
       "  <th>Df Model:</th>              <td>     1</td>      <th>                     </th>      <td> </td>     \n",
       "</tr>\n",
       "<tr>\n",
       "  <th>Covariance Type:</th>      <td>nonrobust</td>    <th>                     </th>      <td> </td>     \n",
       "</tr>\n",
       "</table>\n",
       "<table class=\"simpletable\">\n",
       "<tr>\n",
       "    <td></td>       <th>coef</th>     <th>std err</th>      <th>t</th>      <th>P>|t|</th>  <th>[0.025</th>    <th>0.975]</th>  \n",
       "</tr>\n",
       "<tr>\n",
       "  <th>const</th> <td> 1134.8012</td> <td>    0.421</td> <td> 2692.655</td> <td> 0.000</td> <td> 1133.975</td> <td> 1135.627</td>\n",
       "</tr>\n",
       "<tr>\n",
       "  <th>x1</th>    <td>   50.9043</td> <td>    0.421</td> <td>  120.786</td> <td> 0.000</td> <td>   50.078</td> <td>   51.730</td>\n",
       "</tr>\n",
       "</table>\n",
       "<table class=\"simpletable\">\n",
       "<tr>\n",
       "  <th>Omnibus:</th>       <td>2165.679</td> <th>  Durbin-Watson:     </th> <td>   0.001</td>\n",
       "</tr>\n",
       "<tr>\n",
       "  <th>Prob(Omnibus):</th>  <td> 0.000</td>  <th>  Jarque-Bera (JB):  </th> <td>2944.091</td>\n",
       "</tr>\n",
       "<tr>\n",
       "  <th>Skew:</th>           <td>-0.892</td>  <th>  Prob(JB):          </th> <td>    0.00</td>\n",
       "</tr>\n",
       "<tr>\n",
       "  <th>Kurtosis:</th>       <td> 3.592</td>  <th>  Cond. No.          </th> <td>    1.00</td>\n",
       "</tr>\n",
       "</table><br/><br/>Notes:<br/>[1] Standard Errors assume that the covariance matrix of the errors is correctly specified."
      ],
      "text/latex": [
       "\\begin{center}\n",
       "\\begin{tabular}{lclc}\n",
       "\\toprule\n",
       "\\textbf{Dep. Variable:}    &     ORCHIDS      & \\textbf{  R-squared:         } &      0.422   \\\\\n",
       "\\textbf{Model:}            &       OLS        & \\textbf{  Adj. R-squared:    } &      0.422   \\\\\n",
       "\\textbf{Method:}           &  Least Squares   & \\textbf{  F-statistic:       } &  1.459e+04   \\\\\n",
       "\\textbf{Date:}             & Sat, 13 Apr 2024 & \\textbf{  Prob (F-statistic):} &      0.00    \\\\\n",
       "\\textbf{Time:}             &     23:51:54     & \\textbf{  Log-Likelihood:    } & -1.1014e+05  \\\\\n",
       "\\textbf{No. Observations:} &       20002      & \\textbf{  AIC:               } &  2.203e+05   \\\\\n",
       "\\textbf{Df Residuals:}     &       20000      & \\textbf{  BIC:               } &  2.203e+05   \\\\\n",
       "\\textbf{Df Model:}         &           1      & \\textbf{                     } &              \\\\\n",
       "\\textbf{Covariance Type:}  &    nonrobust     & \\textbf{                     } &              \\\\\n",
       "\\bottomrule\n",
       "\\end{tabular}\n",
       "\\begin{tabular}{lcccccc}\n",
       "               & \\textbf{coef} & \\textbf{std err} & \\textbf{t} & \\textbf{P$> |$t$|$} & \\textbf{[0.025} & \\textbf{0.975]}  \\\\\n",
       "\\midrule\n",
       "\\textbf{const} &    1134.8012  &        0.421     &  2692.655  &         0.000        &     1133.975    &     1135.627     \\\\\n",
       "\\textbf{x1}    &      50.9043  &        0.421     &   120.786  &         0.000        &       50.078    &       51.730     \\\\\n",
       "\\bottomrule\n",
       "\\end{tabular}\n",
       "\\begin{tabular}{lclc}\n",
       "\\textbf{Omnibus:}       & 2165.679 & \\textbf{  Durbin-Watson:     } &    0.001  \\\\\n",
       "\\textbf{Prob(Omnibus):} &   0.000  & \\textbf{  Jarque-Bera (JB):  } & 2944.091  \\\\\n",
       "\\textbf{Skew:}          &  -0.892  & \\textbf{  Prob(JB):          } &     0.00  \\\\\n",
       "\\textbf{Kurtosis:}      &   3.592  & \\textbf{  Cond. No.          } &     1.00  \\\\\n",
       "\\bottomrule\n",
       "\\end{tabular}\n",
       "%\\caption{OLS Regression Results}\n",
       "\\end{center}\n",
       "\n",
       "Notes: \\newline\n",
       " [1] Standard Errors assume that the covariance matrix of the errors is correctly specified."
      ],
      "text/plain": [
       "<class 'statsmodels.iolib.summary.Summary'>\n",
       "\"\"\"\n",
       "                            OLS Regression Results                            \n",
       "==============================================================================\n",
       "Dep. Variable:                ORCHIDS   R-squared:                       0.422\n",
       "Model:                            OLS   Adj. R-squared:                  0.422\n",
       "Method:                 Least Squares   F-statistic:                 1.459e+04\n",
       "Date:                Sat, 13 Apr 2024   Prob (F-statistic):               0.00\n",
       "Time:                        23:51:54   Log-Likelihood:            -1.1014e+05\n",
       "No. Observations:               20002   AIC:                         2.203e+05\n",
       "Df Residuals:                   20000   BIC:                         2.203e+05\n",
       "Df Model:                           1                                         \n",
       "Covariance Type:            nonrobust                                         \n",
       "==============================================================================\n",
       "                 coef    std err          t      P>|t|      [0.025      0.975]\n",
       "------------------------------------------------------------------------------\n",
       "const       1134.8012      0.421   2692.655      0.000    1133.975    1135.627\n",
       "x1            50.9043      0.421    120.786      0.000      50.078      51.730\n",
       "==============================================================================\n",
       "Omnibus:                     2165.679   Durbin-Watson:                   0.001\n",
       "Prob(Omnibus):                  0.000   Jarque-Bera (JB):             2944.091\n",
       "Skew:                          -0.892   Prob(JB):                         0.00\n",
       "Kurtosis:                       3.592   Cond. No.                         1.00\n",
       "==============================================================================\n",
       "\n",
       "Notes:\n",
       "[1] Standard Errors assume that the covariance matrix of the errors is correctly specified.\n",
       "\"\"\""
      ]
     },
     "execution_count": 193,
     "metadata": {},
     "output_type": "execute_result"
    }
   ],
   "source": [
    "results4.summary()"
   ]
  },
  {
   "cell_type": "code",
   "execution_count": null,
   "metadata": {},
   "outputs": [],
   "source": []
  },
  {
   "cell_type": "code",
   "execution_count": 180,
   "metadata": {},
   "outputs": [],
   "source": [
    "def transform_timestamp(timestamp, cycle_length=24*60*60*100):\n",
    "    # Calculate angle based on position within cycle\n",
    "    angle = 2 * np.pi * (timestamp % cycle_length) / cycle_length\n",
    "    \n",
    "    # Apply trigonometric transformation (use either sine or cosine)\n",
    "    return np.sin(angle)"
   ]
  },
  {
   "cell_type": "code",
   "execution_count": 181,
   "metadata": {},
   "outputs": [],
   "source": [
    "#cycle_length = 24 * 60 * 60"
   ]
  },
  {
   "cell_type": "code",
   "execution_count": 182,
   "metadata": {},
   "outputs": [],
   "source": [
    "Data_df['SIN_TIMESTAMP'] = Data_df.index.map(transform_timestamp)"
   ]
  },
  {
   "cell_type": "code",
   "execution_count": 229,
   "metadata": {},
   "outputs": [],
   "source": [
    "#.pct_change().fillna(0)\n",
    "#, Data_df['SIN_TIMESTAMP'].diff().fillna(0)\n",
    "X_5 = pd.concat([Data_df['SUNLIGHT'].pct_change().fillna(0) * 100\n",
    "                                        , (Data_df['SUNLIGHT']*Data_df['SIN_TIMESTAMP']).diff().fillna(0)  * 100 ], axis=1)\n",
    "X_5 = X_5.rename(columns={0: '(SUNLIGHT*SIN_TIMESTAMP)_DIFF'})\n",
    "y_5 = Data_df['ORCHIDS'].pct_change().fillna(0) * 100"
   ]
  },
  {
   "cell_type": "code",
   "execution_count": 231,
   "metadata": {},
   "outputs": [
    {
     "name": "stdout",
     "output_type": "stream",
     "text": [
      "RMSE: 0.208094\n",
      "Mean Absolute Error: 0.07446454761209427\n",
      "Accuracy 0.0\n"
     ]
    }
   ],
   "source": [
    "train_test_split_idx = int(X.shape[0]*2/3)\n",
    "X_train, X_test = X_5.iloc[:train_test_split_idx+1], X_5.iloc[train_test_split_idx+1:]\n",
    "y_train, y_test = y_5.iloc[:train_test_split_idx+1], y_5.iloc[train_test_split_idx+1:]\n",
    "\n",
    "scaler = StandardScaler()\n",
    "X_train = scaler.fit_transform(X_train) \n",
    "X_test = scaler.transform(X_test) \n",
    "\n",
    "X_train = sm.add_constant(X_train)\n",
    "X_test = sm.add_constant(X_test)\n",
    "\n",
    "\n",
    "ols = sm.OLS(y_train, X_train)\n",
    "#ols.fit(X_train, y_train)\n",
    "results5 = ols.fit()\n",
    "\n",
    "y_pred = results5.predict(X_test)\n",
    "rmse = np.sqrt(mean_squared_error(y_test, y_pred))\n",
    "print(\"RMSE: %f\" % (rmse))\n",
    "mean_ae = mean_absolute_error(y_test, y_pred)\n",
    "print(\"Mean Absolute Error:\", mean_ae)\n",
    "\n",
    "accuracy_rate = custom_accuracy(y_test, y_pred, tolerance=0.01)\n",
    "print(\"Accuracy\",accuracy_rate)\n"
   ]
  },
  {
   "cell_type": "code",
   "execution_count": 233,
   "metadata": {},
   "outputs": [
    {
     "data": {
      "text/html": [
       "<div>\n",
       "<style scoped>\n",
       "    .dataframe tbody tr th:only-of-type {\n",
       "        vertical-align: middle;\n",
       "    }\n",
       "\n",
       "    .dataframe tbody tr th {\n",
       "        vertical-align: top;\n",
       "    }\n",
       "\n",
       "    .dataframe thead th {\n",
       "        text-align: right;\n",
       "    }\n",
       "</style>\n",
       "<table border=\"1\" class=\"dataframe\">\n",
       "  <thead>\n",
       "    <tr style=\"text-align: right;\">\n",
       "      <th></th>\n",
       "      <th>0</th>\n",
       "    </tr>\n",
       "  </thead>\n",
       "  <tbody>\n",
       "    <tr>\n",
       "      <th>count</th>\n",
       "      <td>10001.000000</td>\n",
       "    </tr>\n",
       "    <tr>\n",
       "      <th>mean</th>\n",
       "      <td>-0.001199</td>\n",
       "    </tr>\n",
       "    <tr>\n",
       "      <th>std</th>\n",
       "      <td>0.110697</td>\n",
       "    </tr>\n",
       "    <tr>\n",
       "      <th>min</th>\n",
       "      <td>-11.070196</td>\n",
       "    </tr>\n",
       "    <tr>\n",
       "      <th>25%</th>\n",
       "      <td>-0.000560</td>\n",
       "    </tr>\n",
       "    <tr>\n",
       "      <th>50%</th>\n",
       "      <td>-0.000343</td>\n",
       "    </tr>\n",
       "    <tr>\n",
       "      <th>75%</th>\n",
       "      <td>0.000360</td>\n",
       "    </tr>\n",
       "    <tr>\n",
       "      <th>max</th>\n",
       "      <td>0.001119</td>\n",
       "    </tr>\n",
       "  </tbody>\n",
       "</table>\n",
       "</div>"
      ],
      "text/plain": [
       "                  0\n",
       "count  10001.000000\n",
       "mean      -0.001199\n",
       "std        0.110697\n",
       "min      -11.070196\n",
       "25%       -0.000560\n",
       "50%       -0.000343\n",
       "75%        0.000360\n",
       "max        0.001119"
      ]
     },
     "execution_count": 233,
     "metadata": {},
     "output_type": "execute_result"
    }
   ],
   "source": [
    "pd.DataFrame(y_pred).describe()"
   ]
  },
  {
   "cell_type": "code",
   "execution_count": 234,
   "metadata": {},
   "outputs": [
    {
     "data": {
      "text/html": [
       "<table class=\"simpletable\">\n",
       "<caption>OLS Regression Results</caption>\n",
       "<tr>\n",
       "  <th>Dep. Variable:</th>         <td>ORCHIDS</td>     <th>  R-squared:         </th>  <td>   0.391</td> \n",
       "</tr>\n",
       "<tr>\n",
       "  <th>Model:</th>                   <td>OLS</td>       <th>  Adj. R-squared:    </th>  <td>   0.391</td> \n",
       "</tr>\n",
       "<tr>\n",
       "  <th>Method:</th>             <td>Least Squares</td>  <th>  F-statistic:       </th>  <td>   6432.</td> \n",
       "</tr>\n",
       "<tr>\n",
       "  <th>Date:</th>             <td>Sun, 14 Apr 2024</td> <th>  Prob (F-statistic):</th>   <td>  0.00</td>  \n",
       "</tr>\n",
       "<tr>\n",
       "  <th>Time:</th>                 <td>00:02:24</td>     <th>  Log-Likelihood:    </th>  <td>  19095.</td> \n",
       "</tr>\n",
       "<tr>\n",
       "  <th>No. Observations:</th>      <td> 20002</td>      <th>  AIC:               </th> <td>-3.818e+04</td>\n",
       "</tr>\n",
       "<tr>\n",
       "  <th>Df Residuals:</th>          <td> 19999</td>      <th>  BIC:               </th> <td>-3.816e+04</td>\n",
       "</tr>\n",
       "<tr>\n",
       "  <th>Df Model:</th>              <td>     2</td>      <th>                     </th>      <td> </td>    \n",
       "</tr>\n",
       "<tr>\n",
       "  <th>Covariance Type:</th>      <td>nonrobust</td>    <th>                     </th>      <td> </td>    \n",
       "</tr>\n",
       "</table>\n",
       "<table class=\"simpletable\">\n",
       "<tr>\n",
       "    <td></td>       <th>coef</th>     <th>std err</th>      <th>t</th>      <th>P>|t|</th>  <th>[0.025</th>    <th>0.975]</th>  \n",
       "</tr>\n",
       "<tr>\n",
       "  <th>const</th> <td>   -0.0007</td> <td>    0.001</td> <td>   -1.009</td> <td> 0.313</td> <td>   -0.002</td> <td>    0.001</td>\n",
       "</tr>\n",
       "<tr>\n",
       "  <th>x1</th>    <td>   -0.0129</td> <td>    0.010</td> <td>   -1.253</td> <td> 0.210</td> <td>   -0.033</td> <td>    0.007</td>\n",
       "</tr>\n",
       "<tr>\n",
       "  <th>x2</th>    <td>    0.0876</td> <td>    0.010</td> <td>    8.507</td> <td> 0.000</td> <td>    0.067</td> <td>    0.108</td>\n",
       "</tr>\n",
       "</table>\n",
       "<table class=\"simpletable\">\n",
       "<tr>\n",
       "  <th>Omnibus:</th>       <td>191.858</td> <th>  Durbin-Watson:     </th> <td>   1.998</td>\n",
       "</tr>\n",
       "<tr>\n",
       "  <th>Prob(Omnibus):</th> <td> 0.000</td>  <th>  Jarque-Bera (JB):  </th> <td> 320.859</td>\n",
       "</tr>\n",
       "<tr>\n",
       "  <th>Skew:</th>          <td> 0.008</td>  <th>  Prob(JB):          </th> <td>2.12e-70</td>\n",
       "</tr>\n",
       "<tr>\n",
       "  <th>Kurtosis:</th>      <td> 3.620</td>  <th>  Cond. No.          </th> <td>    31.2</td>\n",
       "</tr>\n",
       "</table><br/><br/>Notes:<br/>[1] Standard Errors assume that the covariance matrix of the errors is correctly specified."
      ],
      "text/latex": [
       "\\begin{center}\n",
       "\\begin{tabular}{lclc}\n",
       "\\toprule\n",
       "\\textbf{Dep. Variable:}    &     ORCHIDS      & \\textbf{  R-squared:         } &     0.391   \\\\\n",
       "\\textbf{Model:}            &       OLS        & \\textbf{  Adj. R-squared:    } &     0.391   \\\\\n",
       "\\textbf{Method:}           &  Least Squares   & \\textbf{  F-statistic:       } &     6432.   \\\\\n",
       "\\textbf{Date:}             & Sun, 14 Apr 2024 & \\textbf{  Prob (F-statistic):} &     0.00    \\\\\n",
       "\\textbf{Time:}             &     00:02:24     & \\textbf{  Log-Likelihood:    } &    19095.   \\\\\n",
       "\\textbf{No. Observations:} &       20002      & \\textbf{  AIC:               } & -3.818e+04  \\\\\n",
       "\\textbf{Df Residuals:}     &       19999      & \\textbf{  BIC:               } & -3.816e+04  \\\\\n",
       "\\textbf{Df Model:}         &           2      & \\textbf{                     } &             \\\\\n",
       "\\textbf{Covariance Type:}  &    nonrobust     & \\textbf{                     } &             \\\\\n",
       "\\bottomrule\n",
       "\\end{tabular}\n",
       "\\begin{tabular}{lcccccc}\n",
       "               & \\textbf{coef} & \\textbf{std err} & \\textbf{t} & \\textbf{P$> |$t$|$} & \\textbf{[0.025} & \\textbf{0.975]}  \\\\\n",
       "\\midrule\n",
       "\\textbf{const} &      -0.0007  &        0.001     &    -1.009  &         0.313        &       -0.002    &        0.001     \\\\\n",
       "\\textbf{x1}    &      -0.0129  &        0.010     &    -1.253  &         0.210        &       -0.033    &        0.007     \\\\\n",
       "\\textbf{x2}    &       0.0876  &        0.010     &     8.507  &         0.000        &        0.067    &        0.108     \\\\\n",
       "\\bottomrule\n",
       "\\end{tabular}\n",
       "\\begin{tabular}{lclc}\n",
       "\\textbf{Omnibus:}       & 191.858 & \\textbf{  Durbin-Watson:     } &    1.998  \\\\\n",
       "\\textbf{Prob(Omnibus):} &   0.000 & \\textbf{  Jarque-Bera (JB):  } &  320.859  \\\\\n",
       "\\textbf{Skew:}          &   0.008 & \\textbf{  Prob(JB):          } & 2.12e-70  \\\\\n",
       "\\textbf{Kurtosis:}      &   3.620 & \\textbf{  Cond. No.          } &     31.2  \\\\\n",
       "\\bottomrule\n",
       "\\end{tabular}\n",
       "%\\caption{OLS Regression Results}\n",
       "\\end{center}\n",
       "\n",
       "Notes: \\newline\n",
       " [1] Standard Errors assume that the covariance matrix of the errors is correctly specified."
      ],
      "text/plain": [
       "<class 'statsmodels.iolib.summary.Summary'>\n",
       "\"\"\"\n",
       "                            OLS Regression Results                            \n",
       "==============================================================================\n",
       "Dep. Variable:                ORCHIDS   R-squared:                       0.391\n",
       "Model:                            OLS   Adj. R-squared:                  0.391\n",
       "Method:                 Least Squares   F-statistic:                     6432.\n",
       "Date:                Sun, 14 Apr 2024   Prob (F-statistic):               0.00\n",
       "Time:                        00:02:24   Log-Likelihood:                 19095.\n",
       "No. Observations:               20002   AIC:                        -3.818e+04\n",
       "Df Residuals:                   19999   BIC:                        -3.816e+04\n",
       "Df Model:                           2                                         \n",
       "Covariance Type:            nonrobust                                         \n",
       "==============================================================================\n",
       "                 coef    std err          t      P>|t|      [0.025      0.975]\n",
       "------------------------------------------------------------------------------\n",
       "const         -0.0007      0.001     -1.009      0.313      -0.002       0.001\n",
       "x1            -0.0129      0.010     -1.253      0.210      -0.033       0.007\n",
       "x2             0.0876      0.010      8.507      0.000       0.067       0.108\n",
       "==============================================================================\n",
       "Omnibus:                      191.858   Durbin-Watson:                   1.998\n",
       "Prob(Omnibus):                  0.000   Jarque-Bera (JB):              320.859\n",
       "Skew:                           0.008   Prob(JB):                     2.12e-70\n",
       "Kurtosis:                       3.620   Cond. No.                         31.2\n",
       "==============================================================================\n",
       "\n",
       "Notes:\n",
       "[1] Standard Errors assume that the covariance matrix of the errors is correctly specified.\n",
       "\"\"\""
      ]
     },
     "execution_count": 234,
     "metadata": {},
     "output_type": "execute_result"
    }
   ],
   "source": [
    "results5.summary()"
   ]
  },
  {
   "cell_type": "code",
   "execution_count": null,
   "metadata": {},
   "outputs": [],
   "source": []
  },
  {
   "cell_type": "code",
   "execution_count": null,
   "metadata": {},
   "outputs": [],
   "source": []
  }
 ],
 "metadata": {
  "kernelspec": {
   "display_name": "imc_env",
   "language": "python",
   "name": "python3"
  },
  "language_info": {
   "codemirror_mode": {
    "name": "ipython",
    "version": 3
   },
   "file_extension": ".py",
   "mimetype": "text/x-python",
   "name": "python",
   "nbconvert_exporter": "python",
   "pygments_lexer": "ipython3",
   "version": "3.12.2"
  }
 },
 "nbformat": 4,
 "nbformat_minor": 2
}
