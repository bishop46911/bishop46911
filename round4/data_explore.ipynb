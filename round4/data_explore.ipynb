{
 "cells": [
  {
   "cell_type": "code",
   "execution_count": 156,
   "metadata": {},
   "outputs": [],
   "source": [
    "import pandas as pd\n",
    "import numpy as np\n",
    "import re\n",
    "import json\n",
    "import functools\n",
    "import seaborn as sns\n",
    "import scipy\n",
    "import collections\n",
    "import itertools\n",
    "import statsmodels.api as sm\n",
    "from statsmodels.tsa.stattools import adfuller\n",
    "import statsmodels.tsa.stattools as ts\n",
    "import matplotlib.pyplot as plt\n",
    "import matplotlib as mpl\n",
    "from tqdm import tqdm\n",
    "from scipy.stats import kstest"
   ]
  },
  {
   "cell_type": "code",
   "execution_count": 132,
   "metadata": {},
   "outputs": [],
   "source": [
    "import warnings\n",
    "warnings.filterwarnings('ignore')"
   ]
  },
  {
   "cell_type": "markdown",
   "metadata": {},
   "source": [
    "### Try to parse the updated mean_edge and std_edge from r3_final, however it's hard to handle the log text file"
   ]
  },
  {
   "cell_type": "code",
   "execution_count": 33,
   "metadata": {},
   "outputs": [],
   "source": [
    "def extract_dicts(raw_text, key):\n",
    "    # Define the pattern to match the desired section containing the specified key\n",
    "    pattern = rf'\\\"{key}\\\\\":\\[({{(?:[^{{}}]|(?1))*}})\\]'\n",
    "    \n",
    "    # Find all matches of the pattern in the raw text\n",
    "    matches = re.findall(pattern, raw_text)\n",
    "    \n",
    "    # Parse each match as a JSON object and append to the list\n",
    "    extracted_dicts = []\n",
    "    for match in matches:\n",
    "        extracted_dict = json.loads(\"{\" + match + \"}\")\n",
    "        extracted_dicts.append(extracted_dict)\n",
    "    \n",
    "    return extracted_dicts"
   ]
  },
  {
   "cell_type": "code",
   "execution_count": 44,
   "metadata": {},
   "outputs": [],
   "source": [
    "def extract_dicts(raw_text, key=\"GIFT_BASKET\"):\n",
    "    # Use regular expression to find the dictionary associated with the specified key\n",
    "    pattern = r'\"{key}\":(\\[[^\\\\]]+\\\\])'\n",
    "    match = re.search(pattern, raw_text)\n",
    "    if match:\n",
    "        # Extract the matched dictionary string and parse it as JSON\n",
    "        dict_str = match.group(1)\n",
    "        return json.loads(dict_str)\n",
    "    else:\n",
    "        return None"
   ]
  },
  {
   "cell_type": "code",
   "execution_count": 37,
   "metadata": {},
   "outputs": [],
   "source": [
    "this_line_lst = []\n",
    "with open('../round3/r3_final.log', 'r') as fp:\n",
    "    for i in range(10):\n",
    "        line = next(fp).strip()\n",
    "        if line[1:10]==\"lambdaLog\":\n",
    "            #this_line_lst.append(extract_dicts(line[14:-1], key=\"GIFT_BASKET\"))\n",
    "            this_line_lst.append(line[14:-1])"
   ]
  },
  {
   "cell_type": "code",
   "execution_count": 38,
   "metadata": {},
   "outputs": [
    {
     "data": {
      "text/plain": [
       "['[[0,\\\\\"\\\\\",[[\\\\\"STARFRUIT\\\\\",\\\\\"STARFRUIT\\\\\",1],[\\\\\"AMETHYSTS\\\\\",\\\\\"AMETHYSTS\\\\\",1],[\\\\\"CHOCOLATE\\\\\",\\\\\"CHOCOLATE\\\\\",1],[\\\\\"GIFT_BASKET\\\\\",\\\\\"GIFT_BASKET\\\\\",1],[\\\\\"ORCHIDS\\\\\",\\\\\"ORCHIDS\\\\\",1],[\\\\\"ROSES\\\\\",\\\\\"ROSES\\\\\",1],[\\\\\"STRAWBERRIES\\\\\",\\\\\"STRAWBERRIES\\\\\",1]],{\\\\\"AMETHYSTS\\\\\":[{\\\\\"9996\\\\\":2,\\\\\"9995\\\\\":25},{\\\\\"10004\\\\\":-2,\\\\\"10005\\\\\":-25}],\\\\\"CHOCOLATE\\\\\":[{\\\\\"7750\\\\\":117},{\\\\\"7752\\\\\":-117}],\\\\\"GIFT_BASKET\\\\\":[{\\\\\"69548\\\\\":2,\\\\\"69547\\\\\":14,\\\\\"69546\\\\\":30},{\\\\\"69559\\\\\":-2,\\\\\"69560\\\\\":-14,\\\\\"69561\\\\\":-30}],\\\\\"ORCHIDS\\\\\":[{\\\\\"1090\\\\\":7,\\\\\"1089\\\\\":2,\\\\\"1082\\\\\":46},{\\\\\"1099\\\\\":-7,\\\\\"1100\\\\\":-2,\\\\\"1108\\\\\":-46}],\\\\\"ROSES\\\\\":[{\\\\\"14415\\\\\":72},{\\\\\"14416\\\\\":-72}],\\\\\"STARFRUIT\\\\\":[{\\\\\"5002\\\\\":1,\\\\\"5001\\\\\":27},{\\\\\"5008\\\\\":-27}],\\\\\"STRAWBERRIES\\\\\":[{\\\\\"3984\\\\\":181},{\\\\\"3986\\\\\":-181}]},[],[],{},[{},{\\\\\"ORCHIDS\\\\\":[1094.0,1095.5,1.5,10.5,-2.0,2000.0,75.0]}]],[[\\\\\"AMETHYSTS\\\\\",9997,20],[\\\\\"AMETHYSTS\\\\\",10003,-20],[\\\\\"STARFRUIT\\\\\",5003,20],[\\\\\"STARFRUIT\\\\\",5007,-20],[\\\\\"GIFT_BASKET\\\\\",69559,37],[\\\\\"CHOCOLATE\\\\\",7752,-17],[\\\\\"STRAWBERRIES\\\\\",3986,-12],[\\\\\"ROSES\\\\\",14416,-8]],0,\\\\\"TEST\\\\\",\\\\\"std_edge: 77.03139010299633\\\\\\\\nedge: -156.0\\\\\\\\ntarget_pos_dict: {\\'GIFT_BASKET\\': 37.0, \\'CHOCOLATE\\': -17.0, \\'STRAWBERRIES\\': -12.0, \\'ROSES\\': -8.0}\\\\\\\\ncur_pos_dict: {\\'GIFT_BASKET\\': 0, \\'CHOCOLATE\\': 0, \\'STRAWBERRIES\\': 0, \\'ROSES\\': 0}\\\\\\\\n\\\\\"]\"',\n",
       " '[[100,\\\\\"TEST\\\\\",[[\\\\\"STARFRUIT\\\\\",\\\\\"STARFRUIT\\\\\",1],[\\\\\"AMETHYSTS\\\\\",\\\\\"AMETHYSTS\\\\\",1],[\\\\\"CHOCOLATE\\\\\",\\\\\"CHOCOLATE\\\\\",1],[\\\\\"GIFT_BASKET\\\\\",\\\\\"GIFT_BASKET\\\\\",1],[\\\\\"ORCHIDS\\\\\",\\\\\"ORCHIDS\\\\\",1],[\\\\\"ROSES\\\\\",\\\\\"ROSES\\\\\",1],[\\\\\"STRAWBERRIES\\\\\",\\\\\"STRAWBERRIES\\\\\",1]],{\\\\\"AMETHYSTS\\\\\":[{\\\\\"9996\\\\\":2,\\\\\"9995\\\\\":28},{\\\\\"9998\\\\\":-1,\\\\\"10004\\\\\":-2,\\\\\"10005\\\\\":-28}],\\\\\"CHOCOLATE\\\\\":[{\\\\\"7751\\\\\":50,\\\\\"7750\\\\\":87},{\\\\\"7752\\\\\":-137}],\\\\\"GIFT_BASKET\\\\\":[{\\\\\"69551\\\\\":2,\\\\\"69549\\\\\":10,\\\\\"69548\\\\\":20},{\\\\\"69561\\\\\":-2,\\\\\"69562\\\\\":-10,\\\\\"69563\\\\\":-20}],\\\\\"ORCHIDS\\\\\":[{\\\\\"1091\\\\\":8,\\\\\"1090\\\\\":2,\\\\\"1083\\\\\":46},{\\\\\"1099\\\\\":-8,\\\\\"1100\\\\\":-2,\\\\\"1107\\\\\":-46}],\\\\\"ROSES\\\\\":[{\\\\\"14418\\\\\":20,\\\\\"14417\\\\\":37},{\\\\\"14419\\\\\":-57}],\\\\\"STARFRUIT\\\\\":[{\\\\\"5006\\\\\":7,\\\\\"5005\\\\\":4,\\\\\"5002\\\\\":3,\\\\\"5001\\\\\":30},{\\\\\"5008\\\\\":-30}],\\\\\"STRAWBERRIES\\\\\":[{\\\\\"3984\\\\\":189},{\\\\\"3986\\\\\":-189}]},[[\\\\\"GIFT_BASKET\\\\\",69559.0,2,\\\\\"SUBMISSION\\\\\",\\\\\"\\\\\",0]],[[\\\\\"CHOCOLATE\\\\\",7750.0,8,\\\\\"\\\\\",\\\\\"\\\\\",0],[\\\\\"STRAWBERRIES\\\\\",3984.0,6,\\\\\"\\\\\",\\\\\"\\\\\",0]],{\\\\\"GIFT_BASKET\\\\\":2},[{},{\\\\\"ORCHIDS\\\\\":[1094.0,1096.0,1.4,9.5,-2.0,2000.7605,75.006584]}]],[[\\\\\"AMETHYSTS\\\\\",9998,1],[\\\\\"AMETHYSTS\\\\\",9997,19],[\\\\\"AMETHYSTS\\\\\",10001,-20],[\\\\\"STARFRUIT\\\\\",5005,20],[\\\\\"STARFRUIT\\\\\",5007,-20],[\\\\\"GIFT_BASKET\\\\\",69561,38],[\\\\\"CHOCOLATE\\\\\",7752,-18],[\\\\\"STRAWBERRIES\\\\\",3986,-13],[\\\\\"ROSES\\\\\",14419,-8]],0,\\\\\"TEST\\\\\",\\\\\"std_edge: 77.64332756754706\\\\\\\\nedge: -158.5\\\\\\\\ntarget_pos_dict: {\\'GIFT_BASKET\\': 38.0, \\'CHOCOLATE\\': -18.0, \\'STRAWBERRIES\\': -13.0, \\'ROSES\\': -8.0}\\\\\\\\ncur_pos_dict: {\\'GIFT_BASKET\\': 2, \\'CHOCOLATE\\': 0, \\'STRAWBERRIES\\': 0, \\'ROSES\\': 0}\\\\\\\\n\\\\\"]\"']"
      ]
     },
     "execution_count": 38,
     "metadata": {},
     "output_type": "execute_result"
    }
   ],
   "source": [
    "this_line_lst"
   ]
  },
  {
   "cell_type": "code",
   "execution_count": 45,
   "metadata": {},
   "outputs": [],
   "source": [
    "extract_dicts(this_line_lst[0])"
   ]
  },
  {
   "cell_type": "code",
   "execution_count": null,
   "metadata": {},
   "outputs": [],
   "source": []
  },
  {
   "cell_type": "code",
   "execution_count": null,
   "metadata": {},
   "outputs": [],
   "source": []
  },
  {
   "cell_type": "code",
   "execution_count": 5,
   "metadata": {},
   "outputs": [],
   "source": [
    "gift_basket_components_mid_price_lst = []\n",
    "with open('../round3/r3_final.log', 'r') as fp:\n",
    "    for line in fp:\n",
    "        print(line)\n",
    "        if line[1:10]==\"lambdaLog\":\n",
    "            gift_basket_components_mid_price_lst.append(line[14:-1])\n"
   ]
  },
  {
   "cell_type": "code",
   "execution_count": 6,
   "metadata": {},
   "outputs": [
    {
     "data": {
      "text/plain": [
       "0"
      ]
     },
     "execution_count": 6,
     "metadata": {},
     "output_type": "execute_result"
    }
   ],
   "source": [
    "len(gift_basket_components_mid_price_lst)"
   ]
  },
  {
   "cell_type": "markdown",
   "metadata": {},
   "source": [
    "### read the r4 historical prices"
   ]
  },
  {
   "cell_type": "code",
   "execution_count": 99,
   "metadata": {},
   "outputs": [],
   "source": [
    "prices_day_1_df = pd.read_csv('../data/round-4-island-data-bottle/prices_round_4_day_1.csv', index_col='timestamp', sep=';')\n",
    "prices_day_2_df = pd.read_csv('../data/round-4-island-data-bottle/prices_round_4_day_2.csv', index_col='timestamp', sep=';')\n",
    "prices_day_3_df = pd.read_csv('../data/round-4-island-data-bottle/prices_round_4_day_3.csv', index_col='timestamp', sep=';')"
   ]
  },
  {
   "cell_type": "code",
   "execution_count": 100,
   "metadata": {},
   "outputs": [
    {
     "data": {
      "text/html": [
       "<div>\n",
       "<style scoped>\n",
       "    .dataframe tbody tr th:only-of-type {\n",
       "        vertical-align: middle;\n",
       "    }\n",
       "\n",
       "    .dataframe tbody tr th {\n",
       "        vertical-align: top;\n",
       "    }\n",
       "\n",
       "    .dataframe thead th {\n",
       "        text-align: right;\n",
       "    }\n",
       "</style>\n",
       "<table border=\"1\" class=\"dataframe\">\n",
       "  <thead>\n",
       "    <tr style=\"text-align: right;\">\n",
       "      <th></th>\n",
       "      <th>day</th>\n",
       "      <th>product</th>\n",
       "      <th>bid_price_1</th>\n",
       "      <th>bid_volume_1</th>\n",
       "      <th>bid_price_2</th>\n",
       "      <th>bid_volume_2</th>\n",
       "      <th>bid_price_3</th>\n",
       "      <th>bid_volume_3</th>\n",
       "      <th>ask_price_1</th>\n",
       "      <th>ask_volume_1</th>\n",
       "      <th>ask_price_2</th>\n",
       "      <th>ask_volume_2</th>\n",
       "      <th>ask_price_3</th>\n",
       "      <th>ask_volume_3</th>\n",
       "      <th>mid_price</th>\n",
       "      <th>profit_and_loss</th>\n",
       "    </tr>\n",
       "    <tr>\n",
       "      <th>timestamp</th>\n",
       "      <th></th>\n",
       "      <th></th>\n",
       "      <th></th>\n",
       "      <th></th>\n",
       "      <th></th>\n",
       "      <th></th>\n",
       "      <th></th>\n",
       "      <th></th>\n",
       "      <th></th>\n",
       "      <th></th>\n",
       "      <th></th>\n",
       "      <th></th>\n",
       "      <th></th>\n",
       "      <th></th>\n",
       "      <th></th>\n",
       "      <th></th>\n",
       "    </tr>\n",
       "  </thead>\n",
       "  <tbody>\n",
       "    <tr>\n",
       "      <th>0</th>\n",
       "      <td>1</td>\n",
       "      <td>COCONUT</td>\n",
       "      <td>9999</td>\n",
       "      <td>200</td>\n",
       "      <td>NaN</td>\n",
       "      <td>NaN</td>\n",
       "      <td>NaN</td>\n",
       "      <td>NaN</td>\n",
       "      <td>10001</td>\n",
       "      <td>200</td>\n",
       "      <td>NaN</td>\n",
       "      <td>NaN</td>\n",
       "      <td>NaN</td>\n",
       "      <td>NaN</td>\n",
       "      <td>10000.0</td>\n",
       "      <td>0.0</td>\n",
       "    </tr>\n",
       "    <tr>\n",
       "      <th>0</th>\n",
       "      <td>1</td>\n",
       "      <td>COCONUT_COUPON</td>\n",
       "      <td>637</td>\n",
       "      <td>39</td>\n",
       "      <td>NaN</td>\n",
       "      <td>NaN</td>\n",
       "      <td>NaN</td>\n",
       "      <td>NaN</td>\n",
       "      <td>638</td>\n",
       "      <td>39</td>\n",
       "      <td>NaN</td>\n",
       "      <td>NaN</td>\n",
       "      <td>NaN</td>\n",
       "      <td>NaN</td>\n",
       "      <td>637.5</td>\n",
       "      <td>0.0</td>\n",
       "    </tr>\n",
       "    <tr>\n",
       "      <th>100</th>\n",
       "      <td>1</td>\n",
       "      <td>COCONUT</td>\n",
       "      <td>9999</td>\n",
       "      <td>104</td>\n",
       "      <td>9998.0</td>\n",
       "      <td>44.0</td>\n",
       "      <td>NaN</td>\n",
       "      <td>NaN</td>\n",
       "      <td>10000</td>\n",
       "      <td>104</td>\n",
       "      <td>10001.0</td>\n",
       "      <td>44.0</td>\n",
       "      <td>NaN</td>\n",
       "      <td>NaN</td>\n",
       "      <td>9999.5</td>\n",
       "      <td>0.0</td>\n",
       "    </tr>\n",
       "    <tr>\n",
       "      <th>100</th>\n",
       "      <td>1</td>\n",
       "      <td>COCONUT_COUPON</td>\n",
       "      <td>637</td>\n",
       "      <td>33</td>\n",
       "      <td>NaN</td>\n",
       "      <td>NaN</td>\n",
       "      <td>NaN</td>\n",
       "      <td>NaN</td>\n",
       "      <td>638</td>\n",
       "      <td>33</td>\n",
       "      <td>NaN</td>\n",
       "      <td>NaN</td>\n",
       "      <td>NaN</td>\n",
       "      <td>NaN</td>\n",
       "      <td>637.5</td>\n",
       "      <td>0.0</td>\n",
       "    </tr>\n",
       "    <tr>\n",
       "      <th>200</th>\n",
       "      <td>1</td>\n",
       "      <td>COCONUT</td>\n",
       "      <td>9998</td>\n",
       "      <td>133</td>\n",
       "      <td>9997.0</td>\n",
       "      <td>62.0</td>\n",
       "      <td>NaN</td>\n",
       "      <td>NaN</td>\n",
       "      <td>9999</td>\n",
       "      <td>133</td>\n",
       "      <td>10000.0</td>\n",
       "      <td>62.0</td>\n",
       "      <td>NaN</td>\n",
       "      <td>NaN</td>\n",
       "      <td>9998.5</td>\n",
       "      <td>0.0</td>\n",
       "    </tr>\n",
       "  </tbody>\n",
       "</table>\n",
       "</div>"
      ],
      "text/plain": [
       "           day         product  bid_price_1  bid_volume_1  bid_price_2  \\\n",
       "timestamp                                                                \n",
       "0            1         COCONUT         9999           200          NaN   \n",
       "0            1  COCONUT_COUPON          637            39          NaN   \n",
       "100          1         COCONUT         9999           104       9998.0   \n",
       "100          1  COCONUT_COUPON          637            33          NaN   \n",
       "200          1         COCONUT         9998           133       9997.0   \n",
       "\n",
       "           bid_volume_2  bid_price_3  bid_volume_3  ask_price_1  ask_volume_1  \\\n",
       "timestamp                                                                       \n",
       "0                   NaN          NaN           NaN        10001           200   \n",
       "0                   NaN          NaN           NaN          638            39   \n",
       "100                44.0          NaN           NaN        10000           104   \n",
       "100                 NaN          NaN           NaN          638            33   \n",
       "200                62.0          NaN           NaN         9999           133   \n",
       "\n",
       "           ask_price_2  ask_volume_2  ask_price_3  ask_volume_3  mid_price  \\\n",
       "timestamp                                                                    \n",
       "0                  NaN           NaN          NaN           NaN    10000.0   \n",
       "0                  NaN           NaN          NaN           NaN      637.5   \n",
       "100            10001.0          44.0          NaN           NaN     9999.5   \n",
       "100                NaN           NaN          NaN           NaN      637.5   \n",
       "200            10000.0          62.0          NaN           NaN     9998.5   \n",
       "\n",
       "           profit_and_loss  \n",
       "timestamp                   \n",
       "0                      0.0  \n",
       "0                      0.0  \n",
       "100                    0.0  \n",
       "100                    0.0  \n",
       "200                    0.0  "
      ]
     },
     "execution_count": 100,
     "metadata": {},
     "output_type": "execute_result"
    }
   ],
   "source": [
    "prices_day_1_df.head()"
   ]
  },
  {
   "cell_type": "code",
   "execution_count": 101,
   "metadata": {},
   "outputs": [],
   "source": [
    "Data_df = pd.concat([prices_day_1_df,prices_day_2_df,prices_day_3_df],axis = 0)"
   ]
  },
  {
   "cell_type": "code",
   "execution_count": 102,
   "metadata": {},
   "outputs": [],
   "source": [
    "df_coconut_day_123 = Data_df.loc[Data_df['product']=='COCONUT'].rename(columns={'mid_price': 'coconut_mid_price'})[['day', 'coconut_mid_price']]\n",
    "df_coupon_day_123 = Data_df.loc[Data_df['product']=='COCONUT_COUPON'].rename(columns={'mid_price': 'coupon_mid_price'})[['day', 'coupon_mid_price']]\n"
   ]
  },
  {
   "cell_type": "code",
   "execution_count": 103,
   "metadata": {},
   "outputs": [],
   "source": [
    "df_all_mid_prices_day_123 = functools.reduce(lambda left, right: pd.merge(left, right, on=['timestamp', 'day']), \n",
    "                                                                                [df_coconut_day_123, df_coupon_day_123])"
   ]
  },
  {
   "cell_type": "code",
   "execution_count": 104,
   "metadata": {},
   "outputs": [
    {
     "data": {
      "text/html": [
       "<div>\n",
       "<style scoped>\n",
       "    .dataframe tbody tr th:only-of-type {\n",
       "        vertical-align: middle;\n",
       "    }\n",
       "\n",
       "    .dataframe tbody tr th {\n",
       "        vertical-align: top;\n",
       "    }\n",
       "\n",
       "    .dataframe thead th {\n",
       "        text-align: right;\n",
       "    }\n",
       "</style>\n",
       "<table border=\"1\" class=\"dataframe\">\n",
       "  <thead>\n",
       "    <tr style=\"text-align: right;\">\n",
       "      <th></th>\n",
       "      <th>day</th>\n",
       "      <th>coconut_mid_price</th>\n",
       "      <th>coupon_mid_price</th>\n",
       "    </tr>\n",
       "    <tr>\n",
       "      <th>timestamp</th>\n",
       "      <th></th>\n",
       "      <th></th>\n",
       "      <th></th>\n",
       "    </tr>\n",
       "  </thead>\n",
       "  <tbody>\n",
       "    <tr>\n",
       "      <th>0</th>\n",
       "      <td>1</td>\n",
       "      <td>10000.0</td>\n",
       "      <td>637.5</td>\n",
       "    </tr>\n",
       "    <tr>\n",
       "      <th>100</th>\n",
       "      <td>1</td>\n",
       "      <td>9999.5</td>\n",
       "      <td>637.5</td>\n",
       "    </tr>\n",
       "    <tr>\n",
       "      <th>200</th>\n",
       "      <td>1</td>\n",
       "      <td>9998.5</td>\n",
       "      <td>637.5</td>\n",
       "    </tr>\n",
       "    <tr>\n",
       "      <th>300</th>\n",
       "      <td>1</td>\n",
       "      <td>9999.5</td>\n",
       "      <td>638.5</td>\n",
       "    </tr>\n",
       "    <tr>\n",
       "      <th>400</th>\n",
       "      <td>1</td>\n",
       "      <td>9998.5</td>\n",
       "      <td>637.5</td>\n",
       "    </tr>\n",
       "  </tbody>\n",
       "</table>\n",
       "</div>"
      ],
      "text/plain": [
       "           day  coconut_mid_price  coupon_mid_price\n",
       "timestamp                                          \n",
       "0            1            10000.0             637.5\n",
       "100          1             9999.5             637.5\n",
       "200          1             9998.5             637.5\n",
       "300          1             9999.5             638.5\n",
       "400          1             9998.5             637.5"
      ]
     },
     "execution_count": 104,
     "metadata": {},
     "output_type": "execute_result"
    }
   ],
   "source": [
    "df_all_mid_prices_day_123.head()"
   ]
  },
  {
   "cell_type": "code",
   "execution_count": 54,
   "metadata": {},
   "outputs": [
    {
     "data": {
      "image/png": "[encoded data removed]",
      "text/plain": [
       "<Figure size 1000x500 with 2 Axes>"
      ]
     },
     "metadata": {},
     "output_type": "display_data"
    }
   ],
   "source": [
    "#kde plots\n",
    "features = Data_df['product'].unique().tolist()\n",
    "n_cols = 2\n",
    "n_rows = (len(features) + n_cols - 1) // n_cols\n",
    "fig, axes = plt.subplots(n_rows, n_cols, figsize=(5 * n_cols, 5 * n_rows))\n",
    "#fig.suptitle('Cumulative Distribution Functions for Each Feature')\n",
    "axes = axes.ravel()\n",
    "for i, feature in enumerate(features):\n",
    "    sns.kdeplot(Data_df.loc[Data_df['product']==feature]['mid_price'], log_scale=True, fill=True, ax=axes[i])\n",
    "    axes[i].set_title(f'{feature}')\n",
    "    #axes[i].set_xlabel('Value')\n",
    "    #axes[i].set_ylabel('Probability')\n",
    "# Turn off any unused subplots\n",
    "for j in range(i + 1, len(axes)):\n",
    "    axes[j].axis('off')\n",
    "plt.tight_layout(rect=[0, 0, 1, 0.96])\n",
    "plt.show()"
   ]
  },
  {
   "cell_type": "code",
   "execution_count": 56,
   "metadata": {},
   "outputs": [
    {
     "data": {
      "text/html": [
       "<div>\n",
       "<style scoped>\n",
       "    .dataframe tbody tr th:only-of-type {\n",
       "        vertical-align: middle;\n",
       "    }\n",
       "\n",
       "    .dataframe tbody tr th {\n",
       "        vertical-align: top;\n",
       "    }\n",
       "\n",
       "    .dataframe thead th {\n",
       "        text-align: right;\n",
       "    }\n",
       "</style>\n",
       "<table border=\"1\" class=\"dataframe\">\n",
       "  <thead>\n",
       "    <tr style=\"text-align: right;\">\n",
       "      <th></th>\n",
       "      <th>coconut_mid_price</th>\n",
       "      <th>coupon_mid_price</th>\n",
       "    </tr>\n",
       "  </thead>\n",
       "  <tbody>\n",
       "    <tr>\n",
       "      <th>coconut_mid_price</th>\n",
       "      <td>1.000000</td>\n",
       "      <td>0.957869</td>\n",
       "    </tr>\n",
       "    <tr>\n",
       "      <th>coupon_mid_price</th>\n",
       "      <td>0.957869</td>\n",
       "      <td>1.000000</td>\n",
       "    </tr>\n",
       "  </tbody>\n",
       "</table>\n",
       "</div>"
      ],
      "text/plain": [
       "                   coconut_mid_price  coupon_mid_price\n",
       "coconut_mid_price           1.000000          0.957869\n",
       "coupon_mid_price            0.957869          1.000000"
      ]
     },
     "execution_count": 56,
     "metadata": {},
     "output_type": "execute_result"
    }
   ],
   "source": [
    "df_all_mid_prices_day_123[['coconut_mid_price', 'coupon_mid_price']].corr()"
   ]
  },
  {
   "cell_type": "code",
   "execution_count": 58,
   "metadata": {},
   "outputs": [
    {
     "data": {
      "image/png": "[encoded data removed]",
      "text/plain": [
       "<Figure size 1800x500 with 2 Axes>"
      ]
     },
     "metadata": {},
     "output_type": "display_data"
    }
   ],
   "source": [
    "#Feature plots\n",
    "features = ['coconut_mid_price', 'coupon_mid_price']\n",
    "n_features = len(features)\n",
    "n_cols = 2  # Choose 1 column for a vertical layout\n",
    "n_rows = n_features // n_cols + (n_features % n_cols > 0)\n",
    "#n_rows = 1\n",
    "# Create a figure and a set of subplots\n",
    "fig, axes = plt.subplots(n_rows, n_cols, figsize=(18, 5 * n_rows))  # Adjust figure size as needed\n",
    "# Flatten the axes array and iterate over it along with the features\n",
    "#axes = axes.flatten() if n_rows > 1 else [axes]\n",
    "\n",
    "\n",
    "for feature, ax in zip(features, axes.flatten()):\n",
    "    for day in [1, 2, 3]:\n",
    "        ax.plot(df_all_mid_prices_day_123[df_all_mid_prices_day_123.day == day].index,\n",
    "                df_all_mid_prices_day_123[df_all_mid_prices_day_123.day == day][feature], label=f'Day {day}')\n",
    "    ax.set_title(f'{feature}')\n",
    "    ax.set_xlabel('Timestamp')\n",
    "    ax.set_ylabel('Mid Price')\n",
    "    ax.legend()\n",
    "\n",
    "plt.tight_layout()\n",
    "plt.show()"
   ]
  },
  {
   "cell_type": "code",
   "execution_count": 63,
   "metadata": {},
   "outputs": [
    {
     "name": "stdout",
     "output_type": "stream",
     "text": [
      "Augmneted Dickey_fuller Statistic - coconut: -0.523799\n",
      "p-value: 0.887288\n",
      "critical values at different levels:\n",
      "\t1%: -3.431\n",
      "\t5%: -2.862\n",
      "\t10%: -2.567\n"
     ]
    }
   ],
   "source": [
    "coconut_prices_3days_arr = df_coconut_day_123.coconut_mid_price.values\n",
    "# passing the extracted passengers count to adfuller function.\n",
    "# result of adfuller function is stored in a res variable\n",
    "res = adfuller(coconut_prices_3days_arr)\n",
    " \n",
    "# Printing the statistical result of the adfuller test\n",
    "print('Augmneted Dickey_fuller Statistic - coconut: %f' % res[0])\n",
    "print('p-value: %f' % res[1])\n",
    " \n",
    "# printing the critical values at different alpha levels.\n",
    "print('critical values at different levels:')\n",
    "for k, v in res[4].items():\n",
    "    print('\\t%s: %.3f' % (k, v))"
   ]
  },
  {
   "cell_type": "code",
   "execution_count": 64,
   "metadata": {},
   "outputs": [
    {
     "name": "stdout",
     "output_type": "stream",
     "text": [
      "Augmneted Dickey_fuller Statistic - coupon: -1.861315\n",
      "p-value: 0.350473\n",
      "critical values at different levels:\n",
      "\t1%: -3.431\n",
      "\t5%: -2.862\n",
      "\t10%: -2.567\n"
     ]
    }
   ],
   "source": [
    "coupon_prices_3days_arr = df_coupon_day_123.coupon_mid_price.values\n",
    "# passing the extracted passengers count to adfuller function.\n",
    "# result of adfuller function is stored in a res variable\n",
    "res = adfuller(coupon_prices_3days_arr)\n",
    " \n",
    "# Printing the statistical result of the adfuller test\n",
    "print('Augmneted Dickey_fuller Statistic - coupon: %f' % res[0])\n",
    "print('p-value: %f' % res[1])\n",
    " \n",
    "# printing the critical values at different alpha levels.\n",
    "print('critical values at different levels:')\n",
    "for k, v in res[4].items():\n",
    "    print('\\t%s: %.3f' % (k, v))"
   ]
  },
  {
   "cell_type": "markdown",
   "metadata": {},
   "source": [
    "### As shown above, both series are non-stationary, they have a very strong correlation"
   ]
  },
  {
   "cell_type": "code",
   "execution_count": 65,
   "metadata": {},
   "outputs": [
    {
     "name": "stdout",
     "output_type": "stream",
     "text": [
      "cointegration test on coconut_mid_price, coupon_mid_price\n",
      "\n",
      "p_value: 7.055839982389328e-07\n",
      "(-6.1660473794704975, 7.055839982389328e-07, array([-3.89680511, -3.33633368, -3.04459138]))\n"
     ]
    }
   ],
   "source": [
    "print(f'cointegration test on coconut_mid_price, coupon_mid_price\\n')\n",
    "this_test = ts.coint(df_all_mid_prices_day_123['coconut_mid_price'], df_all_mid_prices_day_123['coupon_mid_price'])\n",
    "print(f'p_value: {this_test[1]}')\n",
    "print(this_test)"
   ]
  },
  {
   "cell_type": "code",
   "execution_count": 66,
   "metadata": {},
   "outputs": [
    {
     "name": "stdout",
     "output_type": "stream",
     "text": [
      "cointegration test on coupon_mid_price, coconut_mid_price\n",
      "\n",
      "p_value: 1.7164617278287766e-07\n",
      "(-6.440746508016365, 1.7164617278287766e-07, array([-3.89680511, -3.33633368, -3.04459138]))\n"
     ]
    }
   ],
   "source": [
    "print(f'cointegration test on coupon_mid_price, coconut_mid_price\\n')\n",
    "this_test = ts.coint(df_all_mid_prices_day_123['coupon_mid_price'], df_all_mid_prices_day_123['coconut_mid_price'])\n",
    "print(f'p_value: {this_test[1]}')\n",
    "print(this_test)"
   ]
  },
  {
   "cell_type": "code",
   "execution_count": null,
   "metadata": {},
   "outputs": [],
   "source": []
  },
  {
   "cell_type": "markdown",
   "metadata": {},
   "source": [
    "### strong co-integration relation exists"
   ]
  },
  {
   "cell_type": "code",
   "execution_count": 130,
   "metadata": {},
   "outputs": [],
   "source": [
    "# defines a function to perform rolling forecasts with a ECM and intakes a y_var as a string\n",
    "# X_vars as a list, lr_X_vars as a list, and the rest of the inputs are dataframes, with lr_\n",
    "# indicating level variables used to estimate the long-run relationship, and diff_ representing\n",
    "# differenced data\n",
    "def roll_forecast_ecm(y_var, X_vars, lr_X_vars, lr_train, lr_test, diff_train, diff_test):\n",
    "    \n",
    "    # creates two new dataframes that will be added to as the forecast rolls \n",
    "    history = lr_train\n",
    "    diff_history = diff_train\n",
    "    \n",
    "    # estimates a linear model to predict the longrun relationship\n",
    "    lr_model_train = sm.OLS(history[[y_var]], history[lr_X_vars])\n",
    "    # fits the lr model\n",
    "    lr_model_train_fit = lr_model_train.fit(cov_type='HC0')\n",
    "    # adds a disequilibrium column for the training period\n",
    "    diff_train['disequilibrium'] = lr_model_train_fit.resid.shift(1)\n",
    "    \n",
    "    \n",
    "    # this chunk of data does one-step ahead predictions of the disequilibrium    \n",
    "    \n",
    "    # creates an empty list that will hold the residuals for the next period\n",
    "    disequilibrium = []\n",
    "    \n",
    "    # loops through the indexes of the set being forecasted\n",
    "    for i in tqdm(range(len(lr_test))):\n",
    "        \n",
    "        # estimates a linear model to predict the longrun relationship\n",
    "        # .replace([np.inf, -np.inf], np.nan).fillna(0)\n",
    "        lr_model = sm.OLS(history[[y_var]]\n",
    "                          , history[lr_X_vars])\n",
    "        # fits the lr model\n",
    "        lr_model_fit = lr_model.fit(cov_type='HC0')\n",
    "        # forecasts the disequilibrium in the next period and appends it to the list by predicting \n",
    "        # the closing price using the 1st lagged value of the independent variable at t+1, which makes it\n",
    "        # at time t, and subtracting the closing price at time t, giving the residual for time t, which is \n",
    "        # t - 1 for the future value we want to predict\n",
    "        disequilibrium_hat = (float(lr_model_fit.predict(history[-1:][lr_X_vars]))\n",
    "                             - float(history[-1:][y_var].values))\n",
    "        disequilibrium.append(disequilibrium_hat)\n",
    "        # grabs the observation at the ith index\n",
    "        obs = lr_test[i : i + 1]\n",
    "        #print(f'obs: {obs}')\n",
    "        #print(f'history.tail(): {history.tail()}')\n",
    "        \n",
    "        # appends the observation to the estimation data set\n",
    "        #history = history.append(obs)\n",
    "        #return history, obs\n",
    "        history = pd.concat([history, obs])\n",
    "        \n",
    "    # creates a column of the lagged disequilibrium values\n",
    "    diff_test['disequilibrium'] = disequilibrium\n",
    "    \n",
    "    \n",
    "    # this chunk of code does the 1-step ahead ECM estimation and prediction\n",
    "    \n",
    "    predictions = []\n",
    "    \n",
    "    # this list will store the error_correction coefficients  \n",
    "    error_correction_coefficients = []\n",
    "    # this list stores the standard error of the EC coefficients\n",
    "    error_correction_coef_stderr = []\n",
    "\n",
    "        \n",
    "    # loops through the indexes of the set being forecasted\n",
    "    for i in tqdm(range(len(diff_test))):\n",
    "        \n",
    "        # estimates an ECM to predict future values\n",
    "        ecm_model = sm.OLS(diff_history[[y_var]].fillna(0)\n",
    "                           , diff_history[X_vars].fillna(0))\n",
    "        # fits the ECM\n",
    "        ecm_model_fit = ecm_model.fit(cov_type='HC0')\n",
    "        # predicts the future closing price change and appends it to the list of predictions\n",
    "        delta_y_hat = float(ecm_model_fit.predict(diff_test[i : i + 1][X_vars]))\n",
    "        predictions.append(delta_y_hat)\n",
    "        # grabs the observation at the ith index\n",
    "        obs = diff_test[i : i + 1]\n",
    "        # appends the observation to the estimation data set\n",
    "        #diff_history = diff_history.append(obs)\n",
    "        diff_history = pd.concat([diff_history, obs])\n",
    "        \n",
    "        # appends the error_correction coefficient to the list  \n",
    "        error_correction_coefficients.append(ecm_model_fit.params.disequilibrium)\n",
    "        error_correction_coef_stderr.append(ecm_model_fit.HC0_se.disequilibrium)\n",
    "    \n",
    "    # adds columns for our lists\n",
    "    diff_test['delta_y_hat'] = predictions     \n",
    "    diff_test['ec_coef'] = error_correction_coefficients\n",
    "    diff_test['ec_stderr'] = error_correction_coef_stderr\n",
    "    \n",
    "    # returns predictions\n",
    "    return (diff_test, ecm_model_fit, disequilibrium) "
   ]
  },
  {
   "cell_type": "markdown",
   "metadata": {},
   "source": [
    "### try to use coconut to predict coupon"
   ]
  },
  {
   "cell_type": "code",
   "execution_count": null,
   "metadata": {},
   "outputs": [],
   "source": []
  },
  {
   "cell_type": "code",
   "execution_count": 105,
   "metadata": {},
   "outputs": [],
   "source": [
    "new_index = \"timestamp_\" + df_all_mid_prices_day_123.index.astype(str) + \"_day_\" + df_all_mid_prices_day_123['day'].astype(str)\n",
    "df_all_mid_prices_day_123.index = new_index"
   ]
  },
  {
   "cell_type": "code",
   "execution_count": 118,
   "metadata": {},
   "outputs": [
    {
     "name": "stdout",
     "output_type": "stream",
     "text": [
      "                            OLS Regression Results                            \n",
      "==============================================================================\n",
      "Dep. Variable:       coupon_mid_price   R-squared:                       0.755\n",
      "Model:                            OLS   Adj. R-squared:                  0.755\n",
      "Method:                 Least Squares   F-statistic:                 5.427e+04\n",
      "Date:                Fri, 19 Apr 2024   Prob (F-statistic):               0.00\n",
      "Time:                        15:35:25   Log-Likelihood:                -81578.\n",
      "No. Observations:               20000   AIC:                         1.632e+05\n",
      "Df Residuals:                   19998   BIC:                         1.632e+05\n",
      "Df Model:                           1                                         \n",
      "Covariance Type:                  HC0                                         \n",
      "=====================================================================================\n",
      "                        coef    std err          z      P>|z|      [0.025      0.975]\n",
      "-------------------------------------------------------------------------------------\n",
      "const             -4519.6288     22.244   -203.186      0.000   -4563.226   -4476.032\n",
      "coconut_mid_price     0.5155      0.002    232.950      0.000       0.511       0.520\n",
      "==============================================================================\n",
      "Omnibus:                      132.176   Durbin-Watson:                   0.006\n",
      "Prob(Omnibus):                  0.000   Jarque-Bera (JB):               91.475\n",
      "Skew:                           0.012   Prob(JB):                     1.37e-20\n",
      "Kurtosis:                       2.670   Cond. No.                     2.08e+06\n",
      "==============================================================================\n",
      "\n",
      "Notes:\n",
      "[1] Standard Errors are heteroscedasticity robust (HC0)\n",
      "[2] The condition number is large, 2.08e+06. This might indicate that there are\n",
      "strong multicollinearity or other numerical problems.\n"
     ]
    }
   ],
   "source": [
    "# adds a constant term\n",
    "X_train_coconut = df_all_mid_prices_day_123[(df_all_mid_prices_day_123.day==1) \n",
    "                                             | (df_all_mid_prices_day_123.day==2)][['coconut_mid_price']]\n",
    "X_train_coconut = sm.add_constant(X_train_coconut)\n",
    "X_test_coconut = df_all_mid_prices_day_123[df_all_mid_prices_day_123.day==3][['coconut_mid_price']]\n",
    "\n",
    "y_train_coupon = df_all_mid_prices_day_123[(df_all_mid_prices_day_123.day==1) \n",
    "                                             | (df_all_mid_prices_day_123.day==2)]['coupon_mid_price']\n",
    "y_test_coupon = df_all_mid_prices_day_123[df_all_mid_prices_day_123.day==3][['coupon_mid_price']]\n",
    "# estimates a linear regression of roses_mid_price ~ const + chocolate_mid_price\n",
    "lr_model = sm.OLS(y_train_coupon, X_train_coconut)\n",
    "lr_model_fit = lr_model.fit(cov_type='HC0')\n",
    "\n",
    "# prints a summary\n",
    "print(lr_model_fit.summary())"
   ]
  },
  {
   "cell_type": "markdown",
   "metadata": {},
   "source": [
    "### since the two prices are co-integrated, print spread based on regression results"
   ]
  },
  {
   "cell_type": "code",
   "execution_count": 155,
   "metadata": {},
   "outputs": [
    {
     "data": {
      "text/plain": [
       "<Axes: ylabel='Density'>"
      ]
     },
     "execution_count": 155,
     "metadata": {},
     "output_type": "execute_result"
    },
    {
     "data": {
      "image/png": "[encoded data removed]",
      "text/plain": [
       "<Figure size 640x480 with 1 Axes>"
      ]
     },
     "metadata": {},
     "output_type": "display_data"
    }
   ],
   "source": [
    "sns.kdeplot(lr_model_fit.resid, fill=True)"
   ]
  },
  {
   "cell_type": "code",
   "execution_count": 157,
   "metadata": {},
   "outputs": [
    {
     "data": {
      "text/plain": [
       "KstestResult(statistic=0.44199649718622913, pvalue=0.0, statistic_location=-2.266725402361317, statistic_sign=1)"
      ]
     },
     "execution_count": 157,
     "metadata": {},
     "output_type": "execute_result"
    }
   ],
   "source": [
    "#perform Kolmogorov-Smirnov test for normality\n",
    "kstest(lr_model_fit.resid, 'norm')"
   ]
  },
  {
   "cell_type": "code",
   "execution_count": 158,
   "metadata": {},
   "outputs": [
    {
     "name": "stdout",
     "output_type": "stream",
     "text": [
      "ADF Statistic with c for Closing X_train_chocolate price: -4.889257\n",
      "p-value: 0.000037\n",
      "\n",
      "ADF Statistic with ct for Closing X_train_chocolate price: -5.000329\n",
      "p-value: 0.000205\n",
      "\n",
      "ADF Statistic with ctt for Closing X_train_chocolate price: -5.011439\n",
      "p-value: 0.000981\n",
      "\n",
      "ADF Statistic with n for Closing X_train_chocolate price: -4.889382\n",
      "p-value: 0.000002\n",
      "\n"
     ]
    }
   ],
   "source": [
    "# ADF test on the residuals, which has to be stationary \n",
    "# “c” : constant only (default).\n",
    "# “ct” : constant and trend.\n",
    "# “ctt” : constant, and linear and quadratic trend.\n",
    "# “n” : no constant, no trend.\n",
    "\n",
    "for i in ['c', 'ct', 'ctt', 'n']:\n",
    "    result = adfuller(lr_model_fit.resid, regression = i)\n",
    "    print('ADF Statistic with %s for Closing X_train_chocolate price: %f' % (i, result[0]))\n",
    "    print('p-value: %f\\n' % result[1])"
   ]
  },
  {
   "cell_type": "code",
   "execution_count": 145,
   "metadata": {},
   "outputs": [
    {
     "data": {
      "text/plain": [
       "const               -4519.628771\n",
       "coconut_mid_price       0.515453\n",
       "dtype: float64"
      ]
     },
     "execution_count": 145,
     "metadata": {},
     "output_type": "execute_result"
    }
   ],
   "source": [
    "lr_model_fit.params"
   ]
  },
  {
   "cell_type": "code",
   "execution_count": 150,
   "metadata": {},
   "outputs": [],
   "source": [
    "#spread = y - x*beta - alpha\n",
    "Xy_train_coconut_coupon_df = X_train_coconut.join(y_train_coupon)"
   ]
  },
  {
   "cell_type": "code",
   "execution_count": 151,
   "metadata": {},
   "outputs": [],
   "source": [
    "Xy_train_coconut_coupon_df['spread'] = Xy_train_coconut_coupon_df['coupon_mid_price'] - (lr_model_fit.params[0] + lr_model_fit.params[1] * Xy_train_coconut_coupon_df['coconut_mid_price'])"
   ]
  },
  {
   "cell_type": "code",
   "execution_count": 152,
   "metadata": {},
   "outputs": [
    {
     "data": {
      "text/html": [
       "<div>\n",
       "<style scoped>\n",
       "    .dataframe tbody tr th:only-of-type {\n",
       "        vertical-align: middle;\n",
       "    }\n",
       "\n",
       "    .dataframe tbody tr th {\n",
       "        vertical-align: top;\n",
       "    }\n",
       "\n",
       "    .dataframe thead th {\n",
       "        text-align: right;\n",
       "    }\n",
       "</style>\n",
       "<table border=\"1\" class=\"dataframe\">\n",
       "  <thead>\n",
       "    <tr style=\"text-align: right;\">\n",
       "      <th></th>\n",
       "      <th>const</th>\n",
       "      <th>coconut_mid_price</th>\n",
       "      <th>coupon_mid_price</th>\n",
       "      <th>spread</th>\n",
       "    </tr>\n",
       "  </thead>\n",
       "  <tbody>\n",
       "    <tr>\n",
       "      <th>timestamp_0_day_1</th>\n",
       "      <td>1.0</td>\n",
       "      <td>10000.0</td>\n",
       "      <td>637.5</td>\n",
       "      <td>2.598120</td>\n",
       "    </tr>\n",
       "    <tr>\n",
       "      <th>timestamp_100_day_1</th>\n",
       "      <td>1.0</td>\n",
       "      <td>9999.5</td>\n",
       "      <td>637.5</td>\n",
       "      <td>2.855846</td>\n",
       "    </tr>\n",
       "    <tr>\n",
       "      <th>timestamp_200_day_1</th>\n",
       "      <td>1.0</td>\n",
       "      <td>9998.5</td>\n",
       "      <td>637.5</td>\n",
       "      <td>3.371300</td>\n",
       "    </tr>\n",
       "    <tr>\n",
       "      <th>timestamp_300_day_1</th>\n",
       "      <td>1.0</td>\n",
       "      <td>9999.5</td>\n",
       "      <td>638.5</td>\n",
       "      <td>3.855846</td>\n",
       "    </tr>\n",
       "    <tr>\n",
       "      <th>timestamp_400_day_1</th>\n",
       "      <td>1.0</td>\n",
       "      <td>9998.5</td>\n",
       "      <td>637.5</td>\n",
       "      <td>3.371300</td>\n",
       "    </tr>\n",
       "  </tbody>\n",
       "</table>\n",
       "</div>"
      ],
      "text/plain": [
       "                     const  coconut_mid_price  coupon_mid_price    spread\n",
       "timestamp_0_day_1      1.0            10000.0             637.5  2.598120\n",
       "timestamp_100_day_1    1.0             9999.5             637.5  2.855846\n",
       "timestamp_200_day_1    1.0             9998.5             637.5  3.371300\n",
       "timestamp_300_day_1    1.0             9999.5             638.5  3.855846\n",
       "timestamp_400_day_1    1.0             9998.5             637.5  3.371300"
      ]
     },
     "execution_count": 152,
     "metadata": {},
     "output_type": "execute_result"
    }
   ],
   "source": [
    "Xy_train_coconut_coupon_df.head()"
   ]
  },
  {
   "cell_type": "code",
   "execution_count": 153,
   "metadata": {},
   "outputs": [
    {
     "data": {
      "text/plain": [
       "(-2.694814611459151e-11, 14.296134677216813)"
      ]
     },
     "execution_count": 153,
     "metadata": {},
     "output_type": "execute_result"
    }
   ],
   "source": [
    "Xy_train_coconut_coupon_df.spread.mean(), Xy_train_coconut_coupon_df.spread.std()"
   ]
  },
  {
   "cell_type": "markdown",
   "metadata": {},
   "source": [
    "### trading signal - Here we use X(adjustable param)  times the standard deviation as our threshold. If the sample is out of this range, then we think there is a price divergence between these two stocks price which means we capture a pairs trading opportunity. \n",
    "### ema of the history price over 250 days(adjustable param) is used to perform the regression."
   ]
  },
  {
   "cell_type": "code",
   "execution_count": null,
   "metadata": {},
   "outputs": [],
   "source": []
  },
  {
   "cell_type": "markdown",
   "metadata": {},
   "source": [
    "### get sperad std for the historical 3 days"
   ]
  },
  {
   "cell_type": "code",
   "execution_count": 159,
   "metadata": {},
   "outputs": [
    {
     "name": "stdout",
     "output_type": "stream",
     "text": [
      "                            OLS Regression Results                            \n",
      "==============================================================================\n",
      "Dep. Variable:       coupon_mid_price   R-squared:                       0.918\n",
      "Model:                            OLS   Adj. R-squared:                  0.918\n",
      "Method:                 Least Squares   F-statistic:                 3.604e+05\n",
      "Date:                Fri, 19 Apr 2024   Prob (F-statistic):               0.00\n",
      "Time:                        16:19:34   Log-Likelihood:            -1.2038e+05\n",
      "No. Observations:               30000   AIC:                         2.408e+05\n",
      "Df Residuals:                   29998   BIC:                         2.408e+05\n",
      "Df Model:                           1                                         \n",
      "Covariance Type:                  HC0                                         \n",
      "=====================================================================================\n",
      "                        coef    std err          z      P>|z|      [0.025      0.975]\n",
      "-------------------------------------------------------------------------------------\n",
      "const             -4393.5047      8.359   -525.581      0.000   -4409.889   -4377.121\n",
      "coconut_mid_price     0.5029      0.001    600.361      0.000       0.501       0.505\n",
      "==============================================================================\n",
      "Omnibus:                      125.636   Durbin-Watson:                   0.006\n",
      "Prob(Omnibus):                  0.000   Jarque-Bera (JB):              106.563\n",
      "Skew:                           0.088   Prob(JB):                     7.25e-24\n",
      "Kurtosis:                       2.767   Cond. No.                     1.13e+06\n",
      "==============================================================================\n",
      "\n",
      "Notes:\n",
      "[1] Standard Errors are heteroscedasticity robust (HC0)\n",
      "[2] The condition number is large, 1.13e+06. This might indicate that there are\n",
      "strong multicollinearity or other numerical problems.\n"
     ]
    }
   ],
   "source": [
    "# adds a constant term\n",
    "X_train_coconut_3days = df_all_mid_prices_day_123[(df_all_mid_prices_day_123.day==1) \n",
    "                                             | (df_all_mid_prices_day_123.day==2)\n",
    "                                             | (df_all_mid_prices_day_123.day==3)][['coconut_mid_price']]\n",
    "X_train_coconut_3days = sm.add_constant(X_train_coconut_3days)\n",
    "\n",
    "y_train_coupon_3days = df_all_mid_prices_day_123[(df_all_mid_prices_day_123.day==1) \n",
    "                                             | (df_all_mid_prices_day_123.day==2)\n",
    "                                             | (df_all_mid_prices_day_123.day==3)]['coupon_mid_price']\n",
    "# estimates a linear regression of roses_mid_price ~ const + chocolate_mid_price\n",
    "lr_model_3days = sm.OLS(y_train_coupon_3days, X_train_coconut_3days)\n",
    "lr_model_fit_3days = lr_model_3days.fit(cov_type='HC0')\n",
    "\n",
    "# prints a summary\n",
    "print(lr_model_fit_3days.summary())"
   ]
  },
  {
   "cell_type": "code",
   "execution_count": 160,
   "metadata": {},
   "outputs": [
    {
     "data": {
      "text/plain": [
       "KstestResult(statistic=0.4420692531002327, pvalue=0.0, statistic_location=-2.3044958127027257, statistic_sign=1)"
      ]
     },
     "execution_count": 160,
     "metadata": {},
     "output_type": "execute_result"
    }
   ],
   "source": [
    "#perform Kolmogorov-Smirnov test for normality\n",
    "kstest(lr_model_fit_3days.resid, 'norm')"
   ]
  },
  {
   "cell_type": "code",
   "execution_count": 161,
   "metadata": {},
   "outputs": [
    {
     "name": "stdout",
     "output_type": "stream",
     "text": [
      "ADF Statistic with c for Closing X_train_chocolate price: -6.440639\n",
      "p-value: 0.000000\n",
      "\n",
      "ADF Statistic with ct for Closing X_train_chocolate price: -6.468695\n",
      "p-value: 0.000000\n",
      "\n",
      "ADF Statistic with ctt for Closing X_train_chocolate price: -6.525373\n",
      "p-value: 0.000001\n",
      "\n",
      "ADF Statistic with n for Closing X_train_chocolate price: -6.440747\n",
      "p-value: 0.000000\n",
      "\n"
     ]
    }
   ],
   "source": [
    "# ADF test on the residuals, which has to be stationary \n",
    "# “c” : constant only (default).\n",
    "# “ct” : constant and trend.\n",
    "# “ctt” : constant, and linear and quadratic trend.\n",
    "# “n” : no constant, no trend.\n",
    "\n",
    "for i in ['c', 'ct', 'ctt', 'n']:\n",
    "    result = adfuller(lr_model_fit_3days.resid, regression = i)\n",
    "    print('ADF Statistic with %s for Closing X_train_chocolate price: %f' % (i, result[0]))\n",
    "    print('p-value: %f\\n' % result[1])"
   ]
  },
  {
   "cell_type": "code",
   "execution_count": 162,
   "metadata": {},
   "outputs": [],
   "source": [
    "#spread = y - x*beta - alpha\n",
    "Xy_train_coconut_coupon_df_3days = X_train_coconut_3days.join(y_train_coupon_3days)"
   ]
  },
  {
   "cell_type": "code",
   "execution_count": 163,
   "metadata": {},
   "outputs": [],
   "source": [
    "Xy_train_coconut_coupon_df_3days['spread'] = Xy_train_coconut_coupon_df_3days['coupon_mid_price'] - (lr_model_fit_3days.params[0] + lr_model_fit_3days.params[1] * Xy_train_coconut_coupon_df_3days['coconut_mid_price'])"
   ]
  },
  {
   "cell_type": "code",
   "execution_count": 164,
   "metadata": {},
   "outputs": [
    {
     "data": {
      "text/plain": [
       "(1.0972265348148842e-11, 13.381985335999802)"
      ]
     },
     "execution_count": 164,
     "metadata": {},
     "output_type": "execute_result"
    }
   ],
   "source": [
    "Xy_train_coconut_coupon_df_3days.spread.mean(), Xy_train_coconut_coupon_df_3days.spread.std()"
   ]
  },
  {
   "cell_type": "code",
   "execution_count": 165,
   "metadata": {},
   "outputs": [
    {
     "data": {
      "text/plain": [
       "41.7862537351557"
      ]
     },
     "execution_count": 165,
     "metadata": {},
     "output_type": "execute_result"
    }
   ],
   "source": [
    "Xy_train_coconut_coupon_df_3days.spread.max()"
   ]
  },
  {
   "cell_type": "code",
   "execution_count": 167,
   "metadata": {},
   "outputs": [
    {
     "data": {
      "text/plain": [
       "(9999.900983333333, 635.0464333333333)"
      ]
     },
     "execution_count": 167,
     "metadata": {},
     "output_type": "execute_result"
    }
   ],
   "source": [
    "Xy_train_coconut_coupon_df_3days.coconut_mid_price.mean(), Xy_train_coconut_coupon_df_3days.coupon_mid_price.mean()"
   ]
  },
  {
   "cell_type": "code",
   "execution_count": null,
   "metadata": {},
   "outputs": [],
   "source": []
  },
  {
   "cell_type": "markdown",
   "metadata": {},
   "source": [
    "### Use 13.38 as initial threshold of spread std, use 0 as initial spread mean then in each round:\n",
    "* do ema update on coupon_mid_price & coconut_mid_price, call it ema_coupon_mid_price, ema_coconut_mid_price\n",
    "* regress ema_coupon_mid_price over ema_coconut_mid_price, call it lr_fit_new model\n",
    "* update spread based on ema_coupon_mid_price - (lr_fit_new.params[0]+lr_fit_new.params[1]*ema_coconut_mid_price)\n",
    "* update spread mean & std\n",
    "* adjust ema period and strategy triggered level on spread std"
   ]
  },
  {
   "cell_type": "markdown",
   "metadata": {},
   "source": []
  },
  {
   "cell_type": "markdown",
   "metadata": {},
   "source": []
  },
  {
   "cell_type": "code",
   "execution_count": null,
   "metadata": {},
   "outputs": [],
   "source": []
  },
  {
   "cell_type": "code",
   "execution_count": null,
   "metadata": {},
   "outputs": [],
   "source": []
  },
  {
   "cell_type": "markdown",
   "metadata": {},
   "source": [
    "### As shown below, ECM is not performing well, use the spread strategy above instead"
   ]
  },
  {
   "cell_type": "markdown",
   "metadata": {},
   "source": [
    "### The error-correction term in the ECM must be negative. The lagged residuals from the linear regression represent the deviation from the long-run relationship in the previous period.\n",
    "### The intuition is if our stock price is above its long-run equilibrium with the market, the negative coefficient pulls it back down. If it is below the long-run equilibrium, the negatives will cancel out and become positive pulling the stock price back up. That is the magic of the ECM."
   ]
  },
  {
   "cell_type": "markdown",
   "metadata": {},
   "source": [
    "### Regression results looks good, all ADF tests are significant"
   ]
  },
  {
   "cell_type": "code",
   "execution_count": 76,
   "metadata": {},
   "outputs": [
    {
     "data": {
      "text/html": [
       "<div>\n",
       "<style scoped>\n",
       "    .dataframe tbody tr th:only-of-type {\n",
       "        vertical-align: middle;\n",
       "    }\n",
       "\n",
       "    .dataframe tbody tr th {\n",
       "        vertical-align: top;\n",
       "    }\n",
       "\n",
       "    .dataframe thead th {\n",
       "        text-align: right;\n",
       "    }\n",
       "</style>\n",
       "<table border=\"1\" class=\"dataframe\">\n",
       "  <thead>\n",
       "    <tr style=\"text-align: right;\">\n",
       "      <th></th>\n",
       "      <th>day</th>\n",
       "      <th>coconut_mid_price</th>\n",
       "      <th>coupon_mid_price</th>\n",
       "    </tr>\n",
       "  </thead>\n",
       "  <tbody>\n",
       "    <tr>\n",
       "      <th>timestamp_0_day_1</th>\n",
       "      <td>1</td>\n",
       "      <td>10000.0</td>\n",
       "      <td>637.5</td>\n",
       "    </tr>\n",
       "    <tr>\n",
       "      <th>timestamp_100_day_1</th>\n",
       "      <td>1</td>\n",
       "      <td>9999.5</td>\n",
       "      <td>637.5</td>\n",
       "    </tr>\n",
       "    <tr>\n",
       "      <th>timestamp_200_day_1</th>\n",
       "      <td>1</td>\n",
       "      <td>9998.5</td>\n",
       "      <td>637.5</td>\n",
       "    </tr>\n",
       "    <tr>\n",
       "      <th>timestamp_300_day_1</th>\n",
       "      <td>1</td>\n",
       "      <td>9999.5</td>\n",
       "      <td>638.5</td>\n",
       "    </tr>\n",
       "    <tr>\n",
       "      <th>timestamp_400_day_1</th>\n",
       "      <td>1</td>\n",
       "      <td>9998.5</td>\n",
       "      <td>637.5</td>\n",
       "    </tr>\n",
       "  </tbody>\n",
       "</table>\n",
       "</div>"
      ],
      "text/plain": [
       "                     day  coconut_mid_price  coupon_mid_price\n",
       "timestamp_0_day_1      1            10000.0             637.5\n",
       "timestamp_100_day_1    1             9999.5             637.5\n",
       "timestamp_200_day_1    1             9998.5             637.5\n",
       "timestamp_300_day_1    1             9999.5             638.5\n",
       "timestamp_400_day_1    1             9998.5             637.5"
      ]
     },
     "execution_count": 76,
     "metadata": {},
     "output_type": "execute_result"
    }
   ],
   "source": [
    "df_all_mid_prices_day_123.head()"
   ]
  },
  {
   "cell_type": "code",
   "execution_count": 77,
   "metadata": {},
   "outputs": [
    {
     "data": {
      "text/plain": [
       "(30000, 20000)"
      ]
     },
     "execution_count": 77,
     "metadata": {},
     "output_type": "execute_result"
    }
   ],
   "source": [
    "len(df_all_mid_prices_day_123), len(lr_model_fit.resid)"
   ]
  },
  {
   "cell_type": "code",
   "execution_count": null,
   "metadata": {},
   "outputs": [],
   "source": []
  },
  {
   "cell_type": "code",
   "execution_count": 136,
   "metadata": {},
   "outputs": [],
   "source": [
    "diff_train_coconut = X_train_coconut.copy()\n",
    "diff_train_coconut = diff_train_coconut.join(y_train_coupon)\n",
    "diff_train_coconut['coupon_mid_price'] = diff_train_coconut['coupon_mid_price'].diff()\n",
    "diff_train_coconut['coconut_mid_price'] = diff_train_coconut['coconut_mid_price'].diff()\n",
    "#diff_train_coconut = diff_train_coconut.join(df_all_mid_prices_day_123['disequilibrium'])\n",
    "\n",
    "diff_train_coconut = diff_train_coconut.dropna()"
   ]
  },
  {
   "cell_type": "code",
   "execution_count": 137,
   "metadata": {},
   "outputs": [
    {
     "data": {
      "text/html": [
       "<div>\n",
       "<style scoped>\n",
       "    .dataframe tbody tr th:only-of-type {\n",
       "        vertical-align: middle;\n",
       "    }\n",
       "\n",
       "    .dataframe tbody tr th {\n",
       "        vertical-align: top;\n",
       "    }\n",
       "\n",
       "    .dataframe thead th {\n",
       "        text-align: right;\n",
       "    }\n",
       "</style>\n",
       "<table border=\"1\" class=\"dataframe\">\n",
       "  <thead>\n",
       "    <tr style=\"text-align: right;\">\n",
       "      <th></th>\n",
       "      <th>const</th>\n",
       "      <th>coconut_mid_price</th>\n",
       "      <th>coupon_mid_price</th>\n",
       "    </tr>\n",
       "  </thead>\n",
       "  <tbody>\n",
       "    <tr>\n",
       "      <th>timestamp_100_day_1</th>\n",
       "      <td>1.0</td>\n",
       "      <td>-0.5</td>\n",
       "      <td>0.0</td>\n",
       "    </tr>\n",
       "    <tr>\n",
       "      <th>timestamp_200_day_1</th>\n",
       "      <td>1.0</td>\n",
       "      <td>-1.0</td>\n",
       "      <td>0.0</td>\n",
       "    </tr>\n",
       "    <tr>\n",
       "      <th>timestamp_300_day_1</th>\n",
       "      <td>1.0</td>\n",
       "      <td>1.0</td>\n",
       "      <td>1.0</td>\n",
       "    </tr>\n",
       "    <tr>\n",
       "      <th>timestamp_400_day_1</th>\n",
       "      <td>1.0</td>\n",
       "      <td>-1.0</td>\n",
       "      <td>-1.0</td>\n",
       "    </tr>\n",
       "    <tr>\n",
       "      <th>timestamp_500_day_1</th>\n",
       "      <td>1.0</td>\n",
       "      <td>-2.0</td>\n",
       "      <td>0.0</td>\n",
       "    </tr>\n",
       "  </tbody>\n",
       "</table>\n",
       "</div>"
      ],
      "text/plain": [
       "                     const  coconut_mid_price  coupon_mid_price\n",
       "timestamp_100_day_1    1.0               -0.5               0.0\n",
       "timestamp_200_day_1    1.0               -1.0               0.0\n",
       "timestamp_300_day_1    1.0                1.0               1.0\n",
       "timestamp_400_day_1    1.0               -1.0              -1.0\n",
       "timestamp_500_day_1    1.0               -2.0               0.0"
      ]
     },
     "execution_count": 137,
     "metadata": {},
     "output_type": "execute_result"
    }
   ],
   "source": [
    "diff_train_coconut.head()"
   ]
  },
  {
   "cell_type": "code",
   "execution_count": 138,
   "metadata": {},
   "outputs": [],
   "source": [
    "diff_test_coconut = X_test_coconut.copy()\n",
    "diff_test_coconut = diff_test_coconut.join(y_test_coupon)\n",
    "diff_test_coconut['coupon_mid_price'] = diff_test_coconut['coupon_mid_price'].diff()\n",
    "diff_test_coconut['coconut_mid_price'] = diff_test_coconut['coconut_mid_price'].diff()\n",
    "diff_test_coconut = sm.add_constant(diff_test_coconut)"
   ]
  },
  {
   "cell_type": "code",
   "execution_count": 139,
   "metadata": {},
   "outputs": [
    {
     "data": {
      "text/html": [
       "<div>\n",
       "<style scoped>\n",
       "    .dataframe tbody tr th:only-of-type {\n",
       "        vertical-align: middle;\n",
       "    }\n",
       "\n",
       "    .dataframe tbody tr th {\n",
       "        vertical-align: top;\n",
       "    }\n",
       "\n",
       "    .dataframe thead th {\n",
       "        text-align: right;\n",
       "    }\n",
       "</style>\n",
       "<table border=\"1\" class=\"dataframe\">\n",
       "  <thead>\n",
       "    <tr style=\"text-align: right;\">\n",
       "      <th></th>\n",
       "      <th>const</th>\n",
       "      <th>coconut_mid_price</th>\n",
       "      <th>coupon_mid_price</th>\n",
       "    </tr>\n",
       "  </thead>\n",
       "  <tbody>\n",
       "    <tr>\n",
       "      <th>timestamp_0_day_3</th>\n",
       "      <td>1.0</td>\n",
       "      <td>NaN</td>\n",
       "      <td>NaN</td>\n",
       "    </tr>\n",
       "    <tr>\n",
       "      <th>timestamp_100_day_3</th>\n",
       "      <td>1.0</td>\n",
       "      <td>-1.0</td>\n",
       "      <td>0.5</td>\n",
       "    </tr>\n",
       "    <tr>\n",
       "      <th>timestamp_200_day_3</th>\n",
       "      <td>1.0</td>\n",
       "      <td>0.5</td>\n",
       "      <td>0.0</td>\n",
       "    </tr>\n",
       "    <tr>\n",
       "      <th>timestamp_300_day_3</th>\n",
       "      <td>1.0</td>\n",
       "      <td>1.0</td>\n",
       "      <td>1.0</td>\n",
       "    </tr>\n",
       "    <tr>\n",
       "      <th>timestamp_400_day_3</th>\n",
       "      <td>1.0</td>\n",
       "      <td>-1.5</td>\n",
       "      <td>0.0</td>\n",
       "    </tr>\n",
       "  </tbody>\n",
       "</table>\n",
       "</div>"
      ],
      "text/plain": [
       "                     const  coconut_mid_price  coupon_mid_price\n",
       "timestamp_0_day_3      1.0                NaN               NaN\n",
       "timestamp_100_day_3    1.0               -1.0               0.5\n",
       "timestamp_200_day_3    1.0                0.5               0.0\n",
       "timestamp_300_day_3    1.0                1.0               1.0\n",
       "timestamp_400_day_3    1.0               -1.5               0.0"
      ]
     },
     "execution_count": 139,
     "metadata": {},
     "output_type": "execute_result"
    }
   ],
   "source": [
    "diff_test_coconut.head()"
   ]
  },
  {
   "cell_type": "code",
   "execution_count": 127,
   "metadata": {},
   "outputs": [
    {
     "name": "stdout",
     "output_type": "stream",
     "text": [
      "                            OLS Regression Results                            \n",
      "==============================================================================\n",
      "Dep. Variable:       coupon_mid_price   R-squared:                       0.205\n",
      "Model:                            OLS   Adj. R-squared:                  0.205\n",
      "Method:                 Least Squares   F-statistic:                     2647.\n",
      "Date:                Fri, 19 Apr 2024   Prob (F-statistic):               0.00\n",
      "Time:                        15:38:08   Log-Likelihood:                -29614.\n",
      "No. Observations:               19999   AIC:                         5.923e+04\n",
      "Df Residuals:                   19996   BIC:                         5.926e+04\n",
      "Df Model:                           2                                         \n",
      "Covariance Type:                  HC0                                         \n",
      "=====================================================================================\n",
      "                        coef    std err          z      P>|z|      [0.025      0.975]\n",
      "-------------------------------------------------------------------------------------\n",
      "coconut_mid_price     0.5211      0.007     72.580      0.000       0.507       0.535\n",
      "disequilibrium       -0.0028      0.001     -5.269      0.000      -0.004      -0.002\n",
      "const                -0.0006      0.008     -0.078      0.938      -0.015       0.014\n",
      "==============================================================================\n",
      "Omnibus:                        3.208   Durbin-Watson:                   2.140\n",
      "Prob(Omnibus):                  0.201   Jarque-Bera (JB):                3.105\n",
      "Skew:                           0.005   Prob(JB):                        0.212\n",
      "Kurtosis:                       2.940   Cond. No.                         14.3\n",
      "==============================================================================\n",
      "\n",
      "Notes:\n",
      "[1] Standard Errors are heteroscedasticity robust (HC0)\n"
     ]
    }
   ],
   "source": [
    "# predictors = ['coconut_mid_price'\n",
    "#              , 'disequilibrium', 'const']\n",
    "# diff_train_coconut['disequilibrium'] = lr_model_fit.resid\n",
    "# diff_train_coconut.disequilibrium = diff_train_coconut.disequilibrium.shift(1).fillna(0)\n",
    "# ecm_train = sm.OLS(diff_train_coconut['coupon_mid_price'], diff_train_coconut[predictors])\n",
    "# ecm_train_fit = ecm_train.fit(cov_type='HC0')\n",
    "\n",
    "# # prints a summary\n",
    "# print(ecm_train_fit.summary())"
   ]
  },
  {
   "cell_type": "code",
   "execution_count": null,
   "metadata": {},
   "outputs": [],
   "source": []
  },
  {
   "cell_type": "code",
   "execution_count": 140,
   "metadata": {},
   "outputs": [],
   "source": [
    "predictors = ['coconut_mid_price', 'disequilibrium', 'const']\n",
    "(y_var, X_vars, lr_X_vars, lr_train, lr_test, diff_train, diff_test) = ('coupon_mid_price', \n",
    "                                                                        predictors, \n",
    "                                                                        ['coconut_mid_price'], \n",
    "                                                                        X_train_coconut.join(y_train_coupon), \n",
    "                                                                        X_test_coconut.join(y_test_coupon), \n",
    "                                                                        diff_train_coconut.fillna(0), \n",
    "                                                                        diff_test_coconut.fillna(0)) "
   ]
  },
  {
   "cell_type": "code",
   "execution_count": 141,
   "metadata": {},
   "outputs": [
    {
     "name": "stderr",
     "output_type": "stream",
     "text": [
      "100%|██████████| 10000/10000 [01:34<00:00, 105.42it/s]\n",
      "100%|██████████| 10000/10000 [01:27<00:00, 114.41it/s]\n"
     ]
    }
   ],
   "source": [
    "ecm_results = roll_forecast_ecm(y_var, X_vars, lr_X_vars, lr_train, lr_test, diff_train, diff_test)"
   ]
  },
  {
   "cell_type": "code",
   "execution_count": 142,
   "metadata": {},
   "outputs": [
    {
     "name": "stdout",
     "output_type": "stream",
     "text": [
      "Mean Absolute Error over Test Data Set: 0.8425274743501022\n"
     ]
    }
   ],
   "source": [
    "print('Mean Absolute Error over Test Data Set: ' + \n",
    "      str(sum(abs(ecm_results[0][y_var] - ecm_results[0].delta_y_hat)) / len(ecm_results[0])))"
   ]
  },
  {
   "cell_type": "code",
   "execution_count": 143,
   "metadata": {},
   "outputs": [
    {
     "name": "stdout",
     "output_type": "stream",
     "text": [
      "                            OLS Regression Results                            \n",
      "==============================================================================\n",
      "Dep. Variable:       coupon_mid_price   R-squared:                       0.193\n",
      "Model:                            OLS   Adj. R-squared:                  0.192\n",
      "Method:                 Least Squares   F-statistic:                     3661.\n",
      "Date:                Fri, 19 Apr 2024   Prob (F-statistic):               0.00\n",
      "Time:                        15:51:34   Log-Likelihood:                -44383.\n",
      "No. Observations:               29998   AIC:                         8.877e+04\n",
      "Df Residuals:                   29995   BIC:                         8.880e+04\n",
      "Df Model:                           2                                         \n",
      "Covariance Type:                  HC0                                         \n",
      "=====================================================================================\n",
      "                        coef    std err          z      P>|z|      [0.025      0.975]\n",
      "-------------------------------------------------------------------------------------\n",
      "coconut_mid_price     0.5040      0.006     85.548      0.000       0.492       0.516\n",
      "disequilibrium       -0.0001      0.000     -0.734      0.463      -0.000       0.000\n",
      "const                 0.0024      0.007      0.339      0.735      -0.011       0.016\n",
      "==============================================================================\n",
      "Omnibus:                        4.779   Durbin-Watson:                   2.146\n",
      "Prob(Omnibus):                  0.092   Jarque-Bera (JB):                4.686\n",
      "Skew:                           0.017   Prob(JB):                       0.0960\n",
      "Kurtosis:                       2.950   Cond. No.                         47.1\n",
      "==============================================================================\n",
      "\n",
      "Notes:\n",
      "[1] Standard Errors are heteroscedasticity robust (HC0)\n"
     ]
    }
   ],
   "source": [
    "print(ecm_results[1].summary())"
   ]
  },
  {
   "cell_type": "code",
   "execution_count": null,
   "metadata": {},
   "outputs": [],
   "source": []
  },
  {
   "cell_type": "code",
   "execution_count": null,
   "metadata": {},
   "outputs": [],
   "source": []
  },
  {
   "cell_type": "code",
   "execution_count": null,
   "metadata": {},
   "outputs": [],
   "source": []
  },
  {
   "cell_type": "code",
   "execution_count": null,
   "metadata": {},
   "outputs": [],
   "source": []
  }
 ],
 "metadata": {
  "kernelspec": {
   "display_name": "imc_env",
   "language": "python",
   "name": "python3"
  },
  "language_info": {
   "codemirror_mode": {
    "name": "ipython",
    "version": 3
   },
   "file_extension": ".py",
   "mimetype": "text/x-python",
   "name": "python",
   "nbconvert_exporter": "python",
   "pygments_lexer": "ipython3",
   "version": "3.12.2"
  }
 },
 "nbformat": 4,
 "nbformat_minor": 2
}
