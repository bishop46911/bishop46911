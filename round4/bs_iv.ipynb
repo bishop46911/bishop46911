{
 "cells": [
  {
   "cell_type": "code",
   "execution_count": 1,
   "metadata": {},
   "outputs": [],
   "source": [
    "import pandas as pd\n",
    "import numpy as np\n",
    "import seaborn as sns\n",
    "import statsmodels.api as sm\n",
    "from statsmodels.api import OLS\n",
    "import matplotlib.pyplot as plt\n",
    "from sklearn.linear_model import LinearRegression\n",
    "from sklearn.metrics import mean_absolute_error, mean_squared_error, r2_score\n",
    "from sklearn.linear_model import Ridge\n",
    "from statsmodels.tsa.stattools import coint\n",
    "import functools\n",
    "import itertools\n",
    "from math import erf"
   ]
  },
  {
   "cell_type": "code",
   "execution_count": 8,
   "metadata": {},
   "outputs": [],
   "source": [
    "#initial vol 0.16 is solved using: fit_vol(0.1,10000,637.63), assuming at the money strike at time 0, with the given option premium at time 0\n",
    "def fun_BS_quick(S = 10000, K = 10000, vol = 0.16, T = 1, r = 0, q = 0, ReturnDelta = False): #vol is solved using: fit_vol(0.1,10000,637.63)\n",
    "\n",
    "    d1 = (np.log(S/K)+ (r+vol**2/2)*T)/vol/np.sqrt(T)\n",
    "    d2 = d1 - vol*np.sqrt(T)\n",
    "\n",
    "    normcdf = lambda x: (1 + erf(x/np.sqrt(2)))/2\n",
    "    N1 = normcdf(d1)\n",
    "    N2 = normcdf(d2)\n",
    "\n",
    "    px = S*N1 - K*np.exp((q-r)*T)*N2\n",
    "\n",
    "    if ReturnDelta:\n",
    "        return N1\n",
    "    else:\n",
    "        return px\n",
    "    \n",
    "def fit_vol(vol_fit = 0.10, S = 9990, px = 620.5, T = 1, step = 0.0001):\n",
    "    for i in range(30):\n",
    "        px_new = fun_BS_quick(S=S,vol = vol_fit, T=T)\n",
    "        #print('px_new',px_new)\n",
    "        #print('px',px)\n",
    "        if abs(px_new-px)<0.01:\n",
    "            #print(px,px_new)\n",
    "\n",
    "            break\n",
    "        vol_fit = vol_fit + (px - px_new)*step\n",
    "    return vol_fit"
   ]
  },
  {
   "cell_type": "code",
   "execution_count": 9,
   "metadata": {},
   "outputs": [
    {
     "data": {
      "text/plain": [
       "0.15999827732028848"
      ]
     },
     "execution_count": 9,
     "metadata": {},
     "output_type": "execute_result"
    }
   ],
   "source": [
    "fit_vol(0.1,10000,637.63)"
   ]
  },
  {
   "cell_type": "code",
   "execution_count": null,
   "metadata": {},
   "outputs": [],
   "source": []
  },
  {
   "cell_type": "code",
   "execution_count": 10,
   "metadata": {},
   "outputs": [],
   "source": [
    "def percentile_within_minmax(x):\n",
    "    if len(x) < 2:\n",
    "        return np.nan  # Not enough data to compute a range and percentile\n",
    "    min_val = np.min(x)\n",
    "    max_val = np.max(x)\n",
    "    last_val = x[-1]  # Use numpy indexing for last element\n",
    "    # Normalize last value within the min-max range\n",
    "    # Avoid division by zero if min and max are the same\n",
    "    if max_val != min_val:\n",
    "        percentile = (last_val - min_val) / (max_val - min_val) * 100\n",
    "    else:\n",
    "        percentile = 0  # All values are the same in the window\n",
    "    return percentile"
   ]
  },
  {
   "cell_type": "code",
   "execution_count": 5,
   "metadata": {},
   "outputs": [],
   "source": [
    "round = 4\n",
    "\n",
    "prices_day_1_df = pd.read_csv(f'../data/round-{round}-island-data-bottle/prices_round_{round}_day_1.csv', index_col='timestamp', sep=';')\n",
    "prices_day_2_df = pd.read_csv(f'../data/round-{round}-island-data-bottle/prices_round_{round}_day_2.csv', index_col='timestamp', sep=';')\n",
    "prices_day_3_df = pd.read_csv(f'../data/round-{round}-island-data-bottle/prices_round_{round}_day_3.csv', index_col='timestamp', sep=';')"
   ]
  },
  {
   "cell_type": "code",
   "execution_count": 6,
   "metadata": {},
   "outputs": [],
   "source": [
    "Data_df = pd.concat([prices_day_1_df,prices_day_2_df,prices_day_3_df],axis = 0)\n",
    "\n",
    "df_coconut_day_123 = Data_df.loc[Data_df['product']=='COCONUT'].rename(columns={'mid_price': 'coconut_mid_price'})[['day', 'coconut_mid_price']]\n",
    "df_coupon_day_123 = Data_df.loc[Data_df['product']=='COCONUT_COUPON'].rename(columns={'mid_price': 'coupon_mid_price'})[['day', 'coupon_mid_price']]\n",
    "\n",
    "df_all_mid_prices_day_123 = functools.reduce(lambda left, right: pd.merge(left, right, on=['timestamp', 'day']),\n",
    "                                                                                [df_coconut_day_123, df_coupon_day_123])\n",
    "   "
   ]
  },
  {
   "cell_type": "code",
   "execution_count": 11,
   "metadata": {},
   "outputs": [],
   "source": [
    "#when calculate the IV, we assume no impact to option price from S change, in order to solve IV\n",
    "df_all_mid_prices_day_123['Implied_Volatility'] = df_all_mid_prices_day_123.apply(lambda row: fit_vol(0.15, row['coconut_mid_price'] , row['coupon_mid_price'], 1), axis=1)\n",
    "#IV percentile (min max version)\n",
    "window_size = 250  # Define the window size\n",
    "df_all_mid_prices_day_123['IV_Percentile'] = df_all_mid_prices_day_123['Implied_Volatility'].rolling(window=window_size).apply(percentile_within_minmax, raw=True)\n",
    "df_all_mid_prices_day_123['IV_ema'] = df_all_mid_prices_day_123['Implied_Volatility'].ewm(span=20, adjust=False).mean()"
   ]
  },
  {
   "cell_type": "code",
   "execution_count": 12,
   "metadata": {},
   "outputs": [],
   "source": [
    "#HV\n",
    "# Calculate daily returns\n",
    "df_all_mid_prices_day_123['Returns'] = np.log(df_all_mid_prices_day_123['coconut_mid_price'] / df_all_mid_prices_day_123['coconut_mid_price'].shift(1))\n",
    "# df_all_mid_prices_day_123['Returns'].iloc[:10000].std()*np.sqrt(252)*100   #Another way to set up initial vol, and solve K\n",
    "df_all_mid_prices_day_123['HV21'] = df_all_mid_prices_day_123['Returns'].rolling(21).std()*np.sqrt(252)*100\n",
    "df_all_mid_prices_day_123['HV63'] = df_all_mid_prices_day_123['Returns'].rolling(63).std()*np.sqrt(252)*100\n",
    "df_all_mid_prices_day_123['HV126'] = df_all_mid_prices_day_123['Returns'].rolling(126).std()*np.sqrt(252)*100"
   ]
  },
  {
   "cell_type": "code",
   "execution_count": 28,
   "metadata": {},
   "outputs": [],
   "source": [
    "df_all_mid_prices_day_123['HV21_ema'] = df_all_mid_prices_day_123['Returns'].ewm(span=20, adjust=False).std()*np.sqrt(252)*100\n",
    "df_all_mid_prices_day_123['HV63_ema'] = df_all_mid_prices_day_123['Returns'].ewm(span=63, adjust=False).std()*np.sqrt(252)*100\n",
    "df_all_mid_prices_day_123['HV126_ema'] = df_all_mid_prices_day_123['Returns'].ewm(span=126, adjust=False).std()*np.sqrt(252)*100"
   ]
  },
  {
   "cell_type": "code",
   "execution_count": 29,
   "metadata": {},
   "outputs": [
    {
     "data": {
      "text/html": [
       "<div>\n",
       "<style scoped>\n",
       "    .dataframe tbody tr th:only-of-type {\n",
       "        vertical-align: middle;\n",
       "    }\n",
       "\n",
       "    .dataframe tbody tr th {\n",
       "        vertical-align: top;\n",
       "    }\n",
       "\n",
       "    .dataframe thead th {\n",
       "        text-align: right;\n",
       "    }\n",
       "</style>\n",
       "<table border=\"1\" class=\"dataframe\">\n",
       "  <thead>\n",
       "    <tr style=\"text-align: right;\">\n",
       "      <th></th>\n",
       "      <th>day</th>\n",
       "      <th>coconut_mid_price</th>\n",
       "      <th>coupon_mid_price</th>\n",
       "      <th>Implied_Volatility</th>\n",
       "      <th>IV_Percentile</th>\n",
       "      <th>IV_ema</th>\n",
       "      <th>Returns</th>\n",
       "      <th>HV21</th>\n",
       "      <th>HV63</th>\n",
       "      <th>HV126</th>\n",
       "      <th>HV21_ema</th>\n",
       "      <th>HV63_ema</th>\n",
       "      <th>HV126_ema</th>\n",
       "    </tr>\n",
       "    <tr>\n",
       "      <th>timestamp</th>\n",
       "      <th></th>\n",
       "      <th></th>\n",
       "      <th></th>\n",
       "      <th></th>\n",
       "      <th></th>\n",
       "      <th></th>\n",
       "      <th></th>\n",
       "      <th></th>\n",
       "      <th></th>\n",
       "      <th></th>\n",
       "      <th></th>\n",
       "      <th></th>\n",
       "      <th></th>\n",
       "    </tr>\n",
       "  </thead>\n",
       "  <tbody>\n",
       "    <tr>\n",
       "      <th>999500</th>\n",
       "      <td>3</td>\n",
       "      <td>9883.5</td>\n",
       "      <td>577.5</td>\n",
       "      <td>0.160034</td>\n",
       "      <td>50.000714</td>\n",
       "      <td>0.160495</td>\n",
       "      <td>-0.000051</td>\n",
       "      <td>0.171229</td>\n",
       "      <td>0.149255</td>\n",
       "      <td>0.147499</td>\n",
       "      <td>0.167804</td>\n",
       "      <td>0.158377</td>\n",
       "      <td>0.153986</td>\n",
       "    </tr>\n",
       "    <tr>\n",
       "      <th>999600</th>\n",
       "      <td>3</td>\n",
       "      <td>9884.5</td>\n",
       "      <td>577.5</td>\n",
       "      <td>0.159906</td>\n",
       "      <td>47.421928</td>\n",
       "      <td>0.160439</td>\n",
       "      <td>0.000101</td>\n",
       "      <td>0.165760</td>\n",
       "      <td>0.150478</td>\n",
       "      <td>0.147499</td>\n",
       "      <td>0.168746</td>\n",
       "      <td>0.158598</td>\n",
       "      <td>0.154106</td>\n",
       "    </tr>\n",
       "    <tr>\n",
       "      <th>999700</th>\n",
       "      <td>3</td>\n",
       "      <td>9883.5</td>\n",
       "      <td>575.5</td>\n",
       "      <td>0.159527</td>\n",
       "      <td>39.742611</td>\n",
       "      <td>0.160352</td>\n",
       "      <td>-0.000101</td>\n",
       "      <td>0.170149</td>\n",
       "      <td>0.151462</td>\n",
       "      <td>0.148117</td>\n",
       "      <td>0.167304</td>\n",
       "      <td>0.158597</td>\n",
       "      <td>0.154218</td>\n",
       "    </tr>\n",
       "    <tr>\n",
       "      <th>999800</th>\n",
       "      <td>3</td>\n",
       "      <td>9884.0</td>\n",
       "      <td>575.5</td>\n",
       "      <td>0.159463</td>\n",
       "      <td>38.453818</td>\n",
       "      <td>0.160268</td>\n",
       "      <td>0.000051</td>\n",
       "      <td>0.167419</td>\n",
       "      <td>0.151854</td>\n",
       "      <td>0.148117</td>\n",
       "      <td>0.161915</td>\n",
       "      <td>0.156828</td>\n",
       "      <td>0.153340</td>\n",
       "    </tr>\n",
       "    <tr>\n",
       "      <th>999900</th>\n",
       "      <td>3</td>\n",
       "      <td>9882.5</td>\n",
       "      <td>575.5</td>\n",
       "      <td>0.159654</td>\n",
       "      <td>42.319601</td>\n",
       "      <td>0.160209</td>\n",
       "      <td>-0.000152</td>\n",
       "      <td>0.175742</td>\n",
       "      <td>0.154313</td>\n",
       "      <td>0.149553</td>\n",
       "      <td>0.169063</td>\n",
       "      <td>0.159894</td>\n",
       "      <td>0.155075</td>\n",
       "    </tr>\n",
       "  </tbody>\n",
       "</table>\n",
       "</div>"
      ],
      "text/plain": [
       "           day  coconut_mid_price  coupon_mid_price  Implied_Volatility  \\\n",
       "timestamp                                                                 \n",
       "999500       3             9883.5             577.5            0.160034   \n",
       "999600       3             9884.5             577.5            0.159906   \n",
       "999700       3             9883.5             575.5            0.159527   \n",
       "999800       3             9884.0             575.5            0.159463   \n",
       "999900       3             9882.5             575.5            0.159654   \n",
       "\n",
       "           IV_Percentile    IV_ema   Returns      HV21      HV63     HV126  \\\n",
       "timestamp                                                                    \n",
       "999500         50.000714  0.160495 -0.000051  0.171229  0.149255  0.147499   \n",
       "999600         47.421928  0.160439  0.000101  0.165760  0.150478  0.147499   \n",
       "999700         39.742611  0.160352 -0.000101  0.170149  0.151462  0.148117   \n",
       "999800         38.453818  0.160268  0.000051  0.167419  0.151854  0.148117   \n",
       "999900         42.319601  0.160209 -0.000152  0.175742  0.154313  0.149553   \n",
       "\n",
       "           HV21_ema  HV63_ema  HV126_ema  \n",
       "timestamp                                 \n",
       "999500     0.167804  0.158377   0.153986  \n",
       "999600     0.168746  0.158598   0.154106  \n",
       "999700     0.167304  0.158597   0.154218  \n",
       "999800     0.161915  0.156828   0.153340  \n",
       "999900     0.169063  0.159894   0.155075  "
      ]
     },
     "execution_count": 29,
     "metadata": {},
     "output_type": "execute_result"
    }
   ],
   "source": [
    "df_all_mid_prices_day_123.tail()"
   ]
  },
  {
   "cell_type": "code",
   "execution_count": 34,
   "metadata": {},
   "outputs": [
    {
     "data": {
      "text/plain": [
       "timestamp\n",
       "999500   -0.000013\n",
       "999600   -0.000002\n",
       "999700   -0.000012\n",
       "999800   -0.000006\n",
       "999900   -0.000020\n",
       "Name: Returns, dtype: float64"
      ]
     },
     "execution_count": 34,
     "metadata": {},
     "output_type": "execute_result"
    }
   ],
   "source": [
    "(df_all_mid_prices_day_123['Returns'].ewm(span=20, adjust=False).mean()).tail()"
   ]
  },
  {
   "cell_type": "code",
   "execution_count": 35,
   "metadata": {},
   "outputs": [
    {
     "data": {
      "text/plain": [
       "timestamp\n",
       "999500   -3.795073e-06\n",
       "999600   -5.148018e-07\n",
       "999700   -3.660390e-06\n",
       "999800   -1.965125e-06\n",
       "999900   -6.646588e-06\n",
       "Name: Returns, dtype: float64"
      ]
     },
     "execution_count": 35,
     "metadata": {},
     "output_type": "execute_result"
    }
   ],
   "source": [
    "(df_all_mid_prices_day_123['Returns'].ewm(span=63, adjust=False).mean()).tail()"
   ]
  },
  {
   "cell_type": "code",
   "execution_count": 36,
   "metadata": {},
   "outputs": [
    {
     "data": {
      "text/plain": [
       "timestamp\n",
       "999500   -9.304928e-07\n",
       "999600    6.774459e-07\n",
       "999700   -9.265078e-07\n",
       "999800   -1.152543e-07\n",
       "999900   -2.503549e-06\n",
       "Name: Returns, dtype: float64"
      ]
     },
     "execution_count": 36,
     "metadata": {},
     "output_type": "execute_result"
    }
   ],
   "source": [
    "(df_all_mid_prices_day_123['Returns'].ewm(span=126, adjust=False).mean()).tail()"
   ]
  },
  {
   "cell_type": "code",
   "execution_count": 15,
   "metadata": {},
   "outputs": [
    {
     "data": {
      "text/plain": [
       "0.15911781070657252"
      ]
     },
     "execution_count": 15,
     "metadata": {},
     "output_type": "execute_result"
    }
   ],
   "source": [
    "df_all_mid_prices_day_123['Implied_Volatility'].mean()"
   ]
  },
  {
   "cell_type": "code",
   "execution_count": 53,
   "metadata": {},
   "outputs": [],
   "source": [
    "lower_quantiles = []\n",
    "lower_q = [0.1, 0.125, 0.15, 0.175, 0.2, 0.225, 0.25, 0.275, 0.3, 0.325, 0.35, 0.375, 0.4]\n",
    "for q in lower_q:\n",
    "    #print(q)\n",
    "    lower_quantiles.append(df_all_mid_prices_day_123['Implied_Volatility'].quantile(q))"
   ]
  },
  {
   "cell_type": "code",
   "execution_count": 54,
   "metadata": {},
   "outputs": [],
   "source": [
    "upper_quantiles = []\n",
    "upper_q = sorted([1-x for x in lower_q])\n",
    "for q in upper_q:\n",
    "    #print(q)\n",
    "    upper_quantiles.append(df_all_mid_prices_day_123['Implied_Volatility'].quantile(q))"
   ]
  },
  {
   "cell_type": "code",
   "execution_count": 55,
   "metadata": {},
   "outputs": [
    {
     "data": {
      "text/plain": [
       "(13, 13)"
      ]
     },
     "execution_count": 55,
     "metadata": {},
     "output_type": "execute_result"
    }
   ],
   "source": [
    "len(lower_quantiles), len(upper_quantiles)"
   ]
  },
  {
   "cell_type": "code",
   "execution_count": 57,
   "metadata": {},
   "outputs": [
    {
     "data": {
      "text/plain": [
       "[0.1548126483102763,\n",
       " 0.15524564478925557,\n",
       " 0.15559389236534613,\n",
       " 0.15593730205783163,\n",
       " 0.15627209500721972,\n",
       " 0.15654949361399448,\n",
       " 0.15680083271943834,\n",
       " 0.157015403816229,\n",
       " 0.157224422027324,\n",
       " 0.15743515099803368,\n",
       " 0.15766677190957712,\n",
       " 0.15787996694243617,\n",
       " 0.15811622787186605]"
      ]
     },
     "execution_count": 57,
     "metadata": {},
     "output_type": "execute_result"
    }
   ],
   "source": [
    "lower_quantiles"
   ]
  },
  {
   "cell_type": "code",
   "execution_count": 58,
   "metadata": {},
   "outputs": [
    {
     "data": {
      "text/plain": [
       "[0.15992161636675647,\n",
       " 0.16015348901861012,\n",
       " 0.16038658352235557,\n",
       " 0.16064647332822493,\n",
       " 0.16092613458422378,\n",
       " 0.1612014438414916,\n",
       " 0.16148954535368149,\n",
       " 0.1618132410062684,\n",
       " 0.16213397937019522,\n",
       " 0.16248968170571057,\n",
       " 0.1628304893697475,\n",
       " 0.16321238977320887,\n",
       " 0.16371509536720638]"
      ]
     },
     "execution_count": 58,
     "metadata": {},
     "output_type": "execute_result"
    }
   ],
   "source": [
    "upper_quantiles"
   ]
  },
  {
   "cell_type": "code",
   "execution_count": null,
   "metadata": {},
   "outputs": [],
   "source": []
  }
 ],
 "metadata": {
  "kernelspec": {
   "display_name": "imc_env",
   "language": "python",
   "name": "python3"
  },
  "language_info": {
   "codemirror_mode": {
    "name": "ipython",
    "version": 3
   },
   "file_extension": ".py",
   "mimetype": "text/x-python",
   "name": "python",
   "nbconvert_exporter": "python",
   "pygments_lexer": "ipython3",
   "version": "3.12.2"
  }
 },
 "nbformat": 4,
 "nbformat_minor": 2
}
